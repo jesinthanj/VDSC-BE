{
 "cells": [
  {
   "cell_type": "code",
   "execution_count": 3,
   "id": "f7be46fd",
   "metadata": {
    "id": "8bfec274"
   },
   "outputs": [],
   "source": [
    "import pandas as pd"
   ]
  },
  {
   "cell_type": "code",
   "execution_count": 2,
   "id": "55f317ee",
   "metadata": {
    "id": "55f317ee"
   },
   "outputs": [],
   "source": [
    "import tensorflow as tf\n",
    "import numpy as np\n",
    "import matplotlib.pyplot as plt\n",
    "import sklearn.metrics\n",
    "import pickle"
   ]
  },
  {
   "cell_type": "code",
   "execution_count": 3,
   "id": "e1d0232f",
   "metadata": {
    "colab": {
     "base_uri": "https://localhost:8080/"
    },
    "id": "e1d0232f",
    "outputId": "138abf80-de9c-4d42-d7e9-d1f70451b6d9"
   },
   "outputs": [
    {
     "name": "stderr",
     "output_type": "stream",
     "text": [
      "WARNING:tensorflow:From <ipython-input-3-0ca9de4ad6af>:3: is_gpu_available (from tensorflow.python.framework.test_util) is deprecated and will be removed in a future version.\n",
      "Instructions for updating:\n",
      "Use `tf.config.list_physical_devices('GPU')` instead.\n"
     ]
    },
    {
     "name": "stdout",
     "output_type": "stream",
     "text": [
      "Tensorlfow version:  2.12.0\n",
      "Eager mode:  True\n",
      "GPU is available\n"
     ]
    }
   ],
   "source": [
    "print(\"Tensorlfow version: \", tf.__version__)\n",
    "print(\"Eager mode: \", tf.executing_eagerly())\n",
    "print(\"GPU is\", \"available\" if tf.test.is_gpu_available() else \"NOT AVAILABLE\")"
   ]
  },
  {
   "cell_type": "code",
   "execution_count": 4,
   "id": "45cad6e1",
   "metadata": {
    "id": "45cad6e1",
    "scrolled": true
   },
   "outputs": [],
   "source": [
    "# reading the training CSV file\n",
    "data = pd.read_csv('vulnerability_train.csv')\n",
    "# displaying the contents of the CSV file\n"
   ]
  },
  {
   "cell_type": "code",
   "execution_count": 5,
   "id": "0c3f02d7",
   "metadata": {
    "colab": {
     "base_uri": "https://localhost:8080/",
     "height": 332
    },
    "id": "0c3f02d7",
    "outputId": "50463ecc-ccdb-48af-a6b0-8766a06fde71",
    "scrolled": false
   },
   "outputs": [
    {
     "data": {
      "text/html": [
       "<div>\n",
       "<style scoped>\n",
       "    .dataframe tbody tr th:only-of-type {\n",
       "        vertical-align: middle;\n",
       "    }\n",
       "\n",
       "    .dataframe tbody tr th {\n",
       "        vertical-align: top;\n",
       "    }\n",
       "\n",
       "    .dataframe thead th {\n",
       "        text-align: right;\n",
       "    }\n",
       "</style>\n",
       "<table border=\"1\" class=\"dataframe\">\n",
       "  <thead>\n",
       "    <tr style=\"text-align: right;\">\n",
       "      <th></th>\n",
       "      <th>source_code</th>\n",
       "      <th>CWE114</th>\n",
       "      <th>CWE134</th>\n",
       "      <th>CWE190</th>\n",
       "      <th>CWE196</th>\n",
       "      <th>CWE319</th>\n",
       "      <th>CWE369</th>\n",
       "      <th>CWE398</th>\n",
       "      <th>CWE416</th>\n",
       "      <th>CWE427</th>\n",
       "      <th>CWE469</th>\n",
       "      <th>CWE506</th>\n",
       "      <th>CWE605</th>\n",
       "      <th>CWE606</th>\n",
       "      <th>CWE666</th>\n",
       "      <th>CWE680</th>\n",
       "      <th>CWE761</th>\n",
       "      <th>CWE789</th>\n",
       "    </tr>\n",
       "  </thead>\n",
       "  <tbody>\n",
       "    <tr>\n",
       "      <th>0</th>\n",
       "      <td>char * data ;\\nchar dataBuffer [ 250 ] = \"PATH...</td>\n",
       "      <td>0.0</td>\n",
       "      <td>0.0</td>\n",
       "      <td>0.0</td>\n",
       "      <td>0.0</td>\n",
       "      <td>0.0</td>\n",
       "      <td>0.0</td>\n",
       "      <td>0.0</td>\n",
       "      <td>0.0</td>\n",
       "      <td>1.0</td>\n",
       "      <td>0.0</td>\n",
       "      <td>0.0</td>\n",
       "      <td>0.0</td>\n",
       "      <td>0.0</td>\n",
       "      <td>0.0</td>\n",
       "      <td>0.0</td>\n",
       "      <td>0.0</td>\n",
       "      <td>0.0</td>\n",
       "    </tr>\n",
       "    <tr>\n",
       "      <th>1</th>\n",
       "      <td>void CWE369_Divide_by_Zero__int_listen_socket_...</td>\n",
       "      <td>0.0</td>\n",
       "      <td>0.0</td>\n",
       "      <td>0.0</td>\n",
       "      <td>0.0</td>\n",
       "      <td>0.0</td>\n",
       "      <td>1.0</td>\n",
       "      <td>0.0</td>\n",
       "      <td>0.0</td>\n",
       "      <td>0.0</td>\n",
       "      <td>0.0</td>\n",
       "      <td>0.0</td>\n",
       "      <td>0.0</td>\n",
       "      <td>0.0</td>\n",
       "      <td>0.0</td>\n",
       "      <td>0.0</td>\n",
       "      <td>0.0</td>\n",
       "      <td>0.0</td>\n",
       "    </tr>\n",
       "    <tr>\n",
       "      <th>2</th>\n",
       "      <td>void CWE369_Divide_by_Zero__int_listen_socket_...</td>\n",
       "      <td>0.0</td>\n",
       "      <td>0.0</td>\n",
       "      <td>0.0</td>\n",
       "      <td>0.0</td>\n",
       "      <td>0.0</td>\n",
       "      <td>1.0</td>\n",
       "      <td>0.0</td>\n",
       "      <td>0.0</td>\n",
       "      <td>0.0</td>\n",
       "      <td>0.0</td>\n",
       "      <td>0.0</td>\n",
       "      <td>0.0</td>\n",
       "      <td>0.0</td>\n",
       "      <td>0.0</td>\n",
       "      <td>0.0</td>\n",
       "      <td>0.0</td>\n",
       "      <td>0.0</td>\n",
       "    </tr>\n",
       "    <tr>\n",
       "      <th>3</th>\n",
       "      <td>void CWE369_Divide_by_Zero__int_listen_socket_...</td>\n",
       "      <td>0.0</td>\n",
       "      <td>0.0</td>\n",
       "      <td>0.0</td>\n",
       "      <td>0.0</td>\n",
       "      <td>0.0</td>\n",
       "      <td>1.0</td>\n",
       "      <td>0.0</td>\n",
       "      <td>0.0</td>\n",
       "      <td>0.0</td>\n",
       "      <td>0.0</td>\n",
       "      <td>0.0</td>\n",
       "      <td>0.0</td>\n",
       "      <td>0.0</td>\n",
       "      <td>0.0</td>\n",
       "      <td>0.0</td>\n",
       "      <td>0.0</td>\n",
       "      <td>0.0</td>\n",
       "    </tr>\n",
       "    <tr>\n",
       "      <th>4</th>\n",
       "      <td>void CWE319_Cleartext_Tx_Sensitive_Info__w32_c...</td>\n",
       "      <td>0.0</td>\n",
       "      <td>0.0</td>\n",
       "      <td>0.0</td>\n",
       "      <td>0.0</td>\n",
       "      <td>1.0</td>\n",
       "      <td>0.0</td>\n",
       "      <td>0.0</td>\n",
       "      <td>0.0</td>\n",
       "      <td>0.0</td>\n",
       "      <td>0.0</td>\n",
       "      <td>0.0</td>\n",
       "      <td>0.0</td>\n",
       "      <td>0.0</td>\n",
       "      <td>0.0</td>\n",
       "      <td>0.0</td>\n",
       "      <td>0.0</td>\n",
       "      <td>0.0</td>\n",
       "    </tr>\n",
       "  </tbody>\n",
       "</table>\n",
       "</div>"
      ],
      "text/plain": [
       "                                         source_code  CWE114  CWE134  CWE190  \\\n",
       "0  char * data ;\\nchar dataBuffer [ 250 ] = \"PATH...     0.0     0.0     0.0   \n",
       "1  void CWE369_Divide_by_Zero__int_listen_socket_...     0.0     0.0     0.0   \n",
       "2  void CWE369_Divide_by_Zero__int_listen_socket_...     0.0     0.0     0.0   \n",
       "3  void CWE369_Divide_by_Zero__int_listen_socket_...     0.0     0.0     0.0   \n",
       "4  void CWE319_Cleartext_Tx_Sensitive_Info__w32_c...     0.0     0.0     0.0   \n",
       "\n",
       "   CWE196  CWE319  CWE369  CWE398  CWE416  CWE427  CWE469  CWE506  CWE605  \\\n",
       "0     0.0     0.0     0.0     0.0     0.0     1.0     0.0     0.0     0.0   \n",
       "1     0.0     0.0     1.0     0.0     0.0     0.0     0.0     0.0     0.0   \n",
       "2     0.0     0.0     1.0     0.0     0.0     0.0     0.0     0.0     0.0   \n",
       "3     0.0     0.0     1.0     0.0     0.0     0.0     0.0     0.0     0.0   \n",
       "4     0.0     1.0     0.0     0.0     0.0     0.0     0.0     0.0     0.0   \n",
       "\n",
       "   CWE606  CWE666  CWE680  CWE761  CWE789  \n",
       "0     0.0     0.0     0.0     0.0     0.0  \n",
       "1     0.0     0.0     0.0     0.0     0.0  \n",
       "2     0.0     0.0     0.0     0.0     0.0  \n",
       "3     0.0     0.0     0.0     0.0     0.0  \n",
       "4     0.0     0.0     0.0     0.0     0.0  "
      ]
     },
     "execution_count": 5,
     "metadata": {},
     "output_type": "execute_result"
    }
   ],
   "source": [
    "data.head()"
   ]
  },
  {
   "cell_type": "code",
   "execution_count": 6,
   "id": "c5f9ca52",
   "metadata": {
    "colab": {
     "base_uri": "https://localhost:8080/"
    },
    "id": "c5f9ca52",
    "outputId": "e15188d3-95d7-47b7-d7d9-6bd63d3fa649"
   },
   "outputs": [
    {
     "name": "stdout",
     "output_type": "stream",
     "text": [
      "Index(['source_code', 'CWE114', 'CWE134', 'CWE190', 'CWE196', 'CWE319',\n",
      "       'CWE369', 'CWE398', 'CWE416', 'CWE427', 'CWE469', 'CWE506', 'CWE605',\n",
      "       'CWE606', 'CWE666', 'CWE680', 'CWE761', 'CWE789'],\n",
      "      dtype='object')\n"
     ]
    }
   ],
   "source": [
    "columns = data.columns\n",
    "print(columns)\n",
    "#data= data.replace({'CWE-119':{'FALSE': False, 'TRUE':True}})"
   ]
  },
  {
   "cell_type": "markdown",
   "id": "0b20f87e",
   "metadata": {
    "id": "1Vh2zcEvbEMK"
   },
   "source": [
    "data_cropped = data.loc[:,['CWE-119', ' CWE-120', 'CWE-469', 'CWE-476', 'CWE-other','functionSource']]"
   ]
  },
  {
   "cell_type": "markdown",
   "id": "f74b331b",
   "metadata": {
    "id": "yOfrbyAMbcbF"
   },
   "source": [
    "#data_cropped.head(10)\n",
    "columns = list(data_cropped.columns)\n",
    "data_cropped = data_cropped.replace({True:\"TRUE\",False:\"FALSE\"})\n",
    "for column in columns[:-1]:\n",
    "    data_cropped[column] = data_cropped[column].map(str.upper)"
   ]
  },
  {
   "cell_type": "code",
   "execution_count": 7,
   "id": "-TU60kCdeuCk",
   "metadata": {
    "id": "-TU60kCdeuCk"
   },
   "outputs": [],
   "source": [
    "data=data.sample(frac=1)"
   ]
  },
  {
   "cell_type": "code",
   "execution_count": 28,
   "id": "oXi29C5Scgak",
   "metadata": {
    "colab": {
     "base_uri": "https://localhost:8080/",
     "height": 206
    },
    "id": "oXi29C5Scgak",
    "outputId": "cee6dd2f-8bfd-4820-8c04-b25d8ff56ab8"
   },
   "outputs": [
    {
     "data": {
      "text/html": [
       "<div>\n",
       "<style scoped>\n",
       "    .dataframe tbody tr th:only-of-type {\n",
       "        vertical-align: middle;\n",
       "    }\n",
       "\n",
       "    .dataframe tbody tr th {\n",
       "        vertical-align: top;\n",
       "    }\n",
       "\n",
       "    .dataframe thead th {\n",
       "        text-align: right;\n",
       "    }\n",
       "</style>\n",
       "<table border=\"1\" class=\"dataframe\">\n",
       "  <thead>\n",
       "    <tr style=\"text-align: right;\">\n",
       "      <th></th>\n",
       "      <th>source_code</th>\n",
       "      <th>CWE114</th>\n",
       "      <th>CWE134</th>\n",
       "      <th>CWE190</th>\n",
       "      <th>CWE196</th>\n",
       "      <th>CWE319</th>\n",
       "      <th>CWE369</th>\n",
       "      <th>CWE398</th>\n",
       "      <th>CWE416</th>\n",
       "      <th>CWE427</th>\n",
       "      <th>CWE469</th>\n",
       "      <th>CWE506</th>\n",
       "      <th>CWE605</th>\n",
       "      <th>CWE606</th>\n",
       "      <th>CWE666</th>\n",
       "      <th>CWE680</th>\n",
       "      <th>CWE761</th>\n",
       "      <th>CWE789</th>\n",
       "    </tr>\n",
       "  </thead>\n",
       "  <tbody>\n",
       "    <tr>\n",
       "      <th>17210</th>\n",
       "      <td>static int CVE_2014_2099_PATCHED_msrle_decode_...</td>\n",
       "      <td>0.0</td>\n",
       "      <td>0.0</td>\n",
       "      <td>0.0</td>\n",
       "      <td>0.0</td>\n",
       "      <td>0.0</td>\n",
       "      <td>0.0</td>\n",
       "      <td>0.0</td>\n",
       "      <td>0.0</td>\n",
       "      <td>1.0</td>\n",
       "      <td>0.0</td>\n",
       "      <td>0.0</td>\n",
       "      <td>0.0</td>\n",
       "      <td>0.0</td>\n",
       "      <td>0.0</td>\n",
       "      <td>0.0</td>\n",
       "      <td>0.0</td>\n",
       "      <td>0.0</td>\n",
       "    </tr>\n",
       "    <tr>\n",
       "      <th>1055</th>\n",
       "      <td>static TransactionId RecordTransactionCommit()...</td>\n",
       "      <td>1.0</td>\n",
       "      <td>0.0</td>\n",
       "      <td>0.0</td>\n",
       "      <td>0.0</td>\n",
       "      <td>0.0</td>\n",
       "      <td>0.0</td>\n",
       "      <td>0.0</td>\n",
       "      <td>0.0</td>\n",
       "      <td>0.0</td>\n",
       "      <td>0.0</td>\n",
       "      <td>0.0</td>\n",
       "      <td>0.0</td>\n",
       "      <td>0.0</td>\n",
       "      <td>0.0</td>\n",
       "      <td>0.0</td>\n",
       "      <td>0.0</td>\n",
       "      <td>0.0</td>\n",
       "    </tr>\n",
       "    <tr>\n",
       "      <th>10980</th>\n",
       "      <td>void CWE789_Uncontrolled_Mem_Alloc__malloc_cha...</td>\n",
       "      <td>0.0</td>\n",
       "      <td>0.0</td>\n",
       "      <td>0.0</td>\n",
       "      <td>0.0</td>\n",
       "      <td>0.0</td>\n",
       "      <td>0.0</td>\n",
       "      <td>0.0</td>\n",
       "      <td>0.0</td>\n",
       "      <td>0.0</td>\n",
       "      <td>0.0</td>\n",
       "      <td>0.0</td>\n",
       "      <td>0.0</td>\n",
       "      <td>0.0</td>\n",
       "      <td>0.0</td>\n",
       "      <td>0.0</td>\n",
       "      <td>0.0</td>\n",
       "      <td>1.0</td>\n",
       "    </tr>\n",
       "    <tr>\n",
       "      <th>9146</th>\n",
       "      <td>static void goodB2G()\\nchar * data ;\\nchar dat...</td>\n",
       "      <td>0.0</td>\n",
       "      <td>0.0</td>\n",
       "      <td>0.0</td>\n",
       "      <td>0.0</td>\n",
       "      <td>0.0</td>\n",
       "      <td>0.0</td>\n",
       "      <td>0.0</td>\n",
       "      <td>0.0</td>\n",
       "      <td>0.0</td>\n",
       "      <td>0.0</td>\n",
       "      <td>0.0</td>\n",
       "      <td>0.0</td>\n",
       "      <td>1.0</td>\n",
       "      <td>0.0</td>\n",
       "      <td>0.0</td>\n",
       "      <td>0.0</td>\n",
       "      <td>0.0</td>\n",
       "    </tr>\n",
       "    <tr>\n",
       "      <th>3063</th>\n",
       "      <td>unsigned int avio_rb32(AVIOContext *s)\\nunsign...</td>\n",
       "      <td>0.0</td>\n",
       "      <td>1.0</td>\n",
       "      <td>0.0</td>\n",
       "      <td>0.0</td>\n",
       "      <td>0.0</td>\n",
       "      <td>0.0</td>\n",
       "      <td>0.0</td>\n",
       "      <td>0.0</td>\n",
       "      <td>0.0</td>\n",
       "      <td>0.0</td>\n",
       "      <td>0.0</td>\n",
       "      <td>0.0</td>\n",
       "      <td>0.0</td>\n",
       "      <td>0.0</td>\n",
       "      <td>0.0</td>\n",
       "      <td>0.0</td>\n",
       "      <td>0.0</td>\n",
       "    </tr>\n",
       "  </tbody>\n",
       "</table>\n",
       "</div>"
      ],
      "text/plain": [
       "                                             source_code  CWE114  CWE134  \\\n",
       "17210  static int CVE_2014_2099_PATCHED_msrle_decode_...     0.0     0.0   \n",
       "1055   static TransactionId RecordTransactionCommit()...     1.0     0.0   \n",
       "10980  void CWE789_Uncontrolled_Mem_Alloc__malloc_cha...     0.0     0.0   \n",
       "9146   static void goodB2G()\\nchar * data ;\\nchar dat...     0.0     0.0   \n",
       "3063   unsigned int avio_rb32(AVIOContext *s)\\nunsign...     0.0     1.0   \n",
       "\n",
       "       CWE190  CWE196  CWE319  CWE369  CWE398  CWE416  CWE427  CWE469  CWE506  \\\n",
       "17210     0.0     0.0     0.0     0.0     0.0     0.0     1.0     0.0     0.0   \n",
       "1055      0.0     0.0     0.0     0.0     0.0     0.0     0.0     0.0     0.0   \n",
       "10980     0.0     0.0     0.0     0.0     0.0     0.0     0.0     0.0     0.0   \n",
       "9146      0.0     0.0     0.0     0.0     0.0     0.0     0.0     0.0     0.0   \n",
       "3063      0.0     0.0     0.0     0.0     0.0     0.0     0.0     0.0     0.0   \n",
       "\n",
       "       CWE605  CWE606  CWE666  CWE680  CWE761  CWE789  \n",
       "17210     0.0     0.0     0.0     0.0     0.0     0.0  \n",
       "1055      0.0     0.0     0.0     0.0     0.0     0.0  \n",
       "10980     0.0     0.0     0.0     0.0     0.0     1.0  \n",
       "9146      0.0     1.0     0.0     0.0     0.0     0.0  \n",
       "3063      0.0     0.0     0.0     0.0     0.0     0.0  "
      ]
     },
     "execution_count": 28,
     "metadata": {},
     "output_type": "execute_result"
    }
   ],
   "source": [
    "data.head()"
   ]
  },
  {
   "cell_type": "code",
   "execution_count": 17,
   "id": "b24da556",
   "metadata": {},
   "outputs": [],
   "source": [
    "data=data.dropna()"
   ]
  },
  {
   "cell_type": "code",
   "execution_count": 9,
   "id": "8d94ec1f",
   "metadata": {
    "colab": {
     "base_uri": "https://localhost:8080/"
    },
    "id": "8d94ec1f",
    "outputId": "065024db-35a5-439e-fa15-029d14a8cc57"
   },
   "outputs": [
    {
     "name": "stdout",
     "output_type": "stream",
     "text": [
      "Random seed is: 71926\n"
     ]
    }
   ],
   "source": [
    "myrand=71926\n",
    "np.random.seed(myrand)\n",
    "tf.random.set_seed(myrand)\n",
    "print(\"Random seed is:\",myrand)"
   ]
  },
  {
   "cell_type": "code",
   "execution_count": 10,
   "id": "e5fad57c",
   "metadata": {
    "id": "e5fad57c"
   },
   "outputs": [],
   "source": [
    "### Set the global value\n",
    "WORDS_SIZE=10000\n",
    "INPUT_SIZE=500\n",
    "NUM_CLASSES=2\n",
    "MODEL_NUM=0\n",
    "EPOCHS=10"
   ]
  },
  {
   "cell_type": "code",
   "execution_count": null,
   "id": "7fff6f06",
   "metadata": {},
   "outputs": [],
   "source": []
  },
  {
   "cell_type": "code",
   "execution_count": 14,
   "id": "cd856fb8",
   "metadata": {},
   "outputs": [],
   "source": [
    "data['source_code'] = data['source_code'].astype(str)"
   ]
  },
  {
   "cell_type": "code",
   "execution_count": 19,
   "id": "5dc9c20a",
   "metadata": {},
   "outputs": [],
   "source": [
    "X=data['source_code']\n",
    "y=np.array([data['CWE114'].values,data['CWE134'].values,data['CWE190'].values,data['CWE196'].values,data['CWE319'].values,data['CWE369'].values,data['CWE398'].values,data['CWE416'].values,data['CWE427'].values,data['CWE469'].values,data['CWE506'].values,data['CWE605'].values,data['CWE606'].values,data['CWE666'].values,data['CWE680'].values,data['CWE761'].values,data['CWE789'].values])"
   ]
  },
  {
   "cell_type": "code",
   "execution_count": 22,
   "id": "7188248f",
   "metadata": {},
   "outputs": [
    {
     "data": {
      "text/plain": [
       "(17724,)"
      ]
     },
     "execution_count": 22,
     "metadata": {},
     "output_type": "execute_result"
    }
   ],
   "source": [
    "X.shape"
   ]
  },
  {
   "cell_type": "code",
   "execution_count": 25,
   "id": "082ccf45",
   "metadata": {},
   "outputs": [
    {
     "data": {
      "text/plain": [
       "(17724, 17)"
      ]
     },
     "execution_count": 25,
     "metadata": {},
     "output_type": "execute_result"
    }
   ],
   "source": [
    "y.shape"
   ]
  },
  {
   "cell_type": "code",
   "execution_count": 24,
   "id": "5e66db3e",
   "metadata": {},
   "outputs": [],
   "source": [
    "y = y.T"
   ]
  },
  {
   "cell_type": "code",
   "execution_count": 26,
   "id": "7e8d5a24",
   "metadata": {
    "id": "7e8d5a24"
   },
   "outputs": [],
   "source": [
    "data.to_pickle(\"vulnerability_train.pickle\")"
   ]
  },
  {
   "cell_type": "code",
   "execution_count": 27,
   "id": "176de5cb",
   "metadata": {
    "id": "176de5cb"
   },
   "outputs": [],
   "source": [
    "data=pd.read_pickle(\"vulnerability_train.pickle\")"
   ]
  },
  {
   "cell_type": "code",
   "execution_count": 29,
   "id": "f17e8a38",
   "metadata": {
    "id": "f17e8a38"
   },
   "outputs": [],
   "source": [
    "x_all = data['source_code']"
   ]
  },
  {
   "cell_type": "code",
   "execution_count": 30,
   "id": "4c1fe783",
   "metadata": {},
   "outputs": [],
   "source": [
    "from sklearn.model_selection import train_test_split"
   ]
  },
  {
   "cell_type": "code",
   "execution_count": 50,
   "id": "65d00cc7",
   "metadata": {},
   "outputs": [],
   "source": []
  },
  {
   "cell_type": "code",
   "execution_count": 31,
   "id": "4d1dc62c",
   "metadata": {},
   "outputs": [
    {
     "name": "stdout",
     "output_type": "stream",
     "text": [
      "Shape of X: (17724,)\n",
      "Shape of y: (17724, 17)\n"
     ]
    }
   ],
   "source": [
    "print(\"Shape of X:\", X.shape)\n",
    "print(\"Shape of y:\", y.shape)"
   ]
  },
  {
   "cell_type": "code",
   "execution_count": 35,
   "id": "e191f836",
   "metadata": {},
   "outputs": [
    {
     "data": {
      "text/plain": [
       "Index(['CWE114', 'CWE134', 'CWE190', 'CWE196', 'CWE319', 'CWE369', 'CWE398',\n",
       "       'CWE416', 'CWE427', 'CWE469', 'CWE506', 'CWE605', 'CWE606', 'CWE666',\n",
       "       'CWE680', 'CWE761', 'CWE789'],\n",
       "      dtype='object')"
      ]
     },
     "execution_count": 35,
     "metadata": {},
     "output_type": "execute_result"
    }
   ],
   "source": [
    "data.columns[1:]"
   ]
  },
  {
   "cell_type": "code",
   "execution_count": 36,
   "id": "45943364",
   "metadata": {},
   "outputs": [],
   "source": [
    "y_train=[]\n",
    "#print(data.iloc[:,2])\n",
    "data = data.ffill()\n",
    "columns = data.columns[1:]\n",
    "for column in columns:\n",
    "    y_train.append(tf.keras.utils.to_categorical(list(data[column].values), num_classes=NUM_CLASSES).astype(np.int64))\n",
    "y_train = np.array(y_train)"
   ]
  },
  {
   "cell_type": "code",
   "execution_count": 37,
   "id": "3a6f94a3",
   "metadata": {},
   "outputs": [
    {
     "data": {
      "text/plain": [
       "(17, 17724, 2)"
      ]
     },
     "execution_count": 37,
     "metadata": {},
     "output_type": "execute_result"
    }
   ],
   "source": [
    "y_train.shape"
   ]
  },
  {
   "cell_type": "code",
   "execution_count": null,
   "id": "b1039524",
   "metadata": {},
   "outputs": [],
   "source": []
  },
  {
   "cell_type": "code",
   "execution_count": 38,
   "id": "49435187",
   "metadata": {
    "id": "49435187"
   },
   "outputs": [],
   "source": [
    "tokenizer = tf.keras.preprocessing.text.Tokenizer(char_level=False)\n",
    "tokenizer.fit_on_texts(list(x_all))\n",
    "tokenizer.num_words = WORDS_SIZE"
   ]
  },
  {
   "cell_type": "code",
   "execution_count": 39,
   "id": "ea370181",
   "metadata": {
    "id": "ea370181"
   },
   "outputs": [],
   "source": [
    "# data['functionSource'] =  [x.decode('utf-8') for x in data['functionSource'] ]\n",
    "list_tokenized_train = tokenizer.texts_to_sequences(X)\n",
    "X = tf.keras.preprocessing.sequence.pad_sequences(list_tokenized_train, \n",
    "                                  maxlen=INPUT_SIZE,\n",
    "                                  padding='post')\n",
    "X = X.astype(np.int64)"
   ]
  },
  {
   "cell_type": "code",
   "execution_count": 40,
   "id": "e795f971",
   "metadata": {},
   "outputs": [
    {
     "data": {
      "text/plain": [
       "array([[  31,    8,  338, ...,    0,    0,    0],\n",
       "       [  31,  465, 2620, ...,    0,    0,    0],\n",
       "       [  11,  227,  115, ...,    0,    0,    0],\n",
       "       ...,\n",
       "       [  11,  227,  115, ...,    0,    0,    0],\n",
       "       [   5,   85, 2382, ...,    0,    0,    0],\n",
       "       [  31,   11, 1576, ...,    0,    0,    0]], dtype=int64)"
      ]
     },
     "execution_count": 40,
     "metadata": {},
     "output_type": "execute_result"
    }
   ],
   "source": [
    "X"
   ]
  },
  {
   "cell_type": "code",
   "execution_count": 41,
   "id": "fcfdcafc",
   "metadata": {},
   "outputs": [],
   "source": [
    "import pickle\n",
    "\n",
    "#saving\n",
    "with open('tokenizer.pickle', 'wb') as handle:\n",
    "    pickle.dump(tokenizer, handle, protocol=pickle.HIGHEST_PROTOCOL)\n",
    "    \n",
    "#loading\n",
    "with open('tokenizer.pickle', 'rb') as handle:\n",
    "    tokenizer= pickle.load(handle)"
   ]
  },
  {
   "cell_type": "code",
   "execution_count": 42,
   "id": "996bec18",
   "metadata": {
    "id": "996bec18"
   },
   "outputs": [],
   "source": [
    "#  Create a random weights matrix\n",
    "random_weights = np.random.normal(size=(WORDS_SIZE, 13),scale=0.01)"
   ]
  },
  {
   "cell_type": "code",
   "execution_count": 43,
   "id": "17c1da1b",
   "metadata": {},
   "outputs": [
    {
     "data": {
      "text/plain": [
       "array([[ 0.0060252 , -0.00302141, -0.00566813, ..., -0.00071736,\n",
       "         0.00656931, -0.0077152 ],\n",
       "       [-0.0026452 ,  0.00101939,  0.00791392, ...,  0.00173955,\n",
       "         0.00785835,  0.00549122],\n",
       "       [-0.0044089 ,  0.01024976,  0.01351175, ...,  0.01517417,\n",
       "        -0.00523813,  0.00256636],\n",
       "       ...,\n",
       "       [ 0.0093493 ,  0.0005328 ,  0.00262669, ..., -0.002587  ,\n",
       "         0.01392652,  0.00944651],\n",
       "       [-0.00716167,  0.00386448, -0.00194482, ...,  0.00670759,\n",
       "         0.01145522,  0.00023146],\n",
       "       [-0.00617482, -0.0155774 ,  0.00127028, ..., -0.00057702,\n",
       "        -0.00268833, -0.00591792]])"
      ]
     },
     "execution_count": 43,
     "metadata": {},
     "output_type": "execute_result"
    }
   ],
   "source": [
    "random_weights"
   ]
  },
  {
   "cell_type": "code",
   "execution_count": 44,
   "id": "48c4ca07",
   "metadata": {
    "colab": {
     "base_uri": "https://localhost:8080/"
    },
    "id": "48c4ca07",
    "outputId": "6b30ccef-2682-4903-8c61-53cd81a4fe99",
    "scrolled": false
   },
   "outputs": [
    {
     "name": "stdout",
     "output_type": "stream",
     "text": [
      "CNN model built: \n",
      "Model: \"model\"\n",
      "__________________________________________________________________________________________________\n",
      " Layer (type)                   Output Shape         Param #     Connected to                     \n",
      "==================================================================================================\n",
      " input_1 (InputLayer)           [(None, 500)]        0           []                               \n",
      "                                                                                                  \n",
      " embedding (Embedding)          (None, 500, 13)      130000      ['input_1[0][0]']                \n",
      "                                                                                                  \n",
      " conv1d (Conv1D)                (None, 500, 512)     60416       ['embedding[0][0]']              \n",
      "                                                                                                  \n",
      " max_pooling1d (MaxPooling1D)   (None, 100, 512)     0           ['conv1d[0][0]']                 \n",
      "                                                                                                  \n",
      " dropout (Dropout)              (None, 100, 512)     0           ['max_pooling1d[0][0]']          \n",
      "                                                                                                  \n",
      " flatten (Flatten)              (None, 51200)        0           ['dropout[0][0]']                \n",
      "                                                                                                  \n",
      " dense (Dense)                  (None, 128)          6553728     ['flatten[0][0]']                \n",
      "                                                                                                  \n",
      " dense_1 (Dense)                (None, 64)           8256        ['dense[0][0]']                  \n",
      "                                                                                                  \n",
      " dense_2 (Dense)                (None, 2)            130         ['dense_1[0][0]']                \n",
      "                                                                                                  \n",
      " dense_3 (Dense)                (None, 2)            130         ['dense_1[0][0]']                \n",
      "                                                                                                  \n",
      " dense_4 (Dense)                (None, 2)            130         ['dense_1[0][0]']                \n",
      "                                                                                                  \n",
      " dense_5 (Dense)                (None, 2)            130         ['dense_1[0][0]']                \n",
      "                                                                                                  \n",
      " dense_6 (Dense)                (None, 2)            130         ['dense_1[0][0]']                \n",
      "                                                                                                  \n",
      " dense_7 (Dense)                (None, 2)            130         ['dense_1[0][0]']                \n",
      "                                                                                                  \n",
      " dense_8 (Dense)                (None, 2)            130         ['dense_1[0][0]']                \n",
      "                                                                                                  \n",
      " dense_9 (Dense)                (None, 2)            130         ['dense_1[0][0]']                \n",
      "                                                                                                  \n",
      " dense_10 (Dense)               (None, 2)            130         ['dense_1[0][0]']                \n",
      "                                                                                                  \n",
      " dense_11 (Dense)               (None, 2)            130         ['dense_1[0][0]']                \n",
      "                                                                                                  \n",
      " dense_12 (Dense)               (None, 2)            130         ['dense_1[0][0]']                \n",
      "                                                                                                  \n",
      " dense_13 (Dense)               (None, 2)            130         ['dense_1[0][0]']                \n",
      "                                                                                                  \n",
      " dense_14 (Dense)               (None, 2)            130         ['dense_1[0][0]']                \n",
      "                                                                                                  \n",
      " dense_15 (Dense)               (None, 2)            130         ['dense_1[0][0]']                \n",
      "                                                                                                  \n",
      " dense_16 (Dense)               (None, 2)            130         ['dense_1[0][0]']                \n",
      "                                                                                                  \n",
      " dense_17 (Dense)               (None, 2)            130         ['dense_1[0][0]']                \n",
      "                                                                                                  \n",
      " dense_18 (Dense)               (None, 2)            130         ['dense_1[0][0]']                \n",
      "                                                                                                  \n",
      "==================================================================================================\n",
      "Total params: 6,754,610\n",
      "Trainable params: 6,754,610\n",
      "Non-trainable params: 0\n",
      "__________________________________________________________________________________________________\n"
     ]
    }
   ],
   "source": [
    "inp_layer = tf.keras.layers.Input(shape=(INPUT_SIZE,))\n",
    "mid_layers = tf.keras.layers.Embedding(input_dim = WORDS_SIZE,\n",
    "                                    output_dim = 13,\n",
    "                                    weights=[random_weights],\n",
    "                                    input_length = INPUT_SIZE)(inp_layer)\n",
    "mid_layers = tf.keras.layers.Convolution1D(filters=512, kernel_size=(9), padding='same', activation='relu')(mid_layers)\n",
    "mid_layers = tf.keras.layers.MaxPool1D(pool_size=5)(mid_layers)\n",
    "mid_layers = tf.keras.layers.Dropout(0.5)(mid_layers)\n",
    "mid_layers = tf.keras.layers.Flatten()(mid_layers)\n",
    "mid_layers = tf.keras.layers.Dense(128, activation='relu')(mid_layers)\n",
    "mid_layers = tf.keras.layers.Dense(64, activation='relu')(mid_layers)\n",
    "output1 = tf.keras.layers.Dense(2, activation='softmax')(mid_layers)\n",
    "output2 = tf.keras.layers.Dense(2, activation='softmax')(mid_layers)\n",
    "output3 = tf.keras.layers.Dense(2, activation='softmax')(mid_layers)\n",
    "output4 =tf.keras.layers.Dense(2, activation='softmax')(mid_layers)\n",
    "output5 = tf.keras.layers.Dense(2, activation='softmax')(mid_layers)\n",
    "output6 = tf.keras.layers.Dense(2, activation='softmax')(mid_layers)\n",
    "output7 = tf.keras.layers.Dense(2, activation='softmax')(mid_layers)\n",
    "output8 = tf.keras.layers.Dense(2, activation='softmax')(mid_layers)\n",
    "output9 =tf.keras.layers.Dense(2, activation='softmax')(mid_layers)\n",
    "output10 = tf.keras.layers.Dense(2, activation='softmax')(mid_layers)\n",
    "output11 = tf.keras.layers.Dense(2, activation='softmax')(mid_layers)\n",
    "output12 = tf.keras.layers.Dense(2, activation='softmax')(mid_layers)\n",
    "output13 = tf.keras.layers.Dense(2, activation='softmax')(mid_layers)\n",
    "output14 =tf.keras.layers.Dense(2, activation='softmax')(mid_layers)\n",
    "output15 = tf.keras.layers.Dense(2, activation='softmax')(mid_layers)\n",
    "output16 =tf.keras.layers.Dense(2, activation='softmax')(mid_layers)\n",
    "output17 = tf.keras.layers.Dense(2, activation='softmax')(mid_layers)\n",
    "model = tf.keras.Model(inp_layer,[output1,output2,output3,output4,output5,output6,output7,output8,output9,output10,output11,output12,output13,output14,output15,output16,output17])\n",
    "\n",
    "# Define custom optimizers\n",
    "# adam = tf.keras.optimizers.Adam(lr=0.005, beta_1=0.9, beta_2=0.999, epsilon=1, decay=0.0, amsgrad=False)\n",
    "\n",
    "## Compile model with metrics\n",
    "model.compile(optimizer=\"ADAM\", loss='categorical_crossentropy', metrics=['accuracy'])\n",
    "print(\"CNN model built: \")\n",
    "model.summary()"
   ]
  },
  {
   "cell_type": "code",
   "execution_count": 45,
   "id": "348d0467",
   "metadata": {
    "id": "348d0467"
   },
   "outputs": [],
   "source": [
    "## Create TensorBoard callbacks\n",
    "\n",
    "callbackdir= 'D:\\\\temp\\\\cb'\n",
    "\n",
    "tbCallback = tf.keras.callbacks.TensorBoard(log_dir=callbackdir, \n",
    "                         histogram_freq=1,\n",
    "                         embeddings_freq=1,\n",
    "                         write_graph=True, \n",
    "                         write_images=True)\n",
    "\n",
    "tbCallback.set_model(model)\n",
    "mld = 'model/model-ALL-{epoch:02d}.hdf5'\n",
    "\n",
    "## Create best model callback\n",
    "mcp = tf.keras.callbacks.ModelCheckpoint(filepath=mld, \n",
    "                                         monitor=\"val_loss\",\n",
    "                                         save_best_only=True, \n",
    "                                         mode='auto', \n",
    "                                         save_freq='epoch', \n",
    "                                         verbose=1)"
   ]
  },
  {
   "cell_type": "code",
   "execution_count": 46,
   "id": "ceaa2956",
   "metadata": {
    "scrolled": true
   },
   "outputs": [
    {
     "data": {
      "text/plain": [
       "(17, 17724, 2)"
      ]
     },
     "execution_count": 46,
     "metadata": {},
     "output_type": "execute_result"
    }
   ],
   "source": [
    "y_train.shape"
   ]
  },
  {
   "cell_type": "code",
   "execution_count": 48,
   "id": "4c2d1128",
   "metadata": {
    "collapsed": true
   },
   "outputs": [
    {
     "data": {
      "text/plain": [
       "array([[[1, 0],\n",
       "        [0, 1],\n",
       "        [1, 0],\n",
       "        ...,\n",
       "        [1, 0],\n",
       "        [0, 1],\n",
       "        [1, 0]],\n",
       "\n",
       "       [[1, 0],\n",
       "        [1, 0],\n",
       "        [1, 0],\n",
       "        ...,\n",
       "        [1, 0],\n",
       "        [1, 0],\n",
       "        [1, 0]],\n",
       "\n",
       "       [[1, 0],\n",
       "        [1, 0],\n",
       "        [1, 0],\n",
       "        ...,\n",
       "        [1, 0],\n",
       "        [1, 0],\n",
       "        [1, 0]],\n",
       "\n",
       "       ...,\n",
       "\n",
       "       [[1, 0],\n",
       "        [1, 0],\n",
       "        [1, 0],\n",
       "        ...,\n",
       "        [1, 0],\n",
       "        [1, 0],\n",
       "        [1, 0]],\n",
       "\n",
       "       [[1, 0],\n",
       "        [1, 0],\n",
       "        [1, 0],\n",
       "        ...,\n",
       "        [1, 0],\n",
       "        [1, 0],\n",
       "        [1, 0]],\n",
       "\n",
       "       [[1, 0],\n",
       "        [1, 0],\n",
       "        [0, 1],\n",
       "        ...,\n",
       "        [0, 1],\n",
       "        [1, 0],\n",
       "        [1, 0]]], dtype=int64)"
      ]
     },
     "execution_count": 48,
     "metadata": {},
     "output_type": "execute_result"
    }
   ],
   "source": [
    "y_train"
   ]
  },
  {
   "cell_type": "code",
   "execution_count": 28,
   "id": "9bab06ba",
   "metadata": {
    "colab": {
     "base_uri": "https://localhost:8080/",
     "height": 1000
    },
    "id": "9bab06ba",
    "outputId": "3accb611-a10b-47da-e535-a175b2cfb3a8"
   },
   "outputs": [
    {
     "name": "stdout",
     "output_type": "stream",
     "text": [
      "Epoch 1/40\n",
      "WARNING:tensorflow:Early stopping conditioned on metric `accuracy` which is not available. Available metrics are: loss,dense_2_loss,dense_3_loss,dense_4_loss,dense_5_loss,dense_6_loss,dense_2_accuracy,dense_3_accuracy,dense_4_accuracy,dense_5_accuracy,dense_6_accuracy\n",
      "517/517 - 104s - loss: 1.2705 - dense_2_loss: 0.2689 - dense_3_loss: 0.3344 - dense_4_loss: 0.1136 - dense_5_loss: 0.1806 - dense_6_loss: 0.3731 - dense_2_accuracy: 0.8927 - dense_3_accuracy: 0.8612 - dense_4_accuracy: 0.9684 - dense_5_accuracy: 0.9331 - dense_6_accuracy: 0.8363 - 104s/epoch - 202ms/step\n",
      "Epoch 2/40\n",
      "WARNING:tensorflow:Early stopping conditioned on metric `accuracy` which is not available. Available metrics are: loss,dense_2_loss,dense_3_loss,dense_4_loss,dense_5_loss,dense_6_loss,dense_2_accuracy,dense_3_accuracy,dense_4_accuracy,dense_5_accuracy,dense_6_accuracy\n",
      "517/517 - 105s - loss: 1.1084 - dense_2_loss: 0.2243 - dense_3_loss: 0.2903 - dense_4_loss: 0.1008 - dense_5_loss: 0.1598 - dense_6_loss: 0.3333 - dense_2_accuracy: 0.9126 - dense_3_accuracy: 0.8800 - dense_4_accuracy: 0.9691 - dense_5_accuracy: 0.9406 - dense_6_accuracy: 0.8572 - 105s/epoch - 203ms/step\n",
      "Epoch 3/40\n",
      "WARNING:tensorflow:Early stopping conditioned on metric `accuracy` which is not available. Available metrics are: loss,dense_2_loss,dense_3_loss,dense_4_loss,dense_5_loss,dense_6_loss,dense_2_accuracy,dense_3_accuracy,dense_4_accuracy,dense_5_accuracy,dense_6_accuracy\n",
      "517/517 - 105s - loss: 0.9799 - dense_2_loss: 0.1912 - dense_3_loss: 0.2545 - dense_4_loss: 0.0903 - dense_5_loss: 0.1420 - dense_6_loss: 0.3020 - dense_2_accuracy: 0.9249 - dense_3_accuracy: 0.8951 - dense_4_accuracy: 0.9704 - dense_5_accuracy: 0.9483 - dense_6_accuracy: 0.8713 - 105s/epoch - 203ms/step\n",
      "Epoch 4/40\n",
      "WARNING:tensorflow:Early stopping conditioned on metric `accuracy` which is not available. Available metrics are: loss,dense_2_loss,dense_3_loss,dense_4_loss,dense_5_loss,dense_6_loss,dense_2_accuracy,dense_3_accuracy,dense_4_accuracy,dense_5_accuracy,dense_6_accuracy\n",
      "517/517 - 105s - loss: 0.8688 - dense_2_loss: 0.1642 - dense_3_loss: 0.2240 - dense_4_loss: 0.0836 - dense_5_loss: 0.1244 - dense_6_loss: 0.2726 - dense_2_accuracy: 0.9359 - dense_3_accuracy: 0.9075 - dense_4_accuracy: 0.9715 - dense_5_accuracy: 0.9549 - dense_6_accuracy: 0.8870 - 105s/epoch - 203ms/step\n",
      "Epoch 5/40\n",
      "WARNING:tensorflow:Early stopping conditioned on metric `accuracy` which is not available. Available metrics are: loss,dense_2_loss,dense_3_loss,dense_4_loss,dense_5_loss,dense_6_loss,dense_2_accuracy,dense_3_accuracy,dense_4_accuracy,dense_5_accuracy,dense_6_accuracy\n",
      "517/517 - 105s - loss: 0.7667 - dense_2_loss: 0.1404 - dense_3_loss: 0.1943 - dense_4_loss: 0.0778 - dense_5_loss: 0.1089 - dense_6_loss: 0.2453 - dense_2_accuracy: 0.9446 - dense_3_accuracy: 0.9198 - dense_4_accuracy: 0.9731 - dense_5_accuracy: 0.9607 - dense_6_accuracy: 0.8994 - 105s/epoch - 204ms/step\n",
      "Epoch 6/40\n",
      "WARNING:tensorflow:Early stopping conditioned on metric `accuracy` which is not available. Available metrics are: loss,dense_2_loss,dense_3_loss,dense_4_loss,dense_5_loss,dense_6_loss,dense_2_accuracy,dense_3_accuracy,dense_4_accuracy,dense_5_accuracy,dense_6_accuracy\n",
      "517/517 - 104s - loss: 0.6861 - dense_2_loss: 0.1239 - dense_3_loss: 0.1734 - dense_4_loss: 0.0721 - dense_5_loss: 0.0943 - dense_6_loss: 0.2225 - dense_2_accuracy: 0.9512 - dense_3_accuracy: 0.9293 - dense_4_accuracy: 0.9745 - dense_5_accuracy: 0.9662 - dense_6_accuracy: 0.9109 - 104s/epoch - 200ms/step\n",
      "Epoch 7/40\n",
      "WARNING:tensorflow:Early stopping conditioned on metric `accuracy` which is not available. Available metrics are: loss,dense_2_loss,dense_3_loss,dense_4_loss,dense_5_loss,dense_6_loss,dense_2_accuracy,dense_3_accuracy,dense_4_accuracy,dense_5_accuracy,dense_6_accuracy\n",
      "517/517 - 104s - loss: 0.6156 - dense_2_loss: 0.1099 - dense_3_loss: 0.1551 - dense_4_loss: 0.0667 - dense_5_loss: 0.0826 - dense_6_loss: 0.2012 - dense_2_accuracy: 0.9566 - dense_3_accuracy: 0.9367 - dense_4_accuracy: 0.9757 - dense_5_accuracy: 0.9699 - dense_6_accuracy: 0.9187 - 104s/epoch - 202ms/step\n",
      "Epoch 8/40\n",
      "WARNING:tensorflow:Early stopping conditioned on metric `accuracy` which is not available. Available metrics are: loss,dense_2_loss,dense_3_loss,dense_4_loss,dense_5_loss,dense_6_loss,dense_2_accuracy,dense_3_accuracy,dense_4_accuracy,dense_5_accuracy,dense_6_accuracy\n",
      "517/517 - 103s - loss: 0.5572 - dense_2_loss: 0.0985 - dense_3_loss: 0.1385 - dense_4_loss: 0.0619 - dense_5_loss: 0.0742 - dense_6_loss: 0.1842 - dense_2_accuracy: 0.9618 - dense_3_accuracy: 0.9440 - dense_4_accuracy: 0.9778 - dense_5_accuracy: 0.9729 - dense_6_accuracy: 0.9269 - 103s/epoch - 200ms/step\n",
      "Epoch 9/40\n",
      "WARNING:tensorflow:Early stopping conditioned on metric `accuracy` which is not available. Available metrics are: loss,dense_2_loss,dense_3_loss,dense_4_loss,dense_5_loss,dense_6_loss,dense_2_accuracy,dense_3_accuracy,dense_4_accuracy,dense_5_accuracy,dense_6_accuracy\n",
      "517/517 - 102s - loss: 0.5057 - dense_2_loss: 0.0878 - dense_3_loss: 0.1251 - dense_4_loss: 0.0570 - dense_5_loss: 0.0664 - dense_6_loss: 0.1693 - dense_2_accuracy: 0.9662 - dense_3_accuracy: 0.9494 - dense_4_accuracy: 0.9799 - dense_5_accuracy: 0.9754 - dense_6_accuracy: 0.9337 - 102s/epoch - 196ms/step\n",
      "Epoch 10/40\n",
      "WARNING:tensorflow:Early stopping conditioned on metric `accuracy` which is not available. Available metrics are: loss,dense_2_loss,dense_3_loss,dense_4_loss,dense_5_loss,dense_6_loss,dense_2_accuracy,dense_3_accuracy,dense_4_accuracy,dense_5_accuracy,dense_6_accuracy\n",
      "517/517 - 101s - loss: 0.4605 - dense_2_loss: 0.0795 - dense_3_loss: 0.1154 - dense_4_loss: 0.0512 - dense_5_loss: 0.0590 - dense_6_loss: 0.1554 - dense_2_accuracy: 0.9695 - dense_3_accuracy: 0.9540 - dense_4_accuracy: 0.9816 - dense_5_accuracy: 0.9786 - dense_6_accuracy: 0.9387 - 101s/epoch - 196ms/step\n",
      "Epoch 11/40\n",
      "WARNING:tensorflow:Early stopping conditioned on metric `accuracy` which is not available. Available metrics are: loss,dense_2_loss,dense_3_loss,dense_4_loss,dense_5_loss,dense_6_loss,dense_2_accuracy,dense_3_accuracy,dense_4_accuracy,dense_5_accuracy,dense_6_accuracy\n",
      "517/517 - 101s - loss: 0.4232 - dense_2_loss: 0.0739 - dense_3_loss: 0.1063 - dense_4_loss: 0.0472 - dense_5_loss: 0.0541 - dense_6_loss: 0.1418 - dense_2_accuracy: 0.9727 - dense_3_accuracy: 0.9579 - dense_4_accuracy: 0.9824 - dense_5_accuracy: 0.9801 - dense_6_accuracy: 0.9449 - 101s/epoch - 196ms/step\n",
      "Epoch 12/40\n",
      "WARNING:tensorflow:Early stopping conditioned on metric `accuracy` which is not available. Available metrics are: loss,dense_2_loss,dense_3_loss,dense_4_loss,dense_5_loss,dense_6_loss,dense_2_accuracy,dense_3_accuracy,dense_4_accuracy,dense_5_accuracy,dense_6_accuracy\n",
      "517/517 - 101s - loss: 0.3964 - dense_2_loss: 0.0695 - dense_3_loss: 0.0977 - dense_4_loss: 0.0441 - dense_5_loss: 0.0513 - dense_6_loss: 0.1339 - dense_2_accuracy: 0.9737 - dense_3_accuracy: 0.9615 - dense_4_accuracy: 0.9842 - dense_5_accuracy: 0.9811 - dense_6_accuracy: 0.9479 - 101s/epoch - 196ms/step\n",
      "Epoch 13/40\n",
      "WARNING:tensorflow:Early stopping conditioned on metric `accuracy` which is not available. Available metrics are: loss,dense_2_loss,dense_3_loss,dense_4_loss,dense_5_loss,dense_6_loss,dense_2_accuracy,dense_3_accuracy,dense_4_accuracy,dense_5_accuracy,dense_6_accuracy\n",
      "517/517 - 103s - loss: 0.3758 - dense_2_loss: 0.0652 - dense_3_loss: 0.0952 - dense_4_loss: 0.0397 - dense_5_loss: 0.0477 - dense_6_loss: 0.1280 - dense_2_accuracy: 0.9756 - dense_3_accuracy: 0.9628 - dense_4_accuracy: 0.9856 - dense_5_accuracy: 0.9829 - dense_6_accuracy: 0.9508 - 103s/epoch - 199ms/step\n",
      "Epoch 14/40\n",
      "WARNING:tensorflow:Early stopping conditioned on metric `accuracy` which is not available. Available metrics are: loss,dense_2_loss,dense_3_loss,dense_4_loss,dense_5_loss,dense_6_loss,dense_2_accuracy,dense_3_accuracy,dense_4_accuracy,dense_5_accuracy,dense_6_accuracy\n",
      "517/517 - 104s - loss: 0.3408 - dense_2_loss: 0.0595 - dense_3_loss: 0.0865 - dense_4_loss: 0.0367 - dense_5_loss: 0.0422 - dense_6_loss: 0.1159 - dense_2_accuracy: 0.9781 - dense_3_accuracy: 0.9668 - dense_4_accuracy: 0.9869 - dense_5_accuracy: 0.9850 - dense_6_accuracy: 0.9544 - 104s/epoch - 201ms/step\n"
     ]
    },
    {
     "name": "stdout",
     "output_type": "stream",
     "text": [
      "Epoch 15/40\n",
      "WARNING:tensorflow:Early stopping conditioned on metric `accuracy` which is not available. Available metrics are: loss,dense_2_loss,dense_3_loss,dense_4_loss,dense_5_loss,dense_6_loss,dense_2_accuracy,dense_3_accuracy,dense_4_accuracy,dense_5_accuracy,dense_6_accuracy\n",
      "517/517 - 102s - loss: 0.3287 - dense_2_loss: 0.0586 - dense_3_loss: 0.0832 - dense_4_loss: 0.0341 - dense_5_loss: 0.0412 - dense_6_loss: 0.1116 - dense_2_accuracy: 0.9783 - dense_3_accuracy: 0.9681 - dense_4_accuracy: 0.9879 - dense_5_accuracy: 0.9844 - dense_6_accuracy: 0.9569 - 102s/epoch - 197ms/step\n",
      "Epoch 16/40\n",
      "WARNING:tensorflow:Early stopping conditioned on metric `accuracy` which is not available. Available metrics are: loss,dense_2_loss,dense_3_loss,dense_4_loss,dense_5_loss,dense_6_loss,dense_2_accuracy,dense_3_accuracy,dense_4_accuracy,dense_5_accuracy,dense_6_accuracy\n",
      "517/517 - 102s - loss: 0.3077 - dense_2_loss: 0.0540 - dense_3_loss: 0.0766 - dense_4_loss: 0.0326 - dense_5_loss: 0.0391 - dense_6_loss: 0.1055 - dense_2_accuracy: 0.9797 - dense_3_accuracy: 0.9710 - dense_4_accuracy: 0.9886 - dense_5_accuracy: 0.9857 - dense_6_accuracy: 0.9593 - 102s/epoch - 197ms/step\n",
      "Epoch 17/40\n",
      "WARNING:tensorflow:Early stopping conditioned on metric `accuracy` which is not available. Available metrics are: loss,dense_2_loss,dense_3_loss,dense_4_loss,dense_5_loss,dense_6_loss,dense_2_accuracy,dense_3_accuracy,dense_4_accuracy,dense_5_accuracy,dense_6_accuracy\n",
      "517/517 - 101s - loss: 0.2971 - dense_2_loss: 0.0523 - dense_3_loss: 0.0750 - dense_4_loss: 0.0300 - dense_5_loss: 0.0370 - dense_6_loss: 0.1029 - dense_2_accuracy: 0.9816 - dense_3_accuracy: 0.9713 - dense_4_accuracy: 0.9896 - dense_5_accuracy: 0.9868 - dense_6_accuracy: 0.9607 - 101s/epoch - 196ms/step\n",
      "Epoch 18/40\n",
      "WARNING:tensorflow:Early stopping conditioned on metric `accuracy` which is not available. Available metrics are: loss,dense_2_loss,dense_3_loss,dense_4_loss,dense_5_loss,dense_6_loss,dense_2_accuracy,dense_3_accuracy,dense_4_accuracy,dense_5_accuracy,dense_6_accuracy\n",
      "517/517 - 101s - loss: 0.2819 - dense_2_loss: 0.0507 - dense_3_loss: 0.0713 - dense_4_loss: 0.0276 - dense_5_loss: 0.0363 - dense_6_loss: 0.0961 - dense_2_accuracy: 0.9815 - dense_3_accuracy: 0.9724 - dense_4_accuracy: 0.9903 - dense_5_accuracy: 0.9873 - dense_6_accuracy: 0.9634 - 101s/epoch - 195ms/step\n",
      "Epoch 19/40\n",
      "WARNING:tensorflow:Early stopping conditioned on metric `accuracy` which is not available. Available metrics are: loss,dense_2_loss,dense_3_loss,dense_4_loss,dense_5_loss,dense_6_loss,dense_2_accuracy,dense_3_accuracy,dense_4_accuracy,dense_5_accuracy,dense_6_accuracy\n",
      "517/517 - 101s - loss: 0.2589 - dense_2_loss: 0.0459 - dense_3_loss: 0.0647 - dense_4_loss: 0.0257 - dense_5_loss: 0.0329 - dense_6_loss: 0.0896 - dense_2_accuracy: 0.9830 - dense_3_accuracy: 0.9752 - dense_4_accuracy: 0.9906 - dense_5_accuracy: 0.9881 - dense_6_accuracy: 0.9662 - 101s/epoch - 195ms/step\n",
      "Epoch 20/40\n",
      "WARNING:tensorflow:Early stopping conditioned on metric `accuracy` which is not available. Available metrics are: loss,dense_2_loss,dense_3_loss,dense_4_loss,dense_5_loss,dense_6_loss,dense_2_accuracy,dense_3_accuracy,dense_4_accuracy,dense_5_accuracy,dense_6_accuracy\n",
      "517/517 - 102s - loss: 0.2502 - dense_2_loss: 0.0451 - dense_3_loss: 0.0626 - dense_4_loss: 0.0250 - dense_5_loss: 0.0330 - dense_6_loss: 0.0846 - dense_2_accuracy: 0.9833 - dense_3_accuracy: 0.9761 - dense_4_accuracy: 0.9909 - dense_5_accuracy: 0.9885 - dense_6_accuracy: 0.9679 - 102s/epoch - 197ms/step\n",
      "Epoch 21/40\n",
      "WARNING:tensorflow:Early stopping conditioned on metric `accuracy` which is not available. Available metrics are: loss,dense_2_loss,dense_3_loss,dense_4_loss,dense_5_loss,dense_6_loss,dense_2_accuracy,dense_3_accuracy,dense_4_accuracy,dense_5_accuracy,dense_6_accuracy\n",
      "517/517 - 101s - loss: 0.2485 - dense_2_loss: 0.0442 - dense_3_loss: 0.0638 - dense_4_loss: 0.0245 - dense_5_loss: 0.0320 - dense_6_loss: 0.0841 - dense_2_accuracy: 0.9844 - dense_3_accuracy: 0.9761 - dense_4_accuracy: 0.9912 - dense_5_accuracy: 0.9889 - dense_6_accuracy: 0.9681 - 101s/epoch - 196ms/step\n",
      "Epoch 22/40\n",
      "WARNING:tensorflow:Early stopping conditioned on metric `accuracy` which is not available. Available metrics are: loss,dense_2_loss,dense_3_loss,dense_4_loss,dense_5_loss,dense_6_loss,dense_2_accuracy,dense_3_accuracy,dense_4_accuracy,dense_5_accuracy,dense_6_accuracy\n",
      "517/517 - 101s - loss: 0.2337 - dense_2_loss: 0.0410 - dense_3_loss: 0.0600 - dense_4_loss: 0.0233 - dense_5_loss: 0.0303 - dense_6_loss: 0.0791 - dense_2_accuracy: 0.9854 - dense_3_accuracy: 0.9773 - dense_4_accuracy: 0.9915 - dense_5_accuracy: 0.9888 - dense_6_accuracy: 0.9698 - 101s/epoch - 195ms/step\n",
      "Epoch 23/40\n",
      "WARNING:tensorflow:Early stopping conditioned on metric `accuracy` which is not available. Available metrics are: loss,dense_2_loss,dense_3_loss,dense_4_loss,dense_5_loss,dense_6_loss,dense_2_accuracy,dense_3_accuracy,dense_4_accuracy,dense_5_accuracy,dense_6_accuracy\n",
      "517/517 - 103s - loss: 0.2261 - dense_2_loss: 0.0399 - dense_3_loss: 0.0578 - dense_4_loss: 0.0212 - dense_5_loss: 0.0279 - dense_6_loss: 0.0793 - dense_2_accuracy: 0.9859 - dense_3_accuracy: 0.9783 - dense_4_accuracy: 0.9926 - dense_5_accuracy: 0.9899 - dense_6_accuracy: 0.9706 - 103s/epoch - 200ms/step\n",
      "Epoch 24/40\n",
      "WARNING:tensorflow:Early stopping conditioned on metric `accuracy` which is not available. Available metrics are: loss,dense_2_loss,dense_3_loss,dense_4_loss,dense_5_loss,dense_6_loss,dense_2_accuracy,dense_3_accuracy,dense_4_accuracy,dense_5_accuracy,dense_6_accuracy\n",
      "517/517 - 101s - loss: 0.2135 - dense_2_loss: 0.0405 - dense_3_loss: 0.0524 - dense_4_loss: 0.0208 - dense_5_loss: 0.0272 - dense_6_loss: 0.0725 - dense_2_accuracy: 0.9859 - dense_3_accuracy: 0.9811 - dense_4_accuracy: 0.9927 - dense_5_accuracy: 0.9904 - dense_6_accuracy: 0.9725 - 101s/epoch - 196ms/step\n",
      "Epoch 25/40\n",
      "WARNING:tensorflow:Early stopping conditioned on metric `accuracy` which is not available. Available metrics are: loss,dense_2_loss,dense_3_loss,dense_4_loss,dense_5_loss,dense_6_loss,dense_2_accuracy,dense_3_accuracy,dense_4_accuracy,dense_5_accuracy,dense_6_accuracy\n",
      "517/517 - 101s - loss: 0.2083 - dense_2_loss: 0.0371 - dense_3_loss: 0.0538 - dense_4_loss: 0.0197 - dense_5_loss: 0.0270 - dense_6_loss: 0.0706 - dense_2_accuracy: 0.9865 - dense_3_accuracy: 0.9804 - dense_4_accuracy: 0.9929 - dense_5_accuracy: 0.9903 - dense_6_accuracy: 0.9727 - 101s/epoch - 196ms/step\n",
      "Epoch 26/40\n",
      "WARNING:tensorflow:Early stopping conditioned on metric `accuracy` which is not available. Available metrics are: loss,dense_2_loss,dense_3_loss,dense_4_loss,dense_5_loss,dense_6_loss,dense_2_accuracy,dense_3_accuracy,dense_4_accuracy,dense_5_accuracy,dense_6_accuracy\n",
      "517/517 - 102s - loss: 0.2009 - dense_2_loss: 0.0362 - dense_3_loss: 0.0516 - dense_4_loss: 0.0182 - dense_5_loss: 0.0279 - dense_6_loss: 0.0670 - dense_2_accuracy: 0.9869 - dense_3_accuracy: 0.9806 - dense_4_accuracy: 0.9933 - dense_5_accuracy: 0.9904 - dense_6_accuracy: 0.9747 - 102s/epoch - 198ms/step\n",
      "Epoch 27/40\n",
      "WARNING:tensorflow:Early stopping conditioned on metric `accuracy` which is not available. Available metrics are: loss,dense_2_loss,dense_3_loss,dense_4_loss,dense_5_loss,dense_6_loss,dense_2_accuracy,dense_3_accuracy,dense_4_accuracy,dense_5_accuracy,dense_6_accuracy\n",
      "517/517 - 101s - loss: 0.1997 - dense_2_loss: 0.0368 - dense_3_loss: 0.0510 - dense_4_loss: 0.0182 - dense_5_loss: 0.0269 - dense_6_loss: 0.0668 - dense_2_accuracy: 0.9869 - dense_3_accuracy: 0.9817 - dense_4_accuracy: 0.9935 - dense_5_accuracy: 0.9904 - dense_6_accuracy: 0.9750 - 101s/epoch - 195ms/step\n",
      "Epoch 28/40\n",
      "WARNING:tensorflow:Early stopping conditioned on metric `accuracy` which is not available. Available metrics are: loss,dense_2_loss,dense_3_loss,dense_4_loss,dense_5_loss,dense_6_loss,dense_2_accuracy,dense_3_accuracy,dense_4_accuracy,dense_5_accuracy,dense_6_accuracy\n",
      "517/517 - 101s - loss: 0.1853 - dense_2_loss: 0.0347 - dense_3_loss: 0.0465 - dense_4_loss: 0.0162 - dense_5_loss: 0.0241 - dense_6_loss: 0.0638 - dense_2_accuracy: 0.9876 - dense_3_accuracy: 0.9831 - dense_4_accuracy: 0.9943 - dense_5_accuracy: 0.9916 - dense_6_accuracy: 0.9754 - 101s/epoch - 195ms/step\n"
     ]
    },
    {
     "name": "stdout",
     "output_type": "stream",
     "text": [
      "Epoch 29/40\n",
      "WARNING:tensorflow:Early stopping conditioned on metric `accuracy` which is not available. Available metrics are: loss,dense_2_loss,dense_3_loss,dense_4_loss,dense_5_loss,dense_6_loss,dense_2_accuracy,dense_3_accuracy,dense_4_accuracy,dense_5_accuracy,dense_6_accuracy\n",
      "517/517 - 101s - loss: 0.1813 - dense_2_loss: 0.0341 - dense_3_loss: 0.0459 - dense_4_loss: 0.0169 - dense_5_loss: 0.0248 - dense_6_loss: 0.0597 - dense_2_accuracy: 0.9878 - dense_3_accuracy: 0.9834 - dense_4_accuracy: 0.9940 - dense_5_accuracy: 0.9916 - dense_6_accuracy: 0.9776 - 101s/epoch - 195ms/step\n",
      "Epoch 30/40\n",
      "WARNING:tensorflow:Early stopping conditioned on metric `accuracy` which is not available. Available metrics are: loss,dense_2_loss,dense_3_loss,dense_4_loss,dense_5_loss,dense_6_loss,dense_2_accuracy,dense_3_accuracy,dense_4_accuracy,dense_5_accuracy,dense_6_accuracy\n",
      "517/517 - 101s - loss: 0.1804 - dense_2_loss: 0.0343 - dense_3_loss: 0.0466 - dense_4_loss: 0.0165 - dense_5_loss: 0.0237 - dense_6_loss: 0.0593 - dense_2_accuracy: 0.9876 - dense_3_accuracy: 0.9833 - dense_4_accuracy: 0.9940 - dense_5_accuracy: 0.9918 - dense_6_accuracy: 0.9782 - 101s/epoch - 196ms/step\n",
      "Epoch 31/40\n",
      "WARNING:tensorflow:Early stopping conditioned on metric `accuracy` which is not available. Available metrics are: loss,dense_2_loss,dense_3_loss,dense_4_loss,dense_5_loss,dense_6_loss,dense_2_accuracy,dense_3_accuracy,dense_4_accuracy,dense_5_accuracy,dense_6_accuracy\n",
      "517/517 - 101s - loss: 0.1733 - dense_2_loss: 0.0325 - dense_3_loss: 0.0445 - dense_4_loss: 0.0156 - dense_5_loss: 0.0222 - dense_6_loss: 0.0585 - dense_2_accuracy: 0.9884 - dense_3_accuracy: 0.9837 - dense_4_accuracy: 0.9945 - dense_5_accuracy: 0.9918 - dense_6_accuracy: 0.9789 - 101s/epoch - 195ms/step\n",
      "Epoch 32/40\n",
      "WARNING:tensorflow:Early stopping conditioned on metric `accuracy` which is not available. Available metrics are: loss,dense_2_loss,dense_3_loss,dense_4_loss,dense_5_loss,dense_6_loss,dense_2_accuracy,dense_3_accuracy,dense_4_accuracy,dense_5_accuracy,dense_6_accuracy\n",
      "517/517 - 102s - loss: 0.1755 - dense_2_loss: 0.0327 - dense_3_loss: 0.0449 - dense_4_loss: 0.0166 - dense_5_loss: 0.0230 - dense_6_loss: 0.0583 - dense_2_accuracy: 0.9888 - dense_3_accuracy: 0.9835 - dense_4_accuracy: 0.9942 - dense_5_accuracy: 0.9921 - dense_6_accuracy: 0.9786 - 102s/epoch - 198ms/step\n",
      "Epoch 33/40\n",
      "WARNING:tensorflow:Early stopping conditioned on metric `accuracy` which is not available. Available metrics are: loss,dense_2_loss,dense_3_loss,dense_4_loss,dense_5_loss,dense_6_loss,dense_2_accuracy,dense_3_accuracy,dense_4_accuracy,dense_5_accuracy,dense_6_accuracy\n",
      "517/517 - 101s - loss: 0.1689 - dense_2_loss: 0.0314 - dense_3_loss: 0.0425 - dense_4_loss: 0.0149 - dense_5_loss: 0.0233 - dense_6_loss: 0.0569 - dense_2_accuracy: 0.9893 - dense_3_accuracy: 0.9850 - dense_4_accuracy: 0.9945 - dense_5_accuracy: 0.9919 - dense_6_accuracy: 0.9793 - 101s/epoch - 194ms/step\n",
      "Epoch 34/40\n",
      "WARNING:tensorflow:Early stopping conditioned on metric `accuracy` which is not available. Available metrics are: loss,dense_2_loss,dense_3_loss,dense_4_loss,dense_5_loss,dense_6_loss,dense_2_accuracy,dense_3_accuracy,dense_4_accuracy,dense_5_accuracy,dense_6_accuracy\n",
      "517/517 - 101s - loss: 0.1644 - dense_2_loss: 0.0305 - dense_3_loss: 0.0430 - dense_4_loss: 0.0161 - dense_5_loss: 0.0197 - dense_6_loss: 0.0551 - dense_2_accuracy: 0.9894 - dense_3_accuracy: 0.9848 - dense_4_accuracy: 0.9946 - dense_5_accuracy: 0.9930 - dense_6_accuracy: 0.9800 - 101s/epoch - 196ms/step\n",
      "Epoch 35/40\n",
      "WARNING:tensorflow:Early stopping conditioned on metric `accuracy` which is not available. Available metrics are: loss,dense_2_loss,dense_3_loss,dense_4_loss,dense_5_loss,dense_6_loss,dense_2_accuracy,dense_3_accuracy,dense_4_accuracy,dense_5_accuracy,dense_6_accuracy\n",
      "517/517 - 102s - loss: 0.1539 - dense_2_loss: 0.0308 - dense_3_loss: 0.0405 - dense_4_loss: 0.0132 - dense_5_loss: 0.0192 - dense_6_loss: 0.0503 - dense_2_accuracy: 0.9892 - dense_3_accuracy: 0.9851 - dense_4_accuracy: 0.9953 - dense_5_accuracy: 0.9933 - dense_6_accuracy: 0.9822 - 102s/epoch - 197ms/step\n",
      "Epoch 36/40\n",
      "WARNING:tensorflow:Early stopping conditioned on metric `accuracy` which is not available. Available metrics are: loss,dense_2_loss,dense_3_loss,dense_4_loss,dense_5_loss,dense_6_loss,dense_2_accuracy,dense_3_accuracy,dense_4_accuracy,dense_5_accuracy,dense_6_accuracy\n",
      "517/517 - 102s - loss: 0.1511 - dense_2_loss: 0.0277 - dense_3_loss: 0.0384 - dense_4_loss: 0.0131 - dense_5_loss: 0.0200 - dense_6_loss: 0.0520 - dense_2_accuracy: 0.9902 - dense_3_accuracy: 0.9859 - dense_4_accuracy: 0.9956 - dense_5_accuracy: 0.9930 - dense_6_accuracy: 0.9811 - 102s/epoch - 197ms/step\n",
      "Epoch 37/40\n",
      "WARNING:tensorflow:Early stopping conditioned on metric `accuracy` which is not available. Available metrics are: loss,dense_2_loss,dense_3_loss,dense_4_loss,dense_5_loss,dense_6_loss,dense_2_accuracy,dense_3_accuracy,dense_4_accuracy,dense_5_accuracy,dense_6_accuracy\n",
      "517/517 - 101s - loss: 0.1499 - dense_2_loss: 0.0295 - dense_3_loss: 0.0385 - dense_4_loss: 0.0128 - dense_5_loss: 0.0199 - dense_6_loss: 0.0492 - dense_2_accuracy: 0.9899 - dense_3_accuracy: 0.9866 - dense_4_accuracy: 0.9954 - dense_5_accuracy: 0.9931 - dense_6_accuracy: 0.9827 - 101s/epoch - 195ms/step\n",
      "Epoch 38/40\n",
      "WARNING:tensorflow:Early stopping conditioned on metric `accuracy` which is not available. Available metrics are: loss,dense_2_loss,dense_3_loss,dense_4_loss,dense_5_loss,dense_6_loss,dense_2_accuracy,dense_3_accuracy,dense_4_accuracy,dense_5_accuracy,dense_6_accuracy\n",
      "517/517 - 101s - loss: 0.1451 - dense_2_loss: 0.0274 - dense_3_loss: 0.0374 - dense_4_loss: 0.0131 - dense_5_loss: 0.0199 - dense_6_loss: 0.0474 - dense_2_accuracy: 0.9902 - dense_3_accuracy: 0.9866 - dense_4_accuracy: 0.9955 - dense_5_accuracy: 0.9931 - dense_6_accuracy: 0.9829 - 101s/epoch - 195ms/step\n",
      "Epoch 39/40\n",
      "WARNING:tensorflow:Early stopping conditioned on metric `accuracy` which is not available. Available metrics are: loss,dense_2_loss,dense_3_loss,dense_4_loss,dense_5_loss,dense_6_loss,dense_2_accuracy,dense_3_accuracy,dense_4_accuracy,dense_5_accuracy,dense_6_accuracy\n",
      "517/517 - 101s - loss: 0.1432 - dense_2_loss: 0.0267 - dense_3_loss: 0.0344 - dense_4_loss: 0.0138 - dense_5_loss: 0.0189 - dense_6_loss: 0.0495 - dense_2_accuracy: 0.9907 - dense_3_accuracy: 0.9878 - dense_4_accuracy: 0.9952 - dense_5_accuracy: 0.9933 - dense_6_accuracy: 0.9827 - 101s/epoch - 195ms/step\n",
      "Epoch 40/40\n",
      "WARNING:tensorflow:Early stopping conditioned on metric `accuracy` which is not available. Available metrics are: loss,dense_2_loss,dense_3_loss,dense_4_loss,dense_5_loss,dense_6_loss,dense_2_accuracy,dense_3_accuracy,dense_4_accuracy,dense_5_accuracy,dense_6_accuracy\n",
      "517/517 - 101s - loss: 0.1392 - dense_2_loss: 0.0258 - dense_3_loss: 0.0332 - dense_4_loss: 0.0134 - dense_5_loss: 0.0188 - dense_6_loss: 0.0480 - dense_2_accuracy: 0.9912 - dense_3_accuracy: 0.9883 - dense_4_accuracy: 0.9954 - dense_5_accuracy: 0.9932 - dense_6_accuracy: 0.9825 - 101s/epoch - 195ms/step\n"
     ]
    },
    {
     "ename": "FileNotFoundError",
     "evalue": "[Errno 2] No such file or directory: 'history/History-ALL-40EP-CNN'",
     "output_type": "error",
     "traceback": [
      "\u001b[1;31m---------------------------------------------------------------------------\u001b[0m",
      "\u001b[1;31mFileNotFoundError\u001b[0m                         Traceback (most recent call last)",
      "Cell \u001b[1;32mIn[28], line 11\u001b[0m\n\u001b[0;32m      3\u001b[0m callback\u001b[38;5;241m=\u001b[39m tf\u001b[38;5;241m.\u001b[39mkeras\u001b[38;5;241m.\u001b[39mcallbacks\u001b[38;5;241m.\u001b[39mEarlyStopping(monitor\u001b[38;5;241m=\u001b[39m\u001b[38;5;124m'\u001b[39m\u001b[38;5;124maccuracy\u001b[39m\u001b[38;5;124m'\u001b[39m, patience\u001b[38;5;241m=\u001b[39m\u001b[38;5;241m10\u001b[39m, verbose\u001b[38;5;241m=\u001b[39m\u001b[38;5;241m1\u001b[39m, )\n\u001b[0;32m      4\u001b[0m history \u001b[38;5;241m=\u001b[39m model\u001b[38;5;241m.\u001b[39mfit(x \u001b[38;5;241m=\u001b[39m x_train,\n\u001b[0;32m      5\u001b[0m           y \u001b[38;5;241m=\u001b[39m [y_train[\u001b[38;5;241m0\u001b[39m],y_train[\u001b[38;5;241m1\u001b[39m],y_train[\u001b[38;5;241m2\u001b[39m],y_train[\u001b[38;5;241m3\u001b[39m],y_train[\u001b[38;5;241m4\u001b[39m]],\n\u001b[0;32m      6\u001b[0m           epochs \u001b[38;5;241m=\u001b[39m \u001b[38;5;241m40\u001b[39m,\n\u001b[0;32m      7\u001b[0m           batch_size \u001b[38;5;241m=\u001b[39m \u001b[38;5;241m128\u001b[39m,\n\u001b[0;32m      8\u001b[0m           verbose \u001b[38;5;241m=\u001b[39m\u001b[38;5;241m2\u001b[39m,\n\u001b[0;32m      9\u001b[0m           callbacks\u001b[38;5;241m=\u001b[39m[callback])\n\u001b[1;32m---> 11\u001b[0m \u001b[38;5;28;01mwith\u001b[39;00m \u001b[38;5;28;43mopen\u001b[39;49m\u001b[43m(\u001b[49m\u001b[38;5;124;43m'\u001b[39;49m\u001b[38;5;124;43mhistory/History-ALL-40EP-CNN\u001b[39;49m\u001b[38;5;124;43m'\u001b[39;49m\u001b[43m,\u001b[49m\u001b[43m \u001b[49m\u001b[38;5;124;43m'\u001b[39;49m\u001b[38;5;124;43mwb\u001b[39;49m\u001b[38;5;124;43m'\u001b[39;49m\u001b[43m)\u001b[49m \u001b[38;5;28;01mas\u001b[39;00m file_pi:\n\u001b[0;32m     12\u001b[0m     pickle\u001b[38;5;241m.\u001b[39mdump(history\u001b[38;5;241m.\u001b[39mhistory, file_pi)\n",
      "File \u001b[1;32mD:\\anaconda\\lib\\site-packages\\IPython\\core\\interactiveshell.py:282\u001b[0m, in \u001b[0;36m_modified_open\u001b[1;34m(file, *args, **kwargs)\u001b[0m\n\u001b[0;32m    275\u001b[0m \u001b[38;5;28;01mif\u001b[39;00m file \u001b[38;5;129;01min\u001b[39;00m {\u001b[38;5;241m0\u001b[39m, \u001b[38;5;241m1\u001b[39m, \u001b[38;5;241m2\u001b[39m}:\n\u001b[0;32m    276\u001b[0m     \u001b[38;5;28;01mraise\u001b[39;00m \u001b[38;5;167;01mValueError\u001b[39;00m(\n\u001b[0;32m    277\u001b[0m         \u001b[38;5;124mf\u001b[39m\u001b[38;5;124m\"\u001b[39m\u001b[38;5;124mIPython won\u001b[39m\u001b[38;5;124m'\u001b[39m\u001b[38;5;124mt let you open fd=\u001b[39m\u001b[38;5;132;01m{\u001b[39;00mfile\u001b[38;5;132;01m}\u001b[39;00m\u001b[38;5;124m by default \u001b[39m\u001b[38;5;124m\"\u001b[39m\n\u001b[0;32m    278\u001b[0m         \u001b[38;5;124m\"\u001b[39m\u001b[38;5;124mas it is likely to crash IPython. If you know what you are doing, \u001b[39m\u001b[38;5;124m\"\u001b[39m\n\u001b[0;32m    279\u001b[0m         \u001b[38;5;124m\"\u001b[39m\u001b[38;5;124myou can use builtins\u001b[39m\u001b[38;5;124m'\u001b[39m\u001b[38;5;124m open.\u001b[39m\u001b[38;5;124m\"\u001b[39m\n\u001b[0;32m    280\u001b[0m     )\n\u001b[1;32m--> 282\u001b[0m \u001b[38;5;28;01mreturn\u001b[39;00m io_open(file, \u001b[38;5;241m*\u001b[39margs, \u001b[38;5;241m*\u001b[39m\u001b[38;5;241m*\u001b[39mkwargs)\n",
      "\u001b[1;31mFileNotFoundError\u001b[0m: [Errno 2] No such file or directory: 'history/History-ALL-40EP-CNN'"
     ]
    }
   ],
   "source": [
    "class_weights = [{0: 1., 1: 5.},{0: 1., 1: 5.},{0: 1., 1: 5.},{0: 1., 1: 5.},{0: 1., 1: 5.}]\n",
    "\n",
    "callback= tf.keras.callbacks.EarlyStopping(monitor='accuracy', patience=10, verbose=1, )\n",
    "history = model.fit(x = X_train,\n",
    "          y = [y_train[0],y_train[1],y_train[2],y_train[3],y_train[4],y_train[5],y_train[6],y_train[7],y_train[8],y_train[9],y_train[10],y_train[11],y_train[12],y_train[13],y_train[14],y_train[15],y_train[16]],\n",
    "          epochs = 40,\n",
    "          batch_size = 128,\n",
    "          verbose =2,\n",
    "          callbacks=[callback])\n",
    "\n",
    "with open('history/History-ALL-40EP-CNN', 'wb') as file_pi:\n",
    "    pickle.dump(history.history, file_pi)"
   ]
  },
  {
   "cell_type": "code",
   "execution_count": null,
   "id": "XDtuopqacuxK",
   "metadata": {
    "id": "XDtuopqacuxK"
   },
   "outputs": [],
   "source": []
  },
  {
   "cell_type": "code",
   "execution_count": 33,
   "id": "RzIOVSdnMYyO",
   "metadata": {
    "colab": {
     "base_uri": "https://localhost:8080/"
    },
    "id": "RzIOVSdnMYyO",
    "outputId": "98e3ec9f-d887-432d-f991-67d8fb1cd926",
    "scrolled": true
   },
   "outputs": [
    {
     "name": "stdout",
     "output_type": "stream",
     "text": [
      "Looking in indexes: https://pypi.org/simple, https://us-python.pkg.dev/colab-wheels/public/simple/\n",
      "Requirement already satisfied: pyyaml in /usr/local/lib/python3.9/dist-packages (6.0)\n",
      "Requirement already satisfied: h5py in /usr/local/lib/python3.9/dist-packages (3.8.0)\n",
      "Requirement already satisfied: numpy>=1.14.5 in /usr/local/lib/python3.9/dist-packages (from h5py) (1.22.4)\n"
     ]
    }
   ],
   "source": [
    "!pip install pyyaml h5py  # Required to save models in HDF5 format"
   ]
  },
  {
   "cell_type": "code",
   "execution_count": 49,
   "id": "8b5a9648",
   "metadata": {},
   "outputs": [],
   "source": [
    "data = pd.read_csv('vulnerability_test.csv')\n"
   ]
  },
  {
   "cell_type": "code",
   "execution_count": 52,
   "id": "ba20431b",
   "metadata": {},
   "outputs": [
    {
     "data": {
      "text/html": [
       "<div>\n",
       "<style scoped>\n",
       "    .dataframe tbody tr th:only-of-type {\n",
       "        vertical-align: middle;\n",
       "    }\n",
       "\n",
       "    .dataframe tbody tr th {\n",
       "        vertical-align: top;\n",
       "    }\n",
       "\n",
       "    .dataframe thead th {\n",
       "        text-align: right;\n",
       "    }\n",
       "</style>\n",
       "<table border=\"1\" class=\"dataframe\">\n",
       "  <thead>\n",
       "    <tr style=\"text-align: right;\">\n",
       "      <th></th>\n",
       "      <th>source_code</th>\n",
       "      <th>CWE114</th>\n",
       "      <th>CWE134</th>\n",
       "      <th>CWE190</th>\n",
       "      <th>CWE196</th>\n",
       "      <th>CWE319</th>\n",
       "      <th>CWE369</th>\n",
       "      <th>CWE398</th>\n",
       "      <th>CWE416</th>\n",
       "      <th>CWE427</th>\n",
       "      <th>CWE469</th>\n",
       "      <th>CWE506</th>\n",
       "      <th>CWE605</th>\n",
       "      <th>CWE606</th>\n",
       "      <th>CWE666</th>\n",
       "      <th>CWE680</th>\n",
       "      <th>CWE761</th>\n",
       "      <th>CWE789</th>\n",
       "    </tr>\n",
       "  </thead>\n",
       "  <tbody>\n",
       "    <tr>\n",
       "      <th>3009</th>\n",
       "      <td>static void mem_add(MemoryListener *listener, ...</td>\n",
       "      <td>0</td>\n",
       "      <td>0</td>\n",
       "      <td>0</td>\n",
       "      <td>0</td>\n",
       "      <td>0</td>\n",
       "      <td>0</td>\n",
       "      <td>0</td>\n",
       "      <td>0</td>\n",
       "      <td>1</td>\n",
       "      <td>0</td>\n",
       "      <td>0</td>\n",
       "      <td>0</td>\n",
       "      <td>0</td>\n",
       "      <td>0</td>\n",
       "      <td>0</td>\n",
       "      <td>0</td>\n",
       "      <td>0</td>\n",
       "    </tr>\n",
       "    <tr>\n",
       "      <th>3978</th>\n",
       "      <td>static\\nset_rx_control(E1000State *s, int inde...</td>\n",
       "      <td>0</td>\n",
       "      <td>0</td>\n",
       "      <td>0</td>\n",
       "      <td>0</td>\n",
       "      <td>0</td>\n",
       "      <td>0</td>\n",
       "      <td>0</td>\n",
       "      <td>0</td>\n",
       "      <td>1</td>\n",
       "      <td>0</td>\n",
       "      <td>0</td>\n",
       "      <td>0</td>\n",
       "      <td>0</td>\n",
       "      <td>0</td>\n",
       "      <td>0</td>\n",
       "      <td>0</td>\n",
       "      <td>0</td>\n",
       "    </tr>\n",
       "    <tr>\n",
       "      <th>141</th>\n",
       "      <td>static void CVE_2013_1576_VULN_dissect_sdp_med...</td>\n",
       "      <td>0</td>\n",
       "      <td>0</td>\n",
       "      <td>0</td>\n",
       "      <td>0</td>\n",
       "      <td>0</td>\n",
       "      <td>0</td>\n",
       "      <td>0</td>\n",
       "      <td>0</td>\n",
       "      <td>1</td>\n",
       "      <td>0</td>\n",
       "      <td>0</td>\n",
       "      <td>0</td>\n",
       "      <td>0</td>\n",
       "      <td>0</td>\n",
       "      <td>0</td>\n",
       "      <td>0</td>\n",
       "      <td>0</td>\n",
       "    </tr>\n",
       "    <tr>\n",
       "      <th>3645</th>\n",
       "      <td>static void rtl8139_io_writel(void *opaque, ui...</td>\n",
       "      <td>0</td>\n",
       "      <td>0</td>\n",
       "      <td>0</td>\n",
       "      <td>0</td>\n",
       "      <td>0</td>\n",
       "      <td>0</td>\n",
       "      <td>0</td>\n",
       "      <td>0</td>\n",
       "      <td>1</td>\n",
       "      <td>0</td>\n",
       "      <td>0</td>\n",
       "      <td>0</td>\n",
       "      <td>0</td>\n",
       "      <td>0</td>\n",
       "      <td>0</td>\n",
       "      <td>0</td>\n",
       "      <td>0</td>\n",
       "    </tr>\n",
       "    <tr>\n",
       "      <th>2115</th>\n",
       "      <td>static inline void xhci_dma_write_u32s(XHCISta...</td>\n",
       "      <td>0</td>\n",
       "      <td>0</td>\n",
       "      <td>0</td>\n",
       "      <td>0</td>\n",
       "      <td>0</td>\n",
       "      <td>0</td>\n",
       "      <td>0</td>\n",
       "      <td>0</td>\n",
       "      <td>1</td>\n",
       "      <td>0</td>\n",
       "      <td>0</td>\n",
       "      <td>0</td>\n",
       "      <td>0</td>\n",
       "      <td>0</td>\n",
       "      <td>0</td>\n",
       "      <td>0</td>\n",
       "      <td>0</td>\n",
       "    </tr>\n",
       "  </tbody>\n",
       "</table>\n",
       "</div>"
      ],
      "text/plain": [
       "                                            source_code  CWE114  CWE134  \\\n",
       "3009  static void mem_add(MemoryListener *listener, ...       0       0   \n",
       "3978  static\\nset_rx_control(E1000State *s, int inde...       0       0   \n",
       "141   static void CVE_2013_1576_VULN_dissect_sdp_med...       0       0   \n",
       "3645  static void rtl8139_io_writel(void *opaque, ui...       0       0   \n",
       "2115  static inline void xhci_dma_write_u32s(XHCISta...       0       0   \n",
       "\n",
       "      CWE190  CWE196  CWE319  CWE369  CWE398  CWE416  CWE427  CWE469  CWE506  \\\n",
       "3009       0       0       0       0       0       0       1       0       0   \n",
       "3978       0       0       0       0       0       0       1       0       0   \n",
       "141        0       0       0       0       0       0       1       0       0   \n",
       "3645       0       0       0       0       0       0       1       0       0   \n",
       "2115       0       0       0       0       0       0       1       0       0   \n",
       "\n",
       "      CWE605  CWE606  CWE666  CWE680  CWE761  CWE789  \n",
       "3009       0       0       0       0       0       0  \n",
       "3978       0       0       0       0       0       0  \n",
       "141        0       0       0       0       0       0  \n",
       "3645       0       0       0       0       0       0  \n",
       "2115       0       0       0       0       0       0  "
      ]
     },
     "execution_count": 52,
     "metadata": {},
     "output_type": "execute_result"
    }
   ],
   "source": [
    "data.head()"
   ]
  },
  {
   "cell_type": "code",
   "execution_count": 51,
   "id": "375210b1",
   "metadata": {},
   "outputs": [],
   "source": [
    "data=data.sample(frac=1)"
   ]
  },
  {
   "cell_type": "code",
   "execution_count": 53,
   "id": "72e24b8e",
   "metadata": {},
   "outputs": [],
   "source": [
    "X=data['source_code']\n",
    "y=np.array([data['CWE114'].values,data['CWE134'].values,data['CWE190'].values,data['CWE196'].values,data['CWE319'].values,data['CWE369'].values,data['CWE398'].values,data['CWE416'].values,data['CWE427'].values,data['CWE469'].values,data['CWE506'].values,data['CWE605'].values,data['CWE606'].values,data['CWE666'].values,data['CWE680'].values,data['CWE761'].values,data['CWE789'].values])"
   ]
  },
  {
   "cell_type": "code",
   "execution_count": null,
   "id": "c670e867",
   "metadata": {},
   "outputs": [],
   "source": [
    "y = y.T"
   ]
  },
  {
   "cell_type": "code",
   "execution_count": 56,
   "id": "23898af7",
   "metadata": {},
   "outputs": [],
   "source": [
    "y_test=[]\n",
    "#print(data.iloc[:,2])\n",
    "data = data.ffill()\n",
    "columns = data.columns[1:]\n",
    "for column in columns:\n",
    "    y_test.append(tf.keras.utils.to_categorical(list(data[column].values), num_classes=NUM_CLASSES).astype(np.int64))\n",
    "y_test = np.array(y_train)"
   ]
  },
  {
   "cell_type": "code",
   "execution_count": 57,
   "id": "9a133a44",
   "metadata": {
    "scrolled": true
   },
   "outputs": [
    {
     "data": {
      "text/plain": [
       "array([[[1, 0],\n",
       "        [0, 1],\n",
       "        [1, 0],\n",
       "        ...,\n",
       "        [1, 0],\n",
       "        [0, 1],\n",
       "        [1, 0]],\n",
       "\n",
       "       [[1, 0],\n",
       "        [1, 0],\n",
       "        [1, 0],\n",
       "        ...,\n",
       "        [1, 0],\n",
       "        [1, 0],\n",
       "        [1, 0]],\n",
       "\n",
       "       [[1, 0],\n",
       "        [1, 0],\n",
       "        [1, 0],\n",
       "        ...,\n",
       "        [1, 0],\n",
       "        [1, 0],\n",
       "        [1, 0]],\n",
       "\n",
       "       ...,\n",
       "\n",
       "       [[1, 0],\n",
       "        [1, 0],\n",
       "        [1, 0],\n",
       "        ...,\n",
       "        [1, 0],\n",
       "        [1, 0],\n",
       "        [1, 0]],\n",
       "\n",
       "       [[1, 0],\n",
       "        [1, 0],\n",
       "        [1, 0],\n",
       "        ...,\n",
       "        [1, 0],\n",
       "        [1, 0],\n",
       "        [1, 0]],\n",
       "\n",
       "       [[1, 0],\n",
       "        [1, 0],\n",
       "        [0, 1],\n",
       "        ...,\n",
       "        [0, 1],\n",
       "        [1, 0],\n",
       "        [1, 0]]], dtype=int64)"
      ]
     },
     "execution_count": 57,
     "metadata": {},
     "output_type": "execute_result"
    }
   ],
   "source": [
    "y_test"
   ]
  },
  {
   "cell_type": "code",
   "execution_count": 58,
   "id": "ndyI5AuVgaGT",
   "metadata": {
    "id": "ndyI5AuVgaGT"
   },
   "outputs": [],
   "source": [
    "# data['functionSource'] =  [x.decode('utf-8') for x in data['functionSource'] ]\n",
    "list_tokenized_test = tokenizer.texts_to_sequences(X)\n",
    "x_test = tf.keras.preprocessing.sequence.pad_sequences(list_tokenized_test, \n",
    "                                  maxlen=INPUT_SIZE,\n",
    "                                  padding='post')\n",
    "x_test = x_test.astype(np.int64)"
   ]
  },
  {
   "cell_type": "code",
   "execution_count": 59,
   "id": "xd1lPiflAuAU",
   "metadata": {
    "colab": {
     "base_uri": "https://localhost:8080/"
    },
    "id": "xd1lPiflAuAU",
    "outputId": "1a5f2f39-a65d-4942-ebb0-fb688fc5c494",
    "scrolled": true
   },
   "outputs": [
    {
     "data": {
      "text/plain": [
       "array([[  31,   11,  177, ...,    0,    0,    0],\n",
       "       [  31,  245,  781, ...,    0,    0,    0],\n",
       "       [  31,   11,  338, ...,    0,    0,    0],\n",
       "       ...,\n",
       "       [  31,  246,  285, ...,    0,    0,    0],\n",
       "       [  31,   11, 2185, ...,    0,    0,    0],\n",
       "       [  31,    8,  338, ...,    0,    0,    0]], dtype=int64)"
      ]
     },
     "execution_count": 59,
     "metadata": {},
     "output_type": "execute_result"
    }
   ],
   "source": [
    "x_test"
   ]
  },
  {
   "cell_type": "code",
   "execution_count": 60,
   "id": "jORTy5DOwAvO",
   "metadata": {
    "colab": {
     "base_uri": "https://localhost:8080/"
    },
    "id": "jORTy5DOwAvO",
    "outputId": "aa942154-db38-4b34-8ffe-92a9c97e31fd",
    "scrolled": true
   },
   "outputs": [
    {
     "data": {
      "text/plain": [
       "array([[[1, 0],\n",
       "        [0, 1],\n",
       "        [1, 0],\n",
       "        ...,\n",
       "        [1, 0],\n",
       "        [0, 1],\n",
       "        [1, 0]],\n",
       "\n",
       "       [[1, 0],\n",
       "        [1, 0],\n",
       "        [1, 0],\n",
       "        ...,\n",
       "        [1, 0],\n",
       "        [1, 0],\n",
       "        [1, 0]],\n",
       "\n",
       "       [[1, 0],\n",
       "        [1, 0],\n",
       "        [1, 0],\n",
       "        ...,\n",
       "        [1, 0],\n",
       "        [1, 0],\n",
       "        [1, 0]],\n",
       "\n",
       "       ...,\n",
       "\n",
       "       [[1, 0],\n",
       "        [1, 0],\n",
       "        [1, 0],\n",
       "        ...,\n",
       "        [1, 0],\n",
       "        [1, 0],\n",
       "        [1, 0]],\n",
       "\n",
       "       [[1, 0],\n",
       "        [1, 0],\n",
       "        [1, 0],\n",
       "        ...,\n",
       "        [1, 0],\n",
       "        [1, 0],\n",
       "        [1, 0]],\n",
       "\n",
       "       [[1, 0],\n",
       "        [1, 0],\n",
       "        [0, 1],\n",
       "        ...,\n",
       "        [0, 1],\n",
       "        [1, 0],\n",
       "        [1, 0]]], dtype=int64)"
      ]
     },
     "execution_count": 60,
     "metadata": {},
     "output_type": "execute_result"
    }
   ],
   "source": [
    "y_test"
   ]
  },
  {
   "cell_type": "code",
   "execution_count": null,
   "id": "d09abfc7",
   "metadata": {
    "id": "d09abfc7"
   },
   "outputs": [],
   "source": [
    "# Load model\n",
    "model = tf.keras.models.load_model(\"svd_1.hdf5\")"
   ]
  },
  {
   "cell_type": "code",
   "execution_count": 45,
   "id": "6bd5e88e",
   "metadata": {
    "colab": {
     "base_uri": "https://localhost:8080/",
     "height": 397
    },
    "id": "6bd5e88e",
    "outputId": "ed61e9c9-11dd-4062-cf2a-196ea6a56292"
   },
   "outputs": [
    {
     "ename": "TypeError",
     "evalue": "Invalid keyword arguments: ['y_test']",
     "output_type": "error",
     "traceback": [
      "\u001b[1;31m---------------------------------------------------------------------------\u001b[0m",
      "\u001b[1;31mTypeError\u001b[0m                                 Traceback (most recent call last)",
      "Cell \u001b[1;32mIn[45], line 1\u001b[0m\n\u001b[1;32m----> 1\u001b[0m results \u001b[38;5;241m=\u001b[39m \u001b[43mmodel\u001b[49m\u001b[38;5;241;43m.\u001b[39;49m\u001b[43mevaluate\u001b[49m\u001b[43m(\u001b[49m\u001b[43mx_test\u001b[49m\u001b[43m,\u001b[49m\u001b[43m \u001b[49m\u001b[43my_test\u001b[49m\u001b[43m \u001b[49m\u001b[38;5;241;43m=\u001b[39;49m\u001b[43m \u001b[49m\u001b[43m[\u001b[49m\u001b[43my_test\u001b[49m\u001b[43m[\u001b[49m\u001b[38;5;241;43m0\u001b[39;49m\u001b[43m]\u001b[49m\u001b[43m,\u001b[49m\u001b[43my_test\u001b[49m\u001b[43m[\u001b[49m\u001b[38;5;241;43m1\u001b[39;49m\u001b[43m]\u001b[49m\u001b[43m,\u001b[49m\u001b[43my_test\u001b[49m\u001b[43m[\u001b[49m\u001b[38;5;241;43m2\u001b[39;49m\u001b[43m]\u001b[49m\u001b[43m,\u001b[49m\u001b[43my_test\u001b[49m\u001b[43m[\u001b[49m\u001b[38;5;241;43m3\u001b[39;49m\u001b[43m]\u001b[49m\u001b[43m,\u001b[49m\u001b[43my_test\u001b[49m\u001b[43m[\u001b[49m\u001b[38;5;241;43m4\u001b[39;49m\u001b[43m]\u001b[49m\u001b[43m]\u001b[49m\u001b[43m,\u001b[49m\u001b[43m \u001b[49m\u001b[43mbatch_size\u001b[49m\u001b[38;5;241;43m=\u001b[39;49m\u001b[38;5;241;43m128\u001b[39;49m\u001b[43m)\u001b[49m\n\u001b[0;32m      2\u001b[0m \u001b[38;5;28;01mfor\u001b[39;00m num \u001b[38;5;129;01min\u001b[39;00m \u001b[38;5;28mrange\u001b[39m(\u001b[38;5;241m0\u001b[39m,\u001b[38;5;28mlen\u001b[39m(model\u001b[38;5;241m.\u001b[39mmetrics_names)):\n\u001b[0;32m      3\u001b[0m     \u001b[38;5;28mprint\u001b[39m(model\u001b[38;5;241m.\u001b[39mmetrics_names[num]\u001b[38;5;241m+\u001b[39m\u001b[38;5;124m'\u001b[39m\u001b[38;5;124m: \u001b[39m\u001b[38;5;124m'\u001b[39m\u001b[38;5;241m+\u001b[39m\u001b[38;5;28mstr\u001b[39m(results[num]))\n",
      "File \u001b[1;32mD:\\anaconda\\lib\\site-packages\\keras\\utils\\traceback_utils.py:70\u001b[0m, in \u001b[0;36mfilter_traceback.<locals>.error_handler\u001b[1;34m(*args, **kwargs)\u001b[0m\n\u001b[0;32m     67\u001b[0m     filtered_tb \u001b[38;5;241m=\u001b[39m _process_traceback_frames(e\u001b[38;5;241m.\u001b[39m__traceback__)\n\u001b[0;32m     68\u001b[0m     \u001b[38;5;66;03m# To get the full stack trace, call:\u001b[39;00m\n\u001b[0;32m     69\u001b[0m     \u001b[38;5;66;03m# `tf.debugging.disable_traceback_filtering()`\u001b[39;00m\n\u001b[1;32m---> 70\u001b[0m     \u001b[38;5;28;01mraise\u001b[39;00m e\u001b[38;5;241m.\u001b[39mwith_traceback(filtered_tb) \u001b[38;5;28;01mfrom\u001b[39;00m \u001b[38;5;28mNone\u001b[39m\n\u001b[0;32m     71\u001b[0m \u001b[38;5;28;01mfinally\u001b[39;00m:\n\u001b[0;32m     72\u001b[0m     \u001b[38;5;28;01mdel\u001b[39;00m filtered_tb\n",
      "File \u001b[1;32mD:\\anaconda\\lib\\site-packages\\keras\\engine\\training.py:1981\u001b[0m, in \u001b[0;36mModel.evaluate\u001b[1;34m(self, x, y, batch_size, verbose, sample_weight, steps, callbacks, max_queue_size, workers, use_multiprocessing, return_dict, **kwargs)\u001b[0m\n\u001b[0;32m   1979\u001b[0m use_cached_eval_dataset \u001b[38;5;241m=\u001b[39m kwargs\u001b[38;5;241m.\u001b[39mpop(\u001b[38;5;124m\"\u001b[39m\u001b[38;5;124m_use_cached_eval_dataset\u001b[39m\u001b[38;5;124m\"\u001b[39m, \u001b[38;5;28;01mFalse\u001b[39;00m)\n\u001b[0;32m   1980\u001b[0m \u001b[38;5;28;01mif\u001b[39;00m kwargs:\n\u001b[1;32m-> 1981\u001b[0m     \u001b[38;5;28;01mraise\u001b[39;00m \u001b[38;5;167;01mTypeError\u001b[39;00m(\u001b[38;5;124mf\u001b[39m\u001b[38;5;124m\"\u001b[39m\u001b[38;5;124mInvalid keyword arguments: \u001b[39m\u001b[38;5;132;01m{\u001b[39;00m\u001b[38;5;28mlist\u001b[39m(kwargs\u001b[38;5;241m.\u001b[39mkeys())\u001b[38;5;132;01m}\u001b[39;00m\u001b[38;5;124m\"\u001b[39m)\n\u001b[0;32m   1983\u001b[0m \u001b[38;5;28;01mif\u001b[39;00m \u001b[38;5;28mself\u001b[39m\u001b[38;5;241m.\u001b[39mdistribute_strategy\u001b[38;5;241m.\u001b[39m_should_use_with_coordinator:\n\u001b[0;32m   1984\u001b[0m     \u001b[38;5;28mself\u001b[39m\u001b[38;5;241m.\u001b[39m_cluster_coordinator \u001b[38;5;241m=\u001b[39m (\n\u001b[0;32m   1985\u001b[0m         tf\u001b[38;5;241m.\u001b[39mdistribute\u001b[38;5;241m.\u001b[39mexperimental\u001b[38;5;241m.\u001b[39mcoordinator\u001b[38;5;241m.\u001b[39mClusterCoordinator(\n\u001b[0;32m   1986\u001b[0m             \u001b[38;5;28mself\u001b[39m\u001b[38;5;241m.\u001b[39mdistribute_strategy\n\u001b[0;32m   1987\u001b[0m         )\n\u001b[0;32m   1988\u001b[0m     )\n",
      "\u001b[1;31mTypeError\u001b[0m: Invalid keyword arguments: ['y_test']"
     ]
    }
   ],
   "source": [
    "results = model.evaluate(x_test, y_test = [y_test[0],y_test[1],y_test[2],y_test[3],y_test[4]], batch_size=128)\n",
    "for num in range(0,len(model.metrics_names)):\n",
    "    print(model.metrics_names[num]+': '+str(results[num]))"
   ]
  },
  {
   "cell_type": "code",
   "execution_count": 46,
   "id": "d8c341c7",
   "metadata": {
    "colab": {
     "base_uri": "https://localhost:8080/"
    },
    "id": "d8c341c7",
    "outputId": "893b8a4b-ce62-49f5-8bd5-dbe0eb19d1cb"
   },
   "outputs": [
    {
     "name": "stdout",
     "output_type": "stream",
     "text": [
      "261/261 [==============================] - 5s 13ms/step\n"
     ]
    }
   ],
   "source": [
    "predicted = model.predict(x_test)"
   ]
  },
  {
   "cell_type": "code",
   "execution_count": 68,
   "id": "HPfESY0UwK4D",
   "metadata": {
    "id": "HPfESY0UwK4D"
   },
   "outputs": [],
   "source": [
    "from sklearn.metrics import confusion_matrix"
   ]
  },
  {
   "cell_type": "code",
   "execution_count": 73,
   "id": "OImnXimCwnZr",
   "metadata": {
    "colab": {
     "base_uri": "https://localhost:8080/"
    },
    "id": "OImnXimCwnZr",
    "outputId": "8179a210-a1dd-44ce-cd8d-d40a83a7cd49"
   },
   "outputs": [
    {
     "data": {
      "text/plain": [
       "array([[0, 1],\n",
       "       [1, 0],\n",
       "       [1, 0],\n",
       "       ...,\n",
       "       [1, 0],\n",
       "       [0, 1],\n",
       "       [1, 0]])"
      ]
     },
     "execution_count": 73,
     "metadata": {},
     "output_type": "execute_result"
    }
   ],
   "source": [
    "y_test[0]"
   ]
  },
  {
   "cell_type": "code",
   "execution_count": 76,
   "id": "W-W0h1ho-ukC",
   "metadata": {
    "colab": {
     "base_uri": "https://localhost:8080/",
     "height": 424
    },
    "id": "W-W0h1ho-ukC",
    "outputId": "20a1f20b-7199-4661-a372-c60808697ef6"
   },
   "outputs": [
    {
     "data": {
      "text/html": [
       "\n",
       "  <div id=\"df-175e56d9-57e0-4670-b003-afd89a99e025\">\n",
       "    <div class=\"colab-df-container\">\n",
       "      <div>\n",
       "<style scoped>\n",
       "    .dataframe tbody tr th:only-of-type {\n",
       "        vertical-align: middle;\n",
       "    }\n",
       "\n",
       "    .dataframe tbody tr th {\n",
       "        vertical-align: top;\n",
       "    }\n",
       "\n",
       "    .dataframe thead th {\n",
       "        text-align: right;\n",
       "    }\n",
       "</style>\n",
       "<table border=\"1\" class=\"dataframe\">\n",
       "  <thead>\n",
       "    <tr style=\"text-align: right;\">\n",
       "      <th></th>\n",
       "      <th>CWE-119</th>\n",
       "      <th>CWE-120</th>\n",
       "      <th>CWE-469</th>\n",
       "      <th>CWE-476</th>\n",
       "      <th>CWE-other</th>\n",
       "      <th>functionSource</th>\n",
       "    </tr>\n",
       "  </thead>\n",
       "  <tbody>\n",
       "    <tr>\n",
       "      <th>6185</th>\n",
       "      <td>1</td>\n",
       "      <td>1</td>\n",
       "      <td>0</td>\n",
       "      <td>0</td>\n",
       "      <td>0</td>\n",
       "      <td>b'_compare_ints(_cs_io_t         *inp1,\\n     ...</td>\n",
       "    </tr>\n",
       "    <tr>\n",
       "      <th>5506</th>\n",
       "      <td>0</td>\n",
       "      <td>0</td>\n",
       "      <td>0</td>\n",
       "      <td>0</td>\n",
       "      <td>1</td>\n",
       "      <td>b'fits_write_header(const qfits_header* hdr, c...</td>\n",
       "    </tr>\n",
       "    <tr>\n",
       "      <th>1201</th>\n",
       "      <td>0</td>\n",
       "      <td>1</td>\n",
       "      <td>0</td>\n",
       "      <td>0</td>\n",
       "      <td>0</td>\n",
       "      <td>b'server_unlink (rpcsvc_request_t *req)\\n{\\n  ...</td>\n",
       "    </tr>\n",
       "    <tr>\n",
       "      <th>3064</th>\n",
       "      <td>1</td>\n",
       "      <td>1</td>\n",
       "      <td>0</td>\n",
       "      <td>0</td>\n",
       "      <td>0</td>\n",
       "      <td>b\"hexdump(unsigned char *s, unsigned long l)\\n...</td>\n",
       "    </tr>\n",
       "    <tr>\n",
       "      <th>1077</th>\n",
       "      <td>0</td>\n",
       "      <td>0</td>\n",
       "      <td>0</td>\n",
       "      <td>0</td>\n",
       "      <td>1</td>\n",
       "      <td>b'GLESendSocket(const string&amp; commands) {\\n#if...</td>\n",
       "    </tr>\n",
       "    <tr>\n",
       "      <th>...</th>\n",
       "      <td>...</td>\n",
       "      <td>...</td>\n",
       "      <td>...</td>\n",
       "      <td>...</td>\n",
       "      <td>...</td>\n",
       "      <td>...</td>\n",
       "    </tr>\n",
       "    <tr>\n",
       "      <th>1727</th>\n",
       "      <td>0</td>\n",
       "      <td>0</td>\n",
       "      <td>0</td>\n",
       "      <td>1</td>\n",
       "      <td>0</td>\n",
       "      <td>b'qpol_constraint_get_perm_iter(const qpol_pol...</td>\n",
       "    </tr>\n",
       "    <tr>\n",
       "      <th>5756</th>\n",
       "      <td>0</td>\n",
       "      <td>1</td>\n",
       "      <td>0</td>\n",
       "      <td>0</td>\n",
       "      <td>1</td>\n",
       "      <td>b'main(int argc, char ** argv)\\n{\\n  dxml_elem...</td>\n",
       "    </tr>\n",
       "    <tr>\n",
       "      <th>5697</th>\n",
       "      <td>0</td>\n",
       "      <td>1</td>\n",
       "      <td>0</td>\n",
       "      <td>0</td>\n",
       "      <td>0</td>\n",
       "      <td>b\"cob_move_alphanum_to_alphanum (cob_field *f1...</td>\n",
       "    </tr>\n",
       "    <tr>\n",
       "      <th>8159</th>\n",
       "      <td>1</td>\n",
       "      <td>1</td>\n",
       "      <td>0</td>\n",
       "      <td>0</td>\n",
       "      <td>0</td>\n",
       "      <td>b'git_path_find_dir(git_buf *dir, const char *...</td>\n",
       "    </tr>\n",
       "    <tr>\n",
       "      <th>3391</th>\n",
       "      <td>0</td>\n",
       "      <td>0</td>\n",
       "      <td>0</td>\n",
       "      <td>0</td>\n",
       "      <td>1</td>\n",
       "      <td>b'infix_show_object(zword object)\\n{\\n  const ...</td>\n",
       "    </tr>\n",
       "  </tbody>\n",
       "</table>\n",
       "<p>8322 rows × 6 columns</p>\n",
       "</div>\n",
       "      <button class=\"colab-df-convert\" onclick=\"convertToInteractive('df-175e56d9-57e0-4670-b003-afd89a99e025')\"\n",
       "              title=\"Convert this dataframe to an interactive table.\"\n",
       "              style=\"display:none;\">\n",
       "        \n",
       "  <svg xmlns=\"http://www.w3.org/2000/svg\" height=\"24px\"viewBox=\"0 0 24 24\"\n",
       "       width=\"24px\">\n",
       "    <path d=\"M0 0h24v24H0V0z\" fill=\"none\"/>\n",
       "    <path d=\"M18.56 5.44l.94 2.06.94-2.06 2.06-.94-2.06-.94-.94-2.06-.94 2.06-2.06.94zm-11 1L8.5 8.5l.94-2.06 2.06-.94-2.06-.94L8.5 2.5l-.94 2.06-2.06.94zm10 10l.94 2.06.94-2.06 2.06-.94-2.06-.94-.94-2.06-.94 2.06-2.06.94z\"/><path d=\"M17.41 7.96l-1.37-1.37c-.4-.4-.92-.59-1.43-.59-.52 0-1.04.2-1.43.59L10.3 9.45l-7.72 7.72c-.78.78-.78 2.05 0 2.83L4 21.41c.39.39.9.59 1.41.59.51 0 1.02-.2 1.41-.59l7.78-7.78 2.81-2.81c.8-.78.8-2.07 0-2.86zM5.41 20L4 18.59l7.72-7.72 1.47 1.35L5.41 20z\"/>\n",
       "  </svg>\n",
       "      </button>\n",
       "      \n",
       "  <style>\n",
       "    .colab-df-container {\n",
       "      display:flex;\n",
       "      flex-wrap:wrap;\n",
       "      gap: 12px;\n",
       "    }\n",
       "\n",
       "    .colab-df-convert {\n",
       "      background-color: #E8F0FE;\n",
       "      border: none;\n",
       "      border-radius: 50%;\n",
       "      cursor: pointer;\n",
       "      display: none;\n",
       "      fill: #1967D2;\n",
       "      height: 32px;\n",
       "      padding: 0 0 0 0;\n",
       "      width: 32px;\n",
       "    }\n",
       "\n",
       "    .colab-df-convert:hover {\n",
       "      background-color: #E2EBFA;\n",
       "      box-shadow: 0px 1px 2px rgba(60, 64, 67, 0.3), 0px 1px 3px 1px rgba(60, 64, 67, 0.15);\n",
       "      fill: #174EA6;\n",
       "    }\n",
       "\n",
       "    [theme=dark] .colab-df-convert {\n",
       "      background-color: #3B4455;\n",
       "      fill: #D2E3FC;\n",
       "    }\n",
       "\n",
       "    [theme=dark] .colab-df-convert:hover {\n",
       "      background-color: #434B5C;\n",
       "      box-shadow: 0px 1px 3px 1px rgba(0, 0, 0, 0.15);\n",
       "      filter: drop-shadow(0px 1px 2px rgba(0, 0, 0, 0.3));\n",
       "      fill: #FFFFFF;\n",
       "    }\n",
       "  </style>\n",
       "\n",
       "      <script>\n",
       "        const buttonEl =\n",
       "          document.querySelector('#df-175e56d9-57e0-4670-b003-afd89a99e025 button.colab-df-convert');\n",
       "        buttonEl.style.display =\n",
       "          google.colab.kernel.accessAllowed ? 'block' : 'none';\n",
       "\n",
       "        async function convertToInteractive(key) {\n",
       "          const element = document.querySelector('#df-175e56d9-57e0-4670-b003-afd89a99e025');\n",
       "          const dataTable =\n",
       "            await google.colab.kernel.invokeFunction('convertToInteractive',\n",
       "                                                     [key], {});\n",
       "          if (!dataTable) return;\n",
       "\n",
       "          const docLinkHtml = 'Like what you see? Visit the ' +\n",
       "            '<a target=\"_blank\" href=https://colab.research.google.com/notebooks/data_table.ipynb>data table notebook</a>'\n",
       "            + ' to learn more about interactive tables.';\n",
       "          element.innerHTML = '';\n",
       "          dataTable['output_type'] = 'display_data';\n",
       "          await google.colab.output.renderOutput(dataTable, element);\n",
       "          const docLink = document.createElement('div');\n",
       "          docLink.innerHTML = docLinkHtml;\n",
       "          element.appendChild(docLink);\n",
       "        }\n",
       "      </script>\n",
       "    </div>\n",
       "  </div>\n",
       "  "
      ],
      "text/plain": [
       "      CWE-119  CWE-120  CWE-469  CWE-476  CWE-other  \\\n",
       "6185        1        1        0        0          0   \n",
       "5506        0        0        0        0          1   \n",
       "1201        0        1        0        0          0   \n",
       "3064        1        1        0        0          0   \n",
       "1077        0        0        0        0          1   \n",
       "...       ...      ...      ...      ...        ...   \n",
       "1727        0        0        0        1          0   \n",
       "5756        0        1        0        0          1   \n",
       "5697        0        1        0        0          0   \n",
       "8159        1        1        0        0          0   \n",
       "3391        0        0        0        0          1   \n",
       "\n",
       "                                         functionSource  \n",
       "6185  b'_compare_ints(_cs_io_t         *inp1,\\n     ...  \n",
       "5506  b'fits_write_header(const qfits_header* hdr, c...  \n",
       "1201  b'server_unlink (rpcsvc_request_t *req)\\n{\\n  ...  \n",
       "3064  b\"hexdump(unsigned char *s, unsigned long l)\\n...  \n",
       "1077  b'GLESendSocket(const string& commands) {\\n#if...  \n",
       "...                                                 ...  \n",
       "1727  b'qpol_constraint_get_perm_iter(const qpol_pol...  \n",
       "5756  b'main(int argc, char ** argv)\\n{\\n  dxml_elem...  \n",
       "5697  b\"cob_move_alphanum_to_alphanum (cob_field *f1...  \n",
       "8159  b'git_path_find_dir(git_buf *dir, const char *...  \n",
       "3391  b'infix_show_object(zword object)\\n{\\n  const ...  \n",
       "\n",
       "[8322 rows x 6 columns]"
      ]
     },
     "execution_count": 76,
     "metadata": {},
     "output_type": "execute_result"
    }
   ],
   "source": [
    "data_test"
   ]
  },
  {
   "cell_type": "code",
   "execution_count": 47,
   "id": "oxIKbmy0wbke",
   "metadata": {
    "colab": {
     "base_uri": "https://localhost:8080/"
    },
    "id": "oxIKbmy0wbke",
    "outputId": "5ba8e87a-efd6-4c08-9a5a-c3eaf880233f"
   },
   "outputs": [
    {
     "name": "stdout",
     "output_type": "stream",
     "text": [
      "261/261 [==============================] - 4s 13ms/step - loss: 4.6806 - dense_2_loss: 0.9708 - dense_3_loss: 1.2906 - dense_4_loss: 0.3931 - dense_5_loss: 0.7554 - dense_6_loss: 1.2708 - dense_2_accuracy: 0.8765 - dense_3_accuracy: 0.8425 - dense_4_accuracy: 0.9637 - dense_5_accuracy: 0.9136 - dense_6_accuracy: 0.8128\n"
     ]
    },
    {
     "data": {
      "text/plain": [
       "[4.680647850036621,\n",
       " 0.9707695245742798,\n",
       " 1.2905772924423218,\n",
       " 0.39306971430778503,\n",
       " 0.7554128766059875,\n",
       " 1.270817756652832,\n",
       " 0.876471996307373,\n",
       " 0.8424657583236694,\n",
       " 0.9637106657028198,\n",
       " 0.9136024713516235,\n",
       " 0.8127853870391846]"
      ]
     },
     "execution_count": 47,
     "metadata": {},
     "output_type": "execute_result"
    }
   ],
   "source": [
    "model.evaluate(x_test,y = [y_test[0],y_test[1],y_test[2],y_test[3],y_test[4]])"
   ]
  },
  {
   "cell_type": "code",
   "execution_count": 52,
   "id": "dafb9ac9",
   "metadata": {},
   "outputs": [],
   "source": [
    "model.save('vuldet.h5')"
   ]
  },
  {
   "cell_type": "code",
   "execution_count": 51,
   "id": "efd57068",
   "metadata": {},
   "outputs": [],
   "source": [
    "model = tf.keras.models.load_model(\"vuldet\")"
   ]
  },
  {
   "cell_type": "code",
   "execution_count": 7,
   "id": "baf64ef6",
   "metadata": {
    "scrolled": true
   },
   "outputs": [
    {
     "name": "stdout",
     "output_type": "stream",
     "text": [
      "\n",
      "This is evaluation for column 1\n"
     ]
    },
    {
     "ename": "NameError",
     "evalue": "name 'test' is not defined",
     "output_type": "error",
     "traceback": [
      "\u001b[1;31m---------------------------------------------------------------------------\u001b[0m",
      "\u001b[1;31mNameError\u001b[0m                                 Traceback (most recent call last)",
      "Cell \u001b[1;32mIn[7], line 3\u001b[0m\n\u001b[0;32m      1\u001b[0m \u001b[38;5;28;01mfor\u001b[39;00m col \u001b[38;5;129;01min\u001b[39;00m \u001b[38;5;28mrange\u001b[39m(\u001b[38;5;241m1\u001b[39m,\u001b[38;5;241m6\u001b[39m):\n\u001b[0;32m      2\u001b[0m     \u001b[38;5;28mprint\u001b[39m(\u001b[38;5;124m'\u001b[39m\u001b[38;5;130;01m\\n\u001b[39;00m\u001b[38;5;124mThis is evaluation for column\u001b[39m\u001b[38;5;124m'\u001b[39m,col)\n\u001b[1;32m----> 3\u001b[0m     confusion \u001b[38;5;241m=\u001b[39m sklearn\u001b[38;5;241m.\u001b[39mmetrics\u001b[38;5;241m.\u001b[39mconfusion_matrix(y_train\u001b[38;5;241m=\u001b[39m\u001b[43mtest\u001b[49m\u001b[38;5;241m.\u001b[39miloc[:,col]\u001b[38;5;241m.\u001b[39mto_numpy(), y_pred\u001b[38;5;241m=\u001b[39mpredicted[col\u001b[38;5;241m-\u001b[39m\u001b[38;5;241m1\u001b[39m])\n\u001b[0;32m      4\u001b[0m     \u001b[38;5;28mprint\u001b[39m(confusion)\n\u001b[0;32m      5\u001b[0m     tn, fp, fn, tp \u001b[38;5;241m=\u001b[39m confusion\u001b[38;5;241m.\u001b[39mravel()\n",
      "\u001b[1;31mNameError\u001b[0m: name 'test' is not defined"
     ]
    }
   ],
   "source": [
    "\n",
    "for col in range(1,6):\n",
    "    print('\\nThis is evaluation for column',col)\n",
    "    confusion = sklearn.metrics.confusion_matrix(y_train=test.iloc[:,col].to_numpy(), y_pred=predicted[col-1])\n",
    "    print(confusion)\n",
    "    tn, fp, fn, tp = confusion.ravel()\n",
    "    print('\\nTP:',tp)\n",
    "    print('FP:',fp)\n",
    "    print('TN:',tn)\n",
    "    print('FN:',fn)\n",
    "\n",
    "    ## Performance measure\n",
    "#     print('\\nAccuracy: '+ str(sklearn.metrics.accuracy_score(y_true=test.iloc[:,col].to_numpy(), y_pred=pred_test[col-1])))\n",
    "#     print('Precision: '+ str(sklearn.metrics.precision_score(y_true=test.iloc[:,col].to_numpy(), y_pred=pred_test[col-1])))\n",
    "#     print('Recall: '+ str(sklearn.metrics.recall_score(y_true=test.iloc[:,col].to_numpy(), y_pred=pred_test[col-1])))\n",
    "#     print('F-measure: '+ str(sklearn.metrics.f1_score(y_true=test.iloc[:,col].to_numpy(), y_pred=pred_test[col-1])))\n",
    "#     print('Precision-Recall AUC: '+ str(sklearn.metrics.average_precision_score(y_true=test.iloc[:,col].to_numpy(), y_score=predicted[col-1][:,1])))\n",
    "#     print('AUC: '+ str(sklearn.metrics.roc_auc_score(y_true=test.iloc[:,col].to_numpy(), y_score=predicted[col-1][:,1])))\n",
    "#     print('MCC: '+ str(sklearn.metrics.matthews_corrcoef(y_true=test.iloc[:,col].to_numpy(), y_pred=pred_test[col-1])))"
   ]
  },
  {
   "cell_type": "code",
   "execution_count": null,
   "id": "c6aae431",
   "metadata": {},
   "outputs": [],
   "source": []
  }
 ],
 "metadata": {
  "accelerator": "GPU",
  "colab": {
   "provenance": []
  },
  "gpuClass": "standard",
  "kernelspec": {
   "display_name": "Python 3 (ipykernel)",
   "language": "python",
   "name": "python3"
  },
  "language_info": {
   "codemirror_mode": {
    "name": "ipython",
    "version": 3
   },
   "file_extension": ".py",
   "mimetype": "text/x-python",
   "name": "python",
   "nbconvert_exporter": "python",
   "pygments_lexer": "ipython3",
   "version": "3.9.16"
  }
 },
 "nbformat": 4,
 "nbformat_minor": 5
}
