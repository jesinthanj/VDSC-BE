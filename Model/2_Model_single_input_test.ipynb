{
 "cells": [
  {
   "cell_type": "code",
   "execution_count": 10,
   "id": "8ea19f0e",
   "metadata": {
    "id": "8ea19f0e"
   },
   "outputs": [],
   "source": [
    "import pandas as pd \n",
    "import numpy as np\n",
    "import tensorflow as tf\n",
    "import pickle"
   ]
  },
  {
   "cell_type": "code",
   "execution_count": 11,
   "id": "91b9de8d",
   "metadata": {},
   "outputs": [],
   "source": [
    "# import tensorflow as tf\n",
    "# device_name = tf.test.gpu_device_name()\n",
    "# if device_name != '/device:GPU:0':\n",
    "#   raise SystemError('GPU device not found')\n",
    "# print('Found GPU at: {}'.format(device_name))"
   ]
  },
  {
   "cell_type": "code",
   "execution_count": 12,
   "id": "59d0fa2b",
   "metadata": {
    "id": "9ae9cd27"
   },
   "outputs": [],
   "source": [
    "# train=pd.read_pickle(\"VDISC_train1.pickle\")\n",
    "# # validate=pd.read_pickle(\"VDISC_validate.pickle\")\n",
    "# test=pd.read_pickle(\"VDISC_test1.pickle\")\n",
    "\n",
    "# for dataset in [train,test]:\n",
    "#     for col in range(1,6):\n",
    "#         dataset.iloc[:,col] = dataset.iloc[:,col].map({False: 0, True: 1})\n",
    "\n",
    "# # Create source code sdata for tokenization\n",
    "# x_all = train['functionSource']\n",
    "# x_all = [x.decode('utf-8') for x in x_all]\n",
    "# #x_all = x_all.append(validate['functionSource'])\n",
    "# #x_all = x_all.append(test['functionSource'])\n",
    "\n",
    "# # Tokenizer with word-level\n",
    "# tokenizer = tf.keras.preprocessing.text.Tokenizer(char_level=False)\n",
    "# tokenizer.fit_on_texts(list(x_all))\n",
    "# del(x_all)"
   ]
  },
  {
   "cell_type": "code",
   "execution_count": 13,
   "id": "2897afa4",
   "metadata": {},
   "outputs": [],
   "source": [
    "with open('tokenizer.pickle', 'rb') as handle:\n",
    "    tokenizer= pickle.load(handle)"
   ]
  },
  {
   "cell_type": "code",
   "execution_count": 14,
   "id": "adfaca43",
   "metadata": {},
   "outputs": [
    {
     "data": {
      "text/plain": [
       "<keras.preprocessing.text.Tokenizer at 0x14222f665c0>"
      ]
     },
     "execution_count": 14,
     "metadata": {},
     "output_type": "execute_result"
    }
   ],
   "source": [
    "tokenizer"
   ]
  },
  {
   "cell_type": "code",
   "execution_count": 15,
   "id": "f64ac26b",
   "metadata": {
    "id": "f64ac26b",
    "scrolled": false
   },
   "outputs": [],
   "source": [
    "model = tf.keras.models.load_model(\"vulcnn.h5\")\n"
   ]
  },
  {
   "cell_type": "code",
   "execution_count": 16,
   "id": "ec88e5c3",
   "metadata": {},
   "outputs": [],
   "source": [
    "# texts=tokenizer.sequences_to_texts(list_tokenized_text)"
   ]
  },
  {
   "attachments": {},
   "cell_type": "markdown",
   "id": "6414e3ec",
   "metadata": {},
   "source": [
    "reverse_word_map= dict(map(reversed, tokenizer.word_index.items()))\n",
    "\n",
    "def sequence_to_text(list_of_indices):\n",
    "    # Looking up words in dictionary\n",
    "    words = [reverse_word_map.get(letter) for letter in list_of_indices]\n",
    "    return(words)\n",
    "\n",
    " Creating texts \n",
    "my_texts = list(map(sequence_to_text, list_tokenized_text))"
   ]
  },
  {
   "cell_type": "code",
   "execution_count": 17,
   "id": "94f2867c",
   "metadata": {
    "id": "1a19af0e"
   },
   "outputs": [
    {
     "name": "stdout",
     "output_type": "stream",
     "text": [
      "static void goodG2B2() size_t data ; data = 0;if ( STATIC_CONST_FIVE == 5 )data = 20;if ( STATIC_CONST_FIVE == 5 )char * myString ;if ( data > strlen ( HELLO_STRING ) )myString = ( char * ) malloc ( data * sizeof ( char ) ); strcpy ( myString , HELLO_STRING ); printLine ( myString ); void printLine (const char * line) if ( line != NULL )printf ( %s\n",
      " , line ); free ( myString );\n"
     ]
    }
   ],
   "source": [
    "source_code =\"static void goodG2B2() size_t data ; data = 0;if ( STATIC_CONST_FIVE == 5 )data = 20;if ( STATIC_CONST_FIVE == 5 )char * myString ;if ( data > strlen ( HELLO_STRING ) )myString = ( char * ) malloc ( data * sizeof ( char ) ); strcpy ( myString , HELLO_STRING ); printLine ( myString ); void printLine (const char * line) if ( line != NULL )printf ( \"\"%s\\n\"\" , line ); free ( myString );\"\n",
    "\n",
    "list_tokenized_text = tokenizer.texts_to_sequences(source_code)\n",
    "print(source_code)\n",
    "\n",
    "data = tf.keras.preprocessing.sequence.pad_sequences(list_tokenized_text,\n",
    "                                                                 maxlen=500,\n",
    "                                                                 padding='post',\n",
    "                                                     dtype=object)\n",
    "data = data.astype(np.int64)"
   ]
  },
  {
   "cell_type": "code",
   "execution_count": null,
   "id": "jdQqUgWdP-mc",
   "metadata": {
    "colab": {
     "base_uri": "https://localhost:8080/"
    },
    "id": "jdQqUgWdP-mc",
    "outputId": "b2aa0047-b6ce-4e08-c0b8-b7e7d93a08bc",
    "scrolled": true
   },
   "outputs": [],
   "source": []
  },
  {
   "cell_type": "code",
   "execution_count": 18,
   "id": "71e86548",
   "metadata": {
    "colab": {
     "base_uri": "https://localhost:8080/"
    },
    "id": "71e86548",
    "outputId": "4c9fd760-b16b-4d2b-edfc-8c651920b39b",
    "scrolled": true
   },
   "outputs": [
    {
     "name": "stdout",
     "output_type": "stream",
     "text": [
      "12/12 [==============================] - 1s 42ms/step\n"
     ]
    }
   ],
   "source": [
    "predicted = model.predict(data)"
   ]
  },
  {
   "cell_type": "code",
   "execution_count": 19,
   "id": "m0v26StUQMqq",
   "metadata": {
    "colab": {
     "base_uri": "https://localhost:8080/"
    },
    "id": "m0v26StUQMqq",
    "outputId": "665cd664-f155-4d88-a6d8-2fde65e9d117",
    "scrolled": true
   },
   "outputs": [
    {
     "name": "stdout",
     "output_type": "stream",
     "text": [
      "0    380\n",
      "dtype: int64\n",
      "0    380\n",
      "dtype: int64\n",
      "0    380\n",
      "dtype: int64\n",
      "0    380\n",
      "dtype: int64\n",
      "0    380\n",
      "dtype: int64\n",
      "0    380\n",
      "dtype: int64\n",
      "0    380\n",
      "dtype: int64\n",
      "0    380\n",
      "dtype: int64\n",
      "0    369\n",
      "1     11\n",
      "dtype: int64\n",
      "0    380\n",
      "dtype: int64\n",
      "0    380\n",
      "dtype: int64\n",
      "0    380\n",
      "dtype: int64\n",
      "0    380\n",
      "dtype: int64\n",
      "0    380\n",
      "dtype: int64\n",
      "0    380\n",
      "dtype: int64\n",
      "0    380\n",
      "dtype: int64\n",
      "0    380\n",
      "dtype: int64\n"
     ]
    }
   ],
   "source": [
    "# False - 0, True - 1\n",
    "pred_test = [[],[],[],[],[],[],[],[],[],[],[],[],[],[],[],[],[]]\n",
    "\n",
    "for col in range(0,len(predicted)):\n",
    "    for i, row in enumerate(predicted[col]):\n",
    "        if row[0] >= row[1]:\n",
    "            pred_test[col].append(0)\n",
    "        else:\n",
    "            pred_test[col].append(1)\n",
    "\n",
    "for col in range(0,len(pred_test)):\n",
    "    print(pd.value_counts(pred_test[col]))\n",
    " "
   ]
  },
  {
   "cell_type": "code",
   "execution_count": null,
   "id": "017b8518",
   "metadata": {},
   "outputs": [],
   "source": []
  },
  {
   "cell_type": "code",
   "execution_count": 20,
   "id": "92fd1038",
   "metadata": {},
   "outputs": [
    {
     "name": "stdout",
     "output_type": "stream",
     "text": [
      "The vulnerability class detected is:  CWE427\n",
      "\n",
      "Localized code:\n",
      "\n",
      "static void goodG2B2() size_t data ; data = 0;if ( STATIC_CONST_FIVE == 5 )data = 20;if ( STATIC_CONST_FIVE == 5 )char * myString ;if ( data > strlen ( HELLO_STRING ) )myString = ( char * ) malloc ( data * \u001b[91msizeof\u001b[0m ( char ) ); strcpy ( myString , HELLO_STRING ); pr\u001b[91mint\u001b[0mLine ( myString ); void pr\u001b[91mint\u001b[0mLine (const char * line) if ( line != NULL )pr\u001b[91mint\u001b[0mf ( %s\n",
      " , line ); free ( myString );\n"
     ]
    }
   ],
   "source": [
    "column_names = ['CWE114', 'CWE134', 'CWE190', 'CWE196', 'CWE319', 'CWE369', 'CWE398',\n",
    "               'CWE416', 'CWE427', 'CWE469', 'CWE506', 'CWE605', 'CWE606', 'CWE666',\n",
    "               'CWE680', 'CWE761', 'CWE789']\n",
    "\n",
    "indices = [[i for i, val in enumerate(col) if val == 1] for col in pred_test]\n",
    "\n",
    "indices_list = [i for i, col in enumerate(pred_test) if any(val == 1 for val in col)]\n",
    "i=[str(index) for index in indices_list]\n",
    "res_i=\"\".join(i)\n",
    "res=int(res_i)\n",
    "\n",
    "print(\"The vulnerability class detected is: \",column_names[res])\n",
    "\n",
    "\n",
    "words=[]\n",
    "for index in indices:\n",
    "    if len(index) > 0:\n",
    "        for i in index:\n",
    "                predicted_word = tokenizer.index_word[i]\n",
    "                words.append(predicted_word)\n",
    "                \n",
    "                \n",
    "def highlight_words(sentence, words):\n",
    "    highlighted_sentence = sentence\n",
    "    for word in words:       \n",
    "        highlighted_word = f\"\\033[91m{word}\\033[0m\"  # Use ANSI escape codes for red color\n",
    "        highlighted_sentence = highlighted_sentence.replace(word, highlighted_word)\n",
    "    return highlighted_sentence\n",
    "\n",
    "sentence = source_code\n",
    "highlighted_words = words\n",
    "highlighted_sentence = highlight_words(sentence, highlighted_words)\n",
    "\n",
    "print()\n",
    "print(\"Localized code:\")\n",
    "print()\n",
    "print(highlighted_sentence)\n"
   ]
  },
  {
   "cell_type": "code",
   "execution_count": null,
   "id": "f46ce8ad",
   "metadata": {},
   "outputs": [],
   "source": [
    "\n"
   ]
  },
  {
   "attachments": {},
   "cell_type": "markdown",
   "id": "5de35979",
   "metadata": {},
   "source": [
    "predicted_token_index = np.argmax(pred_test)\n",
    "\n",
    "# Get the corresponding word from the vocabulary\n",
    "predicted_word = tokenizer.index_word[predicted_token_index+1]\n",
    "\n",
    "# Output the predicted word\n",
    "print(predicted_word)\n",
    "print(predicted_token_index)"
   ]
  },
  {
   "cell_type": "code",
   "execution_count": null,
   "id": "e31a9162",
   "metadata": {},
   "outputs": [],
   "source": []
  },
  {
   "cell_type": "code",
   "execution_count": null,
   "id": "6f24a06c",
   "metadata": {},
   "outputs": [],
   "source": []
  },
  {
   "attachments": {},
   "cell_type": "markdown",
   "id": "6cb377a2",
   "metadata": {},
   "source": [
    "#Code for vulnerability\n",
    "\n",
    "b'snd_es1968_pcm(struct es1968 *chip, int device)\\n{\\n\\tstruct snd_pcm *pcm;\\n\\tint err;\\n\\n\\t/* get DMA buffer */\\n\\tif ((err = snd_es1968_init_dmabuf(chip)) < 0)\\n\\t\\treturn err;\\n\\n\\t/* set PCMBAR */\\n\\twave_set_register(chip, 0x01FC, chip->dma.addr >> 12);\\n\\twave_set_register(chip, 0x01FD, chip->dma.addr >> 12);\\n\\twave_set_register(chip, 0x01FE, chip->dma.addr >> 12);\\n\\twave_set_register(chip, 0x01FF, chip->dma.addr >> 12);\\n\\n\\tif ((err = snd_pcm_new(chip->card, \"\"ESS Maestro\"\", device,\\n\\t\\t\\t       chip->playback_streams,\\n\\t\\t\\t       chip->capture_streams, &pcm)) < 0)\\n\\t\\treturn err;\\n\\n\\tpcm->private_data = chip;\\n\\tpcm->private_free = snd_es1968_pcm_free;\\n\\n\\tsnd_pcm_set_ops(pcm, SNDRV_PCM_STREAM_PLAYBACK, &snd_es1968_playback_ops);\\n\\tsnd_pcm_set_ops(pcm, SNDRV_PCM_STREAM_CAPTURE, &snd_es1968_capture_ops);\\n\\n\\tpcm->info_flags = 0;\\n\\n\\tstrcpy(pcm->name, \"\"ESS Maestro\"\");\\n\\n\\tchip->pcm = pcm;\\n\\n\\treturn 0;\\n}'\n",
    "\n",
    "\n",
    "b'open_uri(const gchar * uri)\\n{\\n\\tint result;\\n\\tgchar *command;\\n\\tGError *error = NULL;\\n#ifdef WIN32\\n\\tgchar *browser_command =\\n\\t\\tcfg_get_single_value_as_string_with_default(config, \"\"Misc\"\", \"\"browser-win32\"\", \"\"cmd /c start %s\"\");\\n#else\\n#ifdef OSX\\n\\tgchar *browser_command = cfg_get_single_value_as_string_with_default(config, \"\"Misc\"\", \"\"browser-osx\"\", \"\"open \\'%s\\'\"\");\\n#else\\n\\tgchar *browser_command = cfg_get_single_value_as_string_with_default(config, \"\"Misc\"\", \"\"browser\"\", \"\"xdg-open \\'%s\\'\"\");\\n#endif\\n#endif\\n\\tgchar *escaped_uri = g_strdup(uri);\\n\\tcommand = g_strdup_printf(browser_command, escaped_uri);\\n\\tg_free(escaped_uri);\\n\\tresult = g_spawn_command_line_async(command, &error);\\n\\tif (error)\\n\\t{\\n\\n\\t\\tgchar *str = g_markup_printf_escaped(\"\"%s: \\'%s\\': %s\"\", _(\"\"Failed to execute\"\"), command, error->message);\\n\\t\\tplaylist3_show_error_message(str, ERROR_WARNING);\\n\\t\\tg_free(str);\\n\\t\\tg_error_free(error);\\n\\t\\terror = NULL;\\n\\t}\\n\\tg_free(browser_command);\\n\\tg_free(command);\\n}'\n",
    "\n",
    "\n",
    "b'simple_object_mach_o_write_header (simple_object_write *sobj, int descriptor,\\n\\t\\t\\t\\t   size_t nsects, const char **errmsg,\\n\\t\\t\\t\\t   int *err)\\n{\\n  struct simple_object_mach_o_attributes *attrs =\\n    (struct simple_object_mach_o_attributes *) sobj->data;\\n  void (*set_32) (unsigned char *, unsigned int);\\n  unsigned char hdrbuf[sizeof (struct mach_o_header_64)];\\n  unsigned char *hdr;\\n  size_t wrsize;\\n\\n  set_32 = (attrs->is_big_endian\\n\\t    ? simple_object_set_big_32\\n\\t    : simple_object_set_little_32);\\n\\n  memset (hdrbuf, 0, sizeof hdrbuf);\\n\\n  /* The 32-bit and 64-bit headers start out the same.  */\\n\\n  hdr = &hdrbuf[0];\\n  set_32 (hdr + offsetof (struct mach_o_header_32, magic), attrs->magic);\\n  set_32 (hdr + offsetof (struct mach_o_header_32, cputype), attrs->cputype);\\n  set_32 (hdr + offsetof (struct mach_o_header_32, cpusubtype),\\n\\t  attrs->cpusubtype);\\n  set_32 (hdr + offsetof (struct mach_o_header_32, filetype), MACH_O_MH_OBJECT);\\n  set_32 (hdr + offsetof (struct mach_o_header_32, ncmds), 1);\\n  set_32 (hdr + offsetof (struct mach_o_header_32, flags), attrs->flags);\\n  if (attrs->magic == MACH_O_MH_MAGIC)\\n    {\\n      wrsize = sizeof (struct mach_o_header_32);\\n      set_32 (hdr + offsetof (struct mach_o_header_32, sizeofcmds),\\n\\t      (sizeof (struct mach_o_segment_command_32)\\n\\t       + nsects * sizeof (struct mach_o_section_32)));\\n    }\\n  else\\n    {\\n      set_32 (hdr + offsetof (struct mach_o_header_64, sizeofcmds),\\n\\t      (sizeof (struct mach_o_segment_command_64)\\n\\t       + nsects * sizeof (struct mach_o_section_64)));\\n      set_32 (hdr + offsetof (struct mach_o_header_64, reserved),\\n\\t      attrs->reserved);\\n      wrsize = sizeof (struct mach_o_header_64);\\n    }\\n\\n  return simple_object_internal_write (descriptor, 0, hdrbuf, wrsize,\\n\\t\\t\\t\\t       errmsg, err);\\n}'\n"
   ]
  },
  {
   "cell_type": "code",
   "execution_count": null,
   "id": "ddd3c79b",
   "metadata": {},
   "outputs": [],
   "source": []
  }
 ],
 "metadata": {
  "colab": {
   "provenance": []
  },
  "kernelspec": {
   "display_name": "Python 3 (ipykernel)",
   "language": "python",
   "name": "python3"
  },
  "language_info": {
   "codemirror_mode": {
    "name": "ipython",
    "version": 3
   },
   "file_extension": ".py",
   "mimetype": "text/x-python",
   "name": "python",
   "nbconvert_exporter": "python",
   "pygments_lexer": "ipython3",
   "version": "3.10.10"
  }
 },
 "nbformat": 4,
 "nbformat_minor": 5
}
