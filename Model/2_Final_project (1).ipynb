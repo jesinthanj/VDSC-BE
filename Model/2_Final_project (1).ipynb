{
  "cells": [
    {
      "cell_type": "code",
      "execution_count": null,
      "id": "f7be46fd",
      "metadata": {
        "id": "f7be46fd"
      },
      "outputs": [],
      "source": [
        "import pandas as pd"
      ]
    },
    {
      "cell_type": "code",
      "execution_count": null,
      "id": "55f317ee",
      "metadata": {
        "id": "55f317ee"
      },
      "outputs": [],
      "source": [
        "import tensorflow as tf\n",
        "import numpy as np\n",
        "import matplotlib.pyplot as plt\n",
        "import sklearn.metrics\n",
        "import pickle\n",
        "import os"
      ]
    },
    {
      "cell_type": "code",
      "source": [
        "from google.colab import drive\n",
        "drive.mount(\"./drive\")"
      ],
      "metadata": {
        "colab": {
          "base_uri": "https://localhost:8080/"
        },
        "id": "2cDy2WpSEg1N",
        "outputId": "0994218f-93b1-46f3-a8ee-5420f5aff901"
      },
      "id": "2cDy2WpSEg1N",
      "execution_count": null,
      "outputs": [
        {
          "output_type": "stream",
          "name": "stdout",
          "text": [
            "Mounted at ./drive\n"
          ]
        }
      ]
    },
    {
      "cell_type": "code",
      "execution_count": null,
      "id": "e1d0232f",
      "metadata": {
        "colab": {
          "base_uri": "https://localhost:8080/"
        },
        "id": "e1d0232f",
        "outputId": "9b4987b0-7ab9-4ff8-93dc-87d908b55872"
      },
      "outputs": [
        {
          "output_type": "stream",
          "name": "stderr",
          "text": [
            "WARNING:tensorflow:From <ipython-input-3-0ca9de4ad6af>:3: is_gpu_available (from tensorflow.python.framework.test_util) is deprecated and will be removed in a future version.\n",
            "Instructions for updating:\n",
            "Use `tf.config.list_physical_devices('GPU')` instead.\n"
          ]
        },
        {
          "output_type": "stream",
          "name": "stdout",
          "text": [
            "Tensorlfow version:  2.12.0\n",
            "Eager mode:  True\n",
            "GPU is available\n"
          ]
        }
      ],
      "source": [
        "print(\"Tensorlfow version: \", tf.__version__)\n",
        "print(\"Eager mode: \", tf.executing_eagerly())\n",
        "print(\"GPU is\", \"available\" if tf.test.is_gpu_available() else \"NOT AVAILABLE\")"
      ]
    },
    {
      "cell_type": "code",
      "execution_count": null,
      "id": "45cad6e1",
      "metadata": {
        "id": "45cad6e1",
        "scrolled": true
      },
      "outputs": [],
      "source": [
        "# reading the training CSV file\n",
        "DATA_DIR  = \"./drive/MyDrive/vulnerability_dataset\"\n",
        "data = pd.read_csv(os.path.join(DATA_DIR,'vulnerability_train.csv'))\n",
        "# displaying the contents of the CSV file\n"
      ]
    },
    {
      "cell_type": "code",
      "execution_count": null,
      "id": "0c3f02d7",
      "metadata": {
        "colab": {
          "base_uri": "https://localhost:8080/",
          "height": 339
        },
        "id": "0c3f02d7",
        "outputId": "bf0a1639-7c45-4d15-89c8-4ee8fe066f46",
        "scrolled": false
      },
      "outputs": [
        {
          "output_type": "execute_result",
          "data": {
            "text/plain": [
              "                                         source_code  CWE114  CWE134  CWE190  \\\n",
              "0  char * data ;\\nchar dataBuffer [ 250 ] = \"PATH...     0.0     0.0     0.0   \n",
              "1  void CWE369_Divide_by_Zero__int_listen_socket_...     0.0     0.0     0.0   \n",
              "2  void CWE369_Divide_by_Zero__int_listen_socket_...     0.0     0.0     0.0   \n",
              "3  void CWE369_Divide_by_Zero__int_listen_socket_...     0.0     0.0     0.0   \n",
              "4  void CWE319_Cleartext_Tx_Sensitive_Info__w32_c...     0.0     0.0     0.0   \n",
              "\n",
              "   CWE196  CWE319  CWE369  CWE398  CWE416  CWE427  CWE469  CWE506  CWE605  \\\n",
              "0     0.0     0.0     0.0     0.0     0.0     1.0     0.0     0.0     0.0   \n",
              "1     0.0     0.0     1.0     0.0     0.0     0.0     0.0     0.0     0.0   \n",
              "2     0.0     0.0     1.0     0.0     0.0     0.0     0.0     0.0     0.0   \n",
              "3     0.0     0.0     1.0     0.0     0.0     0.0     0.0     0.0     0.0   \n",
              "4     0.0     1.0     0.0     0.0     0.0     0.0     0.0     0.0     0.0   \n",
              "\n",
              "   CWE606  CWE666  CWE680  CWE761  CWE789  \n",
              "0     0.0     0.0     0.0     0.0     0.0  \n",
              "1     0.0     0.0     0.0     0.0     0.0  \n",
              "2     0.0     0.0     0.0     0.0     0.0  \n",
              "3     0.0     0.0     0.0     0.0     0.0  \n",
              "4     0.0     0.0     0.0     0.0     0.0  "
            ],
            "text/html": [
              "\n",
              "  <div id=\"df-030d7c60-ed4e-4412-b58e-622666b39959\">\n",
              "    <div class=\"colab-df-container\">\n",
              "      <div>\n",
              "<style scoped>\n",
              "    .dataframe tbody tr th:only-of-type {\n",
              "        vertical-align: middle;\n",
              "    }\n",
              "\n",
              "    .dataframe tbody tr th {\n",
              "        vertical-align: top;\n",
              "    }\n",
              "\n",
              "    .dataframe thead th {\n",
              "        text-align: right;\n",
              "    }\n",
              "</style>\n",
              "<table border=\"1\" class=\"dataframe\">\n",
              "  <thead>\n",
              "    <tr style=\"text-align: right;\">\n",
              "      <th></th>\n",
              "      <th>source_code</th>\n",
              "      <th>CWE114</th>\n",
              "      <th>CWE134</th>\n",
              "      <th>CWE190</th>\n",
              "      <th>CWE196</th>\n",
              "      <th>CWE319</th>\n",
              "      <th>CWE369</th>\n",
              "      <th>CWE398</th>\n",
              "      <th>CWE416</th>\n",
              "      <th>CWE427</th>\n",
              "      <th>CWE469</th>\n",
              "      <th>CWE506</th>\n",
              "      <th>CWE605</th>\n",
              "      <th>CWE606</th>\n",
              "      <th>CWE666</th>\n",
              "      <th>CWE680</th>\n",
              "      <th>CWE761</th>\n",
              "      <th>CWE789</th>\n",
              "    </tr>\n",
              "  </thead>\n",
              "  <tbody>\n",
              "    <tr>\n",
              "      <th>0</th>\n",
              "      <td>char * data ;\\nchar dataBuffer [ 250 ] = \"PATH...</td>\n",
              "      <td>0.0</td>\n",
              "      <td>0.0</td>\n",
              "      <td>0.0</td>\n",
              "      <td>0.0</td>\n",
              "      <td>0.0</td>\n",
              "      <td>0.0</td>\n",
              "      <td>0.0</td>\n",
              "      <td>0.0</td>\n",
              "      <td>1.0</td>\n",
              "      <td>0.0</td>\n",
              "      <td>0.0</td>\n",
              "      <td>0.0</td>\n",
              "      <td>0.0</td>\n",
              "      <td>0.0</td>\n",
              "      <td>0.0</td>\n",
              "      <td>0.0</td>\n",
              "      <td>0.0</td>\n",
              "    </tr>\n",
              "    <tr>\n",
              "      <th>1</th>\n",
              "      <td>void CWE369_Divide_by_Zero__int_listen_socket_...</td>\n",
              "      <td>0.0</td>\n",
              "      <td>0.0</td>\n",
              "      <td>0.0</td>\n",
              "      <td>0.0</td>\n",
              "      <td>0.0</td>\n",
              "      <td>1.0</td>\n",
              "      <td>0.0</td>\n",
              "      <td>0.0</td>\n",
              "      <td>0.0</td>\n",
              "      <td>0.0</td>\n",
              "      <td>0.0</td>\n",
              "      <td>0.0</td>\n",
              "      <td>0.0</td>\n",
              "      <td>0.0</td>\n",
              "      <td>0.0</td>\n",
              "      <td>0.0</td>\n",
              "      <td>0.0</td>\n",
              "    </tr>\n",
              "    <tr>\n",
              "      <th>2</th>\n",
              "      <td>void CWE369_Divide_by_Zero__int_listen_socket_...</td>\n",
              "      <td>0.0</td>\n",
              "      <td>0.0</td>\n",
              "      <td>0.0</td>\n",
              "      <td>0.0</td>\n",
              "      <td>0.0</td>\n",
              "      <td>1.0</td>\n",
              "      <td>0.0</td>\n",
              "      <td>0.0</td>\n",
              "      <td>0.0</td>\n",
              "      <td>0.0</td>\n",
              "      <td>0.0</td>\n",
              "      <td>0.0</td>\n",
              "      <td>0.0</td>\n",
              "      <td>0.0</td>\n",
              "      <td>0.0</td>\n",
              "      <td>0.0</td>\n",
              "      <td>0.0</td>\n",
              "    </tr>\n",
              "    <tr>\n",
              "      <th>3</th>\n",
              "      <td>void CWE369_Divide_by_Zero__int_listen_socket_...</td>\n",
              "      <td>0.0</td>\n",
              "      <td>0.0</td>\n",
              "      <td>0.0</td>\n",
              "      <td>0.0</td>\n",
              "      <td>0.0</td>\n",
              "      <td>1.0</td>\n",
              "      <td>0.0</td>\n",
              "      <td>0.0</td>\n",
              "      <td>0.0</td>\n",
              "      <td>0.0</td>\n",
              "      <td>0.0</td>\n",
              "      <td>0.0</td>\n",
              "      <td>0.0</td>\n",
              "      <td>0.0</td>\n",
              "      <td>0.0</td>\n",
              "      <td>0.0</td>\n",
              "      <td>0.0</td>\n",
              "    </tr>\n",
              "    <tr>\n",
              "      <th>4</th>\n",
              "      <td>void CWE319_Cleartext_Tx_Sensitive_Info__w32_c...</td>\n",
              "      <td>0.0</td>\n",
              "      <td>0.0</td>\n",
              "      <td>0.0</td>\n",
              "      <td>0.0</td>\n",
              "      <td>1.0</td>\n",
              "      <td>0.0</td>\n",
              "      <td>0.0</td>\n",
              "      <td>0.0</td>\n",
              "      <td>0.0</td>\n",
              "      <td>0.0</td>\n",
              "      <td>0.0</td>\n",
              "      <td>0.0</td>\n",
              "      <td>0.0</td>\n",
              "      <td>0.0</td>\n",
              "      <td>0.0</td>\n",
              "      <td>0.0</td>\n",
              "      <td>0.0</td>\n",
              "    </tr>\n",
              "  </tbody>\n",
              "</table>\n",
              "</div>\n",
              "      <button class=\"colab-df-convert\" onclick=\"convertToInteractive('df-030d7c60-ed4e-4412-b58e-622666b39959')\"\n",
              "              title=\"Convert this dataframe to an interactive table.\"\n",
              "              style=\"display:none;\">\n",
              "        \n",
              "  <svg xmlns=\"http://www.w3.org/2000/svg\" height=\"24px\"viewBox=\"0 0 24 24\"\n",
              "       width=\"24px\">\n",
              "    <path d=\"M0 0h24v24H0V0z\" fill=\"none\"/>\n",
              "    <path d=\"M18.56 5.44l.94 2.06.94-2.06 2.06-.94-2.06-.94-.94-2.06-.94 2.06-2.06.94zm-11 1L8.5 8.5l.94-2.06 2.06-.94-2.06-.94L8.5 2.5l-.94 2.06-2.06.94zm10 10l.94 2.06.94-2.06 2.06-.94-2.06-.94-.94-2.06-.94 2.06-2.06.94z\"/><path d=\"M17.41 7.96l-1.37-1.37c-.4-.4-.92-.59-1.43-.59-.52 0-1.04.2-1.43.59L10.3 9.45l-7.72 7.72c-.78.78-.78 2.05 0 2.83L4 21.41c.39.39.9.59 1.41.59.51 0 1.02-.2 1.41-.59l7.78-7.78 2.81-2.81c.8-.78.8-2.07 0-2.86zM5.41 20L4 18.59l7.72-7.72 1.47 1.35L5.41 20z\"/>\n",
              "  </svg>\n",
              "      </button>\n",
              "      \n",
              "  <style>\n",
              "    .colab-df-container {\n",
              "      display:flex;\n",
              "      flex-wrap:wrap;\n",
              "      gap: 12px;\n",
              "    }\n",
              "\n",
              "    .colab-df-convert {\n",
              "      background-color: #E8F0FE;\n",
              "      border: none;\n",
              "      border-radius: 50%;\n",
              "      cursor: pointer;\n",
              "      display: none;\n",
              "      fill: #1967D2;\n",
              "      height: 32px;\n",
              "      padding: 0 0 0 0;\n",
              "      width: 32px;\n",
              "    }\n",
              "\n",
              "    .colab-df-convert:hover {\n",
              "      background-color: #E2EBFA;\n",
              "      box-shadow: 0px 1px 2px rgba(60, 64, 67, 0.3), 0px 1px 3px 1px rgba(60, 64, 67, 0.15);\n",
              "      fill: #174EA6;\n",
              "    }\n",
              "\n",
              "    [theme=dark] .colab-df-convert {\n",
              "      background-color: #3B4455;\n",
              "      fill: #D2E3FC;\n",
              "    }\n",
              "\n",
              "    [theme=dark] .colab-df-convert:hover {\n",
              "      background-color: #434B5C;\n",
              "      box-shadow: 0px 1px 3px 1px rgba(0, 0, 0, 0.15);\n",
              "      filter: drop-shadow(0px 1px 2px rgba(0, 0, 0, 0.3));\n",
              "      fill: #FFFFFF;\n",
              "    }\n",
              "  </style>\n",
              "\n",
              "      <script>\n",
              "        const buttonEl =\n",
              "          document.querySelector('#df-030d7c60-ed4e-4412-b58e-622666b39959 button.colab-df-convert');\n",
              "        buttonEl.style.display =\n",
              "          google.colab.kernel.accessAllowed ? 'block' : 'none';\n",
              "\n",
              "        async function convertToInteractive(key) {\n",
              "          const element = document.querySelector('#df-030d7c60-ed4e-4412-b58e-622666b39959');\n",
              "          const dataTable =\n",
              "            await google.colab.kernel.invokeFunction('convertToInteractive',\n",
              "                                                     [key], {});\n",
              "          if (!dataTable) return;\n",
              "\n",
              "          const docLinkHtml = 'Like what you see? Visit the ' +\n",
              "            '<a target=\"_blank\" href=https://colab.research.google.com/notebooks/data_table.ipynb>data table notebook</a>'\n",
              "            + ' to learn more about interactive tables.';\n",
              "          element.innerHTML = '';\n",
              "          dataTable['output_type'] = 'display_data';\n",
              "          await google.colab.output.renderOutput(dataTable, element);\n",
              "          const docLink = document.createElement('div');\n",
              "          docLink.innerHTML = docLinkHtml;\n",
              "          element.appendChild(docLink);\n",
              "        }\n",
              "      </script>\n",
              "    </div>\n",
              "  </div>\n",
              "  "
            ]
          },
          "metadata": {},
          "execution_count": 7
        }
      ],
      "source": [
        "data.head()"
      ]
    },
    {
      "cell_type": "code",
      "execution_count": null,
      "id": "c5f9ca52",
      "metadata": {
        "colab": {
          "base_uri": "https://localhost:8080/"
        },
        "id": "c5f9ca52",
        "outputId": "fc4c8e80-4859-4b03-dde3-a6abdf88f27a"
      },
      "outputs": [
        {
          "output_type": "stream",
          "name": "stdout",
          "text": [
            "Index(['source_code', 'CWE114', 'CWE134', 'CWE190', 'CWE196', 'CWE319',\n",
            "       'CWE369', 'CWE398', 'CWE416', 'CWE427', 'CWE469', 'CWE506', 'CWE605',\n",
            "       'CWE606', 'CWE666', 'CWE680', 'CWE761', 'CWE789'],\n",
            "      dtype='object')\n"
          ]
        }
      ],
      "source": [
        "columns = data.columns\n",
        "print(columns)\n",
        "#data= data.replace({'CWE-119':{'FALSE': False, 'TRUE':True}})"
      ]
    },
    {
      "cell_type": "markdown",
      "id": "0b20f87e",
      "metadata": {
        "id": "0b20f87e"
      },
      "source": [
        "data_cropped = data.loc[:,['CWE-119', ' CWE-120', 'CWE-469', 'CWE-476', 'CWE-other','functionSource']]"
      ]
    },
    {
      "cell_type": "markdown",
      "id": "f74b331b",
      "metadata": {
        "id": "f74b331b"
      },
      "source": [
        "#data_cropped.head(10)\n",
        "columns = list(data_cropped.columns)\n",
        "data_cropped = data_cropped.replace({True:\"TRUE\",False:\"FALSE\"})\n",
        "for column in columns[:-1]:\n",
        "    data_cropped[column] = data_cropped[column].map(str.upper)"
      ]
    },
    {
      "cell_type": "code",
      "execution_count": null,
      "id": "-TU60kCdeuCk",
      "metadata": {
        "id": "-TU60kCdeuCk"
      },
      "outputs": [],
      "source": [
        "data=data.sample(frac=1)"
      ]
    },
    {
      "cell_type": "code",
      "execution_count": null,
      "id": "oXi29C5Scgak",
      "metadata": {
        "colab": {
          "base_uri": "https://localhost:8080/",
          "height": 322
        },
        "id": "oXi29C5Scgak",
        "outputId": "317c5fcc-46cf-4f7d-f56b-8dda75fc24e4"
      },
      "outputs": [
        {
          "output_type": "execute_result",
          "data": {
            "text/plain": [
              "                                             source_code  CWE114  CWE134  \\\n",
              "4547   void CWE134_Uncontrolled_Format_String__char_l...     0.0     1.0   \n",
              "1765   int ffio_rewind_with_probe_data(AVIOContext *s...     1.0     0.0   \n",
              "2621   char *dfaexec(struct dfa *d,const char *begin,...     1.0     0.0   \n",
              "16510  void bad()\\nchar * data ;\\nchar dataBuffer [ 1...     0.0     0.0   \n",
              "17687  static void CVE_2013_0864_VULN_gif_copy_img_re...     0.0     0.0   \n",
              "\n",
              "       CWE190  CWE196  CWE319  CWE369  CWE398  CWE416  CWE427  CWE469  CWE506  \\\n",
              "4547      0.0     0.0     0.0     0.0     0.0     0.0     0.0     0.0     0.0   \n",
              "1765      0.0     0.0     0.0     0.0     0.0     0.0     0.0     0.0     0.0   \n",
              "2621      0.0     0.0     0.0     0.0     0.0     0.0     0.0     0.0     0.0   \n",
              "16510     0.0     0.0     0.0     0.0     0.0     0.0     0.0     0.0     0.0   \n",
              "17687     0.0     0.0     0.0     0.0     0.0     0.0     1.0     0.0     0.0   \n",
              "\n",
              "       CWE605  CWE606  CWE666  CWE680  CWE761  CWE789  \n",
              "4547      0.0     0.0     0.0     0.0     0.0     0.0  \n",
              "1765      0.0     0.0     0.0     0.0     0.0     0.0  \n",
              "2621      0.0     0.0     0.0     0.0     0.0     0.0  \n",
              "16510     0.0     1.0     0.0     0.0     0.0     0.0  \n",
              "17687     0.0     0.0     0.0     0.0     0.0     0.0  "
            ],
            "text/html": [
              "\n",
              "  <div id=\"df-0585a77e-e8cf-404a-8ad4-3c0369b8dd1e\">\n",
              "    <div class=\"colab-df-container\">\n",
              "      <div>\n",
              "<style scoped>\n",
              "    .dataframe tbody tr th:only-of-type {\n",
              "        vertical-align: middle;\n",
              "    }\n",
              "\n",
              "    .dataframe tbody tr th {\n",
              "        vertical-align: top;\n",
              "    }\n",
              "\n",
              "    .dataframe thead th {\n",
              "        text-align: right;\n",
              "    }\n",
              "</style>\n",
              "<table border=\"1\" class=\"dataframe\">\n",
              "  <thead>\n",
              "    <tr style=\"text-align: right;\">\n",
              "      <th></th>\n",
              "      <th>source_code</th>\n",
              "      <th>CWE114</th>\n",
              "      <th>CWE134</th>\n",
              "      <th>CWE190</th>\n",
              "      <th>CWE196</th>\n",
              "      <th>CWE319</th>\n",
              "      <th>CWE369</th>\n",
              "      <th>CWE398</th>\n",
              "      <th>CWE416</th>\n",
              "      <th>CWE427</th>\n",
              "      <th>CWE469</th>\n",
              "      <th>CWE506</th>\n",
              "      <th>CWE605</th>\n",
              "      <th>CWE606</th>\n",
              "      <th>CWE666</th>\n",
              "      <th>CWE680</th>\n",
              "      <th>CWE761</th>\n",
              "      <th>CWE789</th>\n",
              "    </tr>\n",
              "  </thead>\n",
              "  <tbody>\n",
              "    <tr>\n",
              "      <th>4547</th>\n",
              "      <td>void CWE134_Uncontrolled_Format_String__char_l...</td>\n",
              "      <td>0.0</td>\n",
              "      <td>1.0</td>\n",
              "      <td>0.0</td>\n",
              "      <td>0.0</td>\n",
              "      <td>0.0</td>\n",
              "      <td>0.0</td>\n",
              "      <td>0.0</td>\n",
              "      <td>0.0</td>\n",
              "      <td>0.0</td>\n",
              "      <td>0.0</td>\n",
              "      <td>0.0</td>\n",
              "      <td>0.0</td>\n",
              "      <td>0.0</td>\n",
              "      <td>0.0</td>\n",
              "      <td>0.0</td>\n",
              "      <td>0.0</td>\n",
              "      <td>0.0</td>\n",
              "    </tr>\n",
              "    <tr>\n",
              "      <th>1765</th>\n",
              "      <td>int ffio_rewind_with_probe_data(AVIOContext *s...</td>\n",
              "      <td>1.0</td>\n",
              "      <td>0.0</td>\n",
              "      <td>0.0</td>\n",
              "      <td>0.0</td>\n",
              "      <td>0.0</td>\n",
              "      <td>0.0</td>\n",
              "      <td>0.0</td>\n",
              "      <td>0.0</td>\n",
              "      <td>0.0</td>\n",
              "      <td>0.0</td>\n",
              "      <td>0.0</td>\n",
              "      <td>0.0</td>\n",
              "      <td>0.0</td>\n",
              "      <td>0.0</td>\n",
              "      <td>0.0</td>\n",
              "      <td>0.0</td>\n",
              "      <td>0.0</td>\n",
              "    </tr>\n",
              "    <tr>\n",
              "      <th>2621</th>\n",
              "      <td>char *dfaexec(struct dfa *d,const char *begin,...</td>\n",
              "      <td>1.0</td>\n",
              "      <td>0.0</td>\n",
              "      <td>0.0</td>\n",
              "      <td>0.0</td>\n",
              "      <td>0.0</td>\n",
              "      <td>0.0</td>\n",
              "      <td>0.0</td>\n",
              "      <td>0.0</td>\n",
              "      <td>0.0</td>\n",
              "      <td>0.0</td>\n",
              "      <td>0.0</td>\n",
              "      <td>0.0</td>\n",
              "      <td>0.0</td>\n",
              "      <td>0.0</td>\n",
              "      <td>0.0</td>\n",
              "      <td>0.0</td>\n",
              "      <td>0.0</td>\n",
              "    </tr>\n",
              "    <tr>\n",
              "      <th>16510</th>\n",
              "      <td>void bad()\\nchar * data ;\\nchar dataBuffer [ 1...</td>\n",
              "      <td>0.0</td>\n",
              "      <td>0.0</td>\n",
              "      <td>0.0</td>\n",
              "      <td>0.0</td>\n",
              "      <td>0.0</td>\n",
              "      <td>0.0</td>\n",
              "      <td>0.0</td>\n",
              "      <td>0.0</td>\n",
              "      <td>0.0</td>\n",
              "      <td>0.0</td>\n",
              "      <td>0.0</td>\n",
              "      <td>0.0</td>\n",
              "      <td>1.0</td>\n",
              "      <td>0.0</td>\n",
              "      <td>0.0</td>\n",
              "      <td>0.0</td>\n",
              "      <td>0.0</td>\n",
              "    </tr>\n",
              "    <tr>\n",
              "      <th>17687</th>\n",
              "      <td>static void CVE_2013_0864_VULN_gif_copy_img_re...</td>\n",
              "      <td>0.0</td>\n",
              "      <td>0.0</td>\n",
              "      <td>0.0</td>\n",
              "      <td>0.0</td>\n",
              "      <td>0.0</td>\n",
              "      <td>0.0</td>\n",
              "      <td>0.0</td>\n",
              "      <td>0.0</td>\n",
              "      <td>1.0</td>\n",
              "      <td>0.0</td>\n",
              "      <td>0.0</td>\n",
              "      <td>0.0</td>\n",
              "      <td>0.0</td>\n",
              "      <td>0.0</td>\n",
              "      <td>0.0</td>\n",
              "      <td>0.0</td>\n",
              "      <td>0.0</td>\n",
              "    </tr>\n",
              "  </tbody>\n",
              "</table>\n",
              "</div>\n",
              "      <button class=\"colab-df-convert\" onclick=\"convertToInteractive('df-0585a77e-e8cf-404a-8ad4-3c0369b8dd1e')\"\n",
              "              title=\"Convert this dataframe to an interactive table.\"\n",
              "              style=\"display:none;\">\n",
              "        \n",
              "  <svg xmlns=\"http://www.w3.org/2000/svg\" height=\"24px\"viewBox=\"0 0 24 24\"\n",
              "       width=\"24px\">\n",
              "    <path d=\"M0 0h24v24H0V0z\" fill=\"none\"/>\n",
              "    <path d=\"M18.56 5.44l.94 2.06.94-2.06 2.06-.94-2.06-.94-.94-2.06-.94 2.06-2.06.94zm-11 1L8.5 8.5l.94-2.06 2.06-.94-2.06-.94L8.5 2.5l-.94 2.06-2.06.94zm10 10l.94 2.06.94-2.06 2.06-.94-2.06-.94-.94-2.06-.94 2.06-2.06.94z\"/><path d=\"M17.41 7.96l-1.37-1.37c-.4-.4-.92-.59-1.43-.59-.52 0-1.04.2-1.43.59L10.3 9.45l-7.72 7.72c-.78.78-.78 2.05 0 2.83L4 21.41c.39.39.9.59 1.41.59.51 0 1.02-.2 1.41-.59l7.78-7.78 2.81-2.81c.8-.78.8-2.07 0-2.86zM5.41 20L4 18.59l7.72-7.72 1.47 1.35L5.41 20z\"/>\n",
              "  </svg>\n",
              "      </button>\n",
              "      \n",
              "  <style>\n",
              "    .colab-df-container {\n",
              "      display:flex;\n",
              "      flex-wrap:wrap;\n",
              "      gap: 12px;\n",
              "    }\n",
              "\n",
              "    .colab-df-convert {\n",
              "      background-color: #E8F0FE;\n",
              "      border: none;\n",
              "      border-radius: 50%;\n",
              "      cursor: pointer;\n",
              "      display: none;\n",
              "      fill: #1967D2;\n",
              "      height: 32px;\n",
              "      padding: 0 0 0 0;\n",
              "      width: 32px;\n",
              "    }\n",
              "\n",
              "    .colab-df-convert:hover {\n",
              "      background-color: #E2EBFA;\n",
              "      box-shadow: 0px 1px 2px rgba(60, 64, 67, 0.3), 0px 1px 3px 1px rgba(60, 64, 67, 0.15);\n",
              "      fill: #174EA6;\n",
              "    }\n",
              "\n",
              "    [theme=dark] .colab-df-convert {\n",
              "      background-color: #3B4455;\n",
              "      fill: #D2E3FC;\n",
              "    }\n",
              "\n",
              "    [theme=dark] .colab-df-convert:hover {\n",
              "      background-color: #434B5C;\n",
              "      box-shadow: 0px 1px 3px 1px rgba(0, 0, 0, 0.15);\n",
              "      filter: drop-shadow(0px 1px 2px rgba(0, 0, 0, 0.3));\n",
              "      fill: #FFFFFF;\n",
              "    }\n",
              "  </style>\n",
              "\n",
              "      <script>\n",
              "        const buttonEl =\n",
              "          document.querySelector('#df-0585a77e-e8cf-404a-8ad4-3c0369b8dd1e button.colab-df-convert');\n",
              "        buttonEl.style.display =\n",
              "          google.colab.kernel.accessAllowed ? 'block' : 'none';\n",
              "\n",
              "        async function convertToInteractive(key) {\n",
              "          const element = document.querySelector('#df-0585a77e-e8cf-404a-8ad4-3c0369b8dd1e');\n",
              "          const dataTable =\n",
              "            await google.colab.kernel.invokeFunction('convertToInteractive',\n",
              "                                                     [key], {});\n",
              "          if (!dataTable) return;\n",
              "\n",
              "          const docLinkHtml = 'Like what you see? Visit the ' +\n",
              "            '<a target=\"_blank\" href=https://colab.research.google.com/notebooks/data_table.ipynb>data table notebook</a>'\n",
              "            + ' to learn more about interactive tables.';\n",
              "          element.innerHTML = '';\n",
              "          dataTable['output_type'] = 'display_data';\n",
              "          await google.colab.output.renderOutput(dataTable, element);\n",
              "          const docLink = document.createElement('div');\n",
              "          docLink.innerHTML = docLinkHtml;\n",
              "          element.appendChild(docLink);\n",
              "        }\n",
              "      </script>\n",
              "    </div>\n",
              "  </div>\n",
              "  "
            ]
          },
          "metadata": {},
          "execution_count": 10
        }
      ],
      "source": [
        "data.head()"
      ]
    },
    {
      "cell_type": "code",
      "execution_count": null,
      "id": "b24da556",
      "metadata": {
        "id": "b24da556"
      },
      "outputs": [],
      "source": [
        "data=data.dropna()"
      ]
    },
    {
      "cell_type": "code",
      "execution_count": null,
      "id": "8d94ec1f",
      "metadata": {
        "colab": {
          "base_uri": "https://localhost:8080/"
        },
        "id": "8d94ec1f",
        "outputId": "110d2bcd-1389-4a15-9ab4-f030ede488f9"
      },
      "outputs": [
        {
          "output_type": "stream",
          "name": "stdout",
          "text": [
            "Random seed is: 71926\n"
          ]
        }
      ],
      "source": [
        "myrand=71926\n",
        "np.random.seed(myrand)\n",
        "tf.random.set_seed(myrand)\n",
        "print(\"Random seed is:\",myrand)"
      ]
    },
    {
      "cell_type": "code",
      "execution_count": null,
      "id": "e5fad57c",
      "metadata": {
        "id": "e5fad57c"
      },
      "outputs": [],
      "source": [
        "### Set the global value\n",
        "WORDS_SIZE=10000\n",
        "INPUT_SIZE=500\n",
        "NUM_CLASSES=2\n",
        "MODEL_NUM=0\n",
        "EPOCHS=10"
      ]
    },
    {
      "cell_type": "code",
      "execution_count": null,
      "id": "cd856fb8",
      "metadata": {
        "id": "cd856fb8"
      },
      "outputs": [],
      "source": [
        "data['source_code'] = data['source_code'].astype(str)"
      ]
    },
    {
      "cell_type": "code",
      "execution_count": null,
      "id": "5dc9c20a",
      "metadata": {
        "id": "5dc9c20a"
      },
      "outputs": [],
      "source": [
        "X=data['source_code']\n",
        "y=np.array([data['CWE114'].values,data['CWE134'].values,data['CWE190'].values,data['CWE196'].values,data['CWE319'].values,data['CWE369'].values,data['CWE398'].values,data['CWE416'].values,data['CWE427'].values,data['CWE469'].values,data['CWE506'].values,data['CWE605'].values,data['CWE606'].values,data['CWE666'].values,data['CWE680'].values,data['CWE761'].values,data['CWE789'].values])"
      ]
    },
    {
      "cell_type": "code",
      "execution_count": null,
      "id": "7188248f",
      "metadata": {
        "id": "7188248f",
        "outputId": "5a44189c-f53f-4813-8471-d1e8cc505463"
      },
      "outputs": [
        {
          "data": {
            "text/plain": [
              "(17724,)"
            ]
          },
          "execution_count": 22,
          "metadata": {},
          "output_type": "execute_result"
        }
      ],
      "source": [
        "X.shape"
      ]
    },
    {
      "cell_type": "code",
      "execution_count": null,
      "id": "082ccf45",
      "metadata": {
        "id": "082ccf45",
        "outputId": "00f27f61-454f-4c25-d344-316ffcbbe2a1"
      },
      "outputs": [
        {
          "data": {
            "text/plain": [
              "(17724, 17)"
            ]
          },
          "execution_count": 25,
          "metadata": {},
          "output_type": "execute_result"
        }
      ],
      "source": [
        "y.shape"
      ]
    },
    {
      "cell_type": "code",
      "execution_count": null,
      "id": "5e66db3e",
      "metadata": {
        "id": "5e66db3e"
      },
      "outputs": [],
      "source": [
        "y = y.T"
      ]
    },
    {
      "cell_type": "code",
      "execution_count": null,
      "id": "7e8d5a24",
      "metadata": {
        "id": "7e8d5a24"
      },
      "outputs": [],
      "source": [
        "data.to_pickle(\"vulnerability_train.pickle\")"
      ]
    },
    {
      "cell_type": "code",
      "execution_count": null,
      "id": "176de5cb",
      "metadata": {
        "id": "176de5cb"
      },
      "outputs": [],
      "source": [
        "data=pd.read_pickle(\"vulnerability_train.pickle\")"
      ]
    },
    {
      "cell_type": "code",
      "execution_count": null,
      "id": "f17e8a38",
      "metadata": {
        "id": "f17e8a38"
      },
      "outputs": [],
      "source": [
        "x_all = data['source_code']"
      ]
    },
    {
      "cell_type": "code",
      "execution_count": null,
      "id": "4c1fe783",
      "metadata": {
        "id": "4c1fe783"
      },
      "outputs": [],
      "source": [
        "from sklearn.model_selection import train_test_split"
      ]
    },
    {
      "cell_type": "code",
      "execution_count": null,
      "id": "65d00cc7",
      "metadata": {
        "id": "65d00cc7"
      },
      "outputs": [],
      "source": []
    },
    {
      "cell_type": "code",
      "execution_count": null,
      "id": "4d1dc62c",
      "metadata": {
        "id": "4d1dc62c",
        "outputId": "fe8b64ce-5c66-46b7-9538-2cbf17fba1df"
      },
      "outputs": [
        {
          "name": "stdout",
          "output_type": "stream",
          "text": [
            "Shape of X: (17724,)\n",
            "Shape of y: (17724, 17)\n"
          ]
        }
      ],
      "source": [
        "print(\"Shape of X:\", X.shape)\n",
        "print(\"Shape of y:\", y.shape)"
      ]
    },
    {
      "cell_type": "code",
      "execution_count": null,
      "id": "e191f836",
      "metadata": {
        "id": "e191f836",
        "outputId": "f211a219-9ff0-491c-b8af-4f18b7d04d0c"
      },
      "outputs": [
        {
          "data": {
            "text/plain": [
              "Index(['CWE114', 'CWE134', 'CWE190', 'CWE196', 'CWE319', 'CWE369', 'CWE398',\n",
              "       'CWE416', 'CWE427', 'CWE469', 'CWE506', 'CWE605', 'CWE606', 'CWE666',\n",
              "       'CWE680', 'CWE761', 'CWE789'],\n",
              "      dtype='object')"
            ]
          },
          "execution_count": 35,
          "metadata": {},
          "output_type": "execute_result"
        }
      ],
      "source": [
        "data.columns[1:]"
      ]
    },
    {
      "cell_type": "code",
      "execution_count": null,
      "id": "45943364",
      "metadata": {
        "id": "45943364"
      },
      "outputs": [],
      "source": [
        "y_train=[]\n",
        "#print(data.iloc[:,2])\n",
        "data = data.ffill()\n",
        "columns = data.columns[1:]\n",
        "for column in columns:\n",
        "    y_train.append(tf.keras.utils.to_categorical(list(data[column].values), num_classes=NUM_CLASSES).astype(np.int64))\n",
        "y_train = np.array(y_train)"
      ]
    },
    {
      "cell_type": "code",
      "execution_count": null,
      "id": "3a6f94a3",
      "metadata": {
        "id": "3a6f94a3",
        "outputId": "b3dfc335-4c2b-45ac-f6e7-032186704729"
      },
      "outputs": [
        {
          "data": {
            "text/plain": [
              "(17, 17724, 2)"
            ]
          },
          "execution_count": 37,
          "metadata": {},
          "output_type": "execute_result"
        }
      ],
      "source": [
        "y_train.shape"
      ]
    },
    {
      "cell_type": "code",
      "execution_count": null,
      "id": "b1039524",
      "metadata": {
        "id": "b1039524"
      },
      "outputs": [],
      "source": []
    },
    {
      "cell_type": "code",
      "execution_count": null,
      "id": "49435187",
      "metadata": {
        "id": "49435187"
      },
      "outputs": [],
      "source": [
        "tokenizer = tf.keras.preprocessing.text.Tokenizer(char_level=False)\n",
        "tokenizer.fit_on_texts(list(x_all))\n",
        "tokenizer.num_words = WORDS_SIZE"
      ]
    },
    {
      "cell_type": "code",
      "execution_count": null,
      "id": "ea370181",
      "metadata": {
        "id": "ea370181"
      },
      "outputs": [],
      "source": [
        "# data['functionSource'] =  [x.decode('utf-8') for x in data['functionSource'] ]\n",
        "list_tokenized_train = tokenizer.texts_to_sequences(X)\n",
        "X = tf.keras.preprocessing.sequence.pad_sequences(list_tokenized_train, \n",
        "                                  maxlen=INPUT_SIZE,\n",
        "                                  padding='post')\n",
        "X = X.astype(np.int64)"
      ]
    },
    {
      "cell_type": "code",
      "execution_count": null,
      "id": "e795f971",
      "metadata": {
        "id": "e795f971",
        "outputId": "67c2f8fc-9e89-4a88-b833-428b51e3ef81"
      },
      "outputs": [
        {
          "data": {
            "text/plain": [
              "array([[  31,    8,  338, ...,    0,    0,    0],\n",
              "       [  31,  465, 2620, ...,    0,    0,    0],\n",
              "       [  11,  227,  115, ...,    0,    0,    0],\n",
              "       ...,\n",
              "       [  11,  227,  115, ...,    0,    0,    0],\n",
              "       [   5,   85, 2382, ...,    0,    0,    0],\n",
              "       [  31,   11, 1576, ...,    0,    0,    0]], dtype=int64)"
            ]
          },
          "execution_count": 40,
          "metadata": {},
          "output_type": "execute_result"
        }
      ],
      "source": [
        "X"
      ]
    },
    {
      "cell_type": "code",
      "execution_count": null,
      "id": "fcfdcafc",
      "metadata": {
        "id": "fcfdcafc"
      },
      "outputs": [],
      "source": [
        "import pickle\n",
        "\n",
        "#saving\n",
        "with open('tokenizer.pickle', 'wb') as handle:\n",
        "    pickle.dump(tokenizer, handle, protocol=pickle.HIGHEST_PROTOCOL)\n",
        "    \n",
        "#loading\n",
        "with open('tokenizer.pickle', 'rb') as handle:\n",
        "    tokenizer= pickle.load(handle)"
      ]
    },
    {
      "cell_type": "code",
      "execution_count": null,
      "id": "996bec18",
      "metadata": {
        "id": "996bec18"
      },
      "outputs": [],
      "source": [
        "#  Create a random weights matrix\n",
        "random_weights = np.random.normal(size=(WORDS_SIZE, 13),scale=0.01)"
      ]
    },
    {
      "cell_type": "code",
      "execution_count": null,
      "id": "17c1da1b",
      "metadata": {
        "id": "17c1da1b",
        "outputId": "39d8507e-5a1c-4769-ff8b-647273ecaaae"
      },
      "outputs": [
        {
          "data": {
            "text/plain": [
              "array([[ 0.0060252 , -0.00302141, -0.00566813, ..., -0.00071736,\n",
              "         0.00656931, -0.0077152 ],\n",
              "       [-0.0026452 ,  0.00101939,  0.00791392, ...,  0.00173955,\n",
              "         0.00785835,  0.00549122],\n",
              "       [-0.0044089 ,  0.01024976,  0.01351175, ...,  0.01517417,\n",
              "        -0.00523813,  0.00256636],\n",
              "       ...,\n",
              "       [ 0.0093493 ,  0.0005328 ,  0.00262669, ..., -0.002587  ,\n",
              "         0.01392652,  0.00944651],\n",
              "       [-0.00716167,  0.00386448, -0.00194482, ...,  0.00670759,\n",
              "         0.01145522,  0.00023146],\n",
              "       [-0.00617482, -0.0155774 ,  0.00127028, ..., -0.00057702,\n",
              "        -0.00268833, -0.00591792]])"
            ]
          },
          "execution_count": 43,
          "metadata": {},
          "output_type": "execute_result"
        }
      ],
      "source": [
        "random_weights"
      ]
    },
    {
      "cell_type": "code",
      "execution_count": null,
      "id": "48c4ca07",
      "metadata": {
        "colab": {
          "base_uri": "https://localhost:8080/"
        },
        "id": "48c4ca07",
        "outputId": "9743f1fe-3da7-4740-9e65-3286b7165b3c",
        "scrolled": false
      },
      "outputs": [
        {
          "output_type": "stream",
          "name": "stdout",
          "text": [
            "CNN model built: \n",
            "Model: \"model\"\n",
            "__________________________________________________________________________________________________\n",
            " Layer (type)                   Output Shape         Param #     Connected to                     \n",
            "==================================================================================================\n",
            " input_1 (InputLayer)           [(None, 500)]        0           []                               \n",
            "                                                                                                  \n",
            " embedding (Embedding)          (None, 500, 13)      130000      ['input_1[0][0]']                \n",
            "                                                                                                  \n",
            " conv1d (Conv1D)                (None, 500, 512)     60416       ['embedding[0][0]']              \n",
            "                                                                                                  \n",
            " max_pooling1d (MaxPooling1D)   (None, 100, 512)     0           ['conv1d[0][0]']                 \n",
            "                                                                                                  \n",
            " dropout (Dropout)              (None, 100, 512)     0           ['max_pooling1d[0][0]']          \n",
            "                                                                                                  \n",
            " flatten (Flatten)              (None, 51200)        0           ['dropout[0][0]']                \n",
            "                                                                                                  \n",
            " dense (Dense)                  (None, 128)          6553728     ['flatten[0][0]']                \n",
            "                                                                                                  \n",
            " dense_1 (Dense)                (None, 64)           8256        ['dense[0][0]']                  \n",
            "                                                                                                  \n",
            " dense_2 (Dense)                (None, 2)            130         ['dense_1[0][0]']                \n",
            "                                                                                                  \n",
            " dense_3 (Dense)                (None, 2)            130         ['dense_1[0][0]']                \n",
            "                                                                                                  \n",
            " dense_4 (Dense)                (None, 2)            130         ['dense_1[0][0]']                \n",
            "                                                                                                  \n",
            " dense_5 (Dense)                (None, 2)            130         ['dense_1[0][0]']                \n",
            "                                                                                                  \n",
            " dense_6 (Dense)                (None, 2)            130         ['dense_1[0][0]']                \n",
            "                                                                                                  \n",
            " dense_7 (Dense)                (None, 2)            130         ['dense_1[0][0]']                \n",
            "                                                                                                  \n",
            " dense_8 (Dense)                (None, 2)            130         ['dense_1[0][0]']                \n",
            "                                                                                                  \n",
            " dense_9 (Dense)                (None, 2)            130         ['dense_1[0][0]']                \n",
            "                                                                                                  \n",
            " dense_10 (Dense)               (None, 2)            130         ['dense_1[0][0]']                \n",
            "                                                                                                  \n",
            " dense_11 (Dense)               (None, 2)            130         ['dense_1[0][0]']                \n",
            "                                                                                                  \n",
            " dense_12 (Dense)               (None, 2)            130         ['dense_1[0][0]']                \n",
            "                                                                                                  \n",
            " dense_13 (Dense)               (None, 2)            130         ['dense_1[0][0]']                \n",
            "                                                                                                  \n",
            " dense_14 (Dense)               (None, 2)            130         ['dense_1[0][0]']                \n",
            "                                                                                                  \n",
            " dense_15 (Dense)               (None, 2)            130         ['dense_1[0][0]']                \n",
            "                                                                                                  \n",
            " dense_16 (Dense)               (None, 2)            130         ['dense_1[0][0]']                \n",
            "                                                                                                  \n",
            " dense_17 (Dense)               (None, 2)            130         ['dense_1[0][0]']                \n",
            "                                                                                                  \n",
            " dense_18 (Dense)               (None, 2)            130         ['dense_1[0][0]']                \n",
            "                                                                                                  \n",
            "==================================================================================================\n",
            "Total params: 6,754,610\n",
            "Trainable params: 6,754,610\n",
            "Non-trainable params: 0\n",
            "__________________________________________________________________________________________________\n"
          ]
        }
      ],
      "source": [
        "inp_layer = tf.keras.layers.Input(shape=(INPUT_SIZE,))\n",
        "mid_layers = tf.keras.layers.Embedding(input_dim = WORDS_SIZE,\n",
        "                                    output_dim = 13,\n",
        "                                    weights=[random_weights],\n",
        "                                    input_length = INPUT_SIZE)(inp_layer)\n",
        "mid_layers = tf.keras.layers.Convolution1D(filters=512, kernel_size=(9), padding='same', activation='relu')(mid_layers)\n",
        "mid_layers = tf.keras.layers.MaxPool1D(pool_size=5)(mid_layers)\n",
        "mid_layers = tf.keras.layers.Dropout(0.5)(mid_layers)\n",
        "mid_layers = tf.keras.layers.Flatten()(mid_layers)\n",
        "mid_layers = tf.keras.layers.Dense(128, activation='relu')(mid_layers)\n",
        "mid_layers = tf.keras.layers.Dense(64, activation='relu')(mid_layers)\n",
        "output1 = tf.keras.layers.Dense(2, activation='softmax')(mid_layers)\n",
        "output2 = tf.keras.layers.Dense(2, activation='softmax')(mid_layers)\n",
        "output3 = tf.keras.layers.Dense(2, activation='softmax')(mid_layers)\n",
        "output4 =tf.keras.layers.Dense(2, activation='softmax')(mid_layers)\n",
        "output5 = tf.keras.layers.Dense(2, activation='softmax')(mid_layers)\n",
        "output6 = tf.keras.layers.Dense(2, activation='softmax')(mid_layers)\n",
        "output7 = tf.keras.layers.Dense(2, activation='softmax')(mid_layers)\n",
        "output8 = tf.keras.layers.Dense(2, activation='softmax')(mid_layers)\n",
        "output9 =tf.keras.layers.Dense(2, activation='softmax')(mid_layers)\n",
        "output10 = tf.keras.layers.Dense(2, activation='softmax')(mid_layers)\n",
        "output11 = tf.keras.layers.Dense(2, activation='softmax')(mid_layers)\n",
        "output12 = tf.keras.layers.Dense(2, activation='softmax')(mid_layers)\n",
        "output13 = tf.keras.layers.Dense(2, activation='softmax')(mid_layers)\n",
        "output14 =tf.keras.layers.Dense(2, activation='softmax')(mid_layers)\n",
        "output15 = tf.keras.layers.Dense(2, activation='softmax')(mid_layers)\n",
        "output16 =tf.keras.layers.Dense(2, activation='softmax')(mid_layers)\n",
        "output17 = tf.keras.layers.Dense(2, activation='softmax')(mid_layers)\n",
        "model = tf.keras.Model(inp_layer,[output1,output2,output3,output4,output5,output6,output7,output8,output9,output10,output11,output12,output13,output14,output15,output16,output17])\n",
        "\n",
        "# Define custom optimizers\n",
        "# adam = tf.keras.optimizers.Adam(lr=0.005, beta_1=0.9, beta_2=0.999, epsilon=1, decay=0.0, amsgrad=False)\n",
        "\n",
        "## Compile model with metrics\n",
        "model.compile(optimizer=\"ADAM\", loss='categorical_crossentropy', metrics=['accuracy'])\n",
        "print(\"CNN model built: \")\n",
        "model.summary()"
      ]
    },
    {
      "cell_type": "code",
      "execution_count": null,
      "id": "ceaa2956",
      "metadata": {
        "scrolled": true,
        "id": "ceaa2956",
        "outputId": "94d278ee-2eaf-4258-c5e1-5f15406930d5"
      },
      "outputs": [
        {
          "data": {
            "text/plain": [
              "(17, 17724, 2)"
            ]
          },
          "execution_count": 46,
          "metadata": {},
          "output_type": "execute_result"
        }
      ],
      "source": [
        "y_train.shape"
      ]
    },
    {
      "cell_type": "code",
      "execution_count": null,
      "id": "4c2d1128",
      "metadata": {
        "collapsed": true,
        "id": "4c2d1128",
        "outputId": "ae90d133-56fe-49f7-d901-d385d89c07ff"
      },
      "outputs": [
        {
          "data": {
            "text/plain": [
              "array([[[1, 0],\n",
              "        [0, 1],\n",
              "        [1, 0],\n",
              "        ...,\n",
              "        [1, 0],\n",
              "        [0, 1],\n",
              "        [1, 0]],\n",
              "\n",
              "       [[1, 0],\n",
              "        [1, 0],\n",
              "        [1, 0],\n",
              "        ...,\n",
              "        [1, 0],\n",
              "        [1, 0],\n",
              "        [1, 0]],\n",
              "\n",
              "       [[1, 0],\n",
              "        [1, 0],\n",
              "        [1, 0],\n",
              "        ...,\n",
              "        [1, 0],\n",
              "        [1, 0],\n",
              "        [1, 0]],\n",
              "\n",
              "       ...,\n",
              "\n",
              "       [[1, 0],\n",
              "        [1, 0],\n",
              "        [1, 0],\n",
              "        ...,\n",
              "        [1, 0],\n",
              "        [1, 0],\n",
              "        [1, 0]],\n",
              "\n",
              "       [[1, 0],\n",
              "        [1, 0],\n",
              "        [1, 0],\n",
              "        ...,\n",
              "        [1, 0],\n",
              "        [1, 0],\n",
              "        [1, 0]],\n",
              "\n",
              "       [[1, 0],\n",
              "        [1, 0],\n",
              "        [0, 1],\n",
              "        ...,\n",
              "        [0, 1],\n",
              "        [1, 0],\n",
              "        [1, 0]]], dtype=int64)"
            ]
          },
          "execution_count": 48,
          "metadata": {},
          "output_type": "execute_result"
        }
      ],
      "source": [
        "y_train"
      ]
    },
    {
      "cell_type": "code",
      "execution_count": null,
      "id": "9bab06ba",
      "metadata": {
        "colab": {
          "base_uri": "https://localhost:8080/",
          "height": 1000
        },
        "id": "9bab06ba",
        "outputId": "c57c2ae1-f2ab-4811-fb82-a3012e932ed8"
      },
      "outputs": [
        {
          "output_type": "stream",
          "name": "stdout",
          "text": [
            "Epoch 1/40\n",
            "139/139 - 5s - loss: 0.6489 - dense_2_loss: 0.1830 - dense_3_loss: 0.1580 - dense_4_loss: 0.0098 - dense_5_loss: 2.3015e-05 - dense_6_loss: 0.0134 - dense_7_loss: 0.0096 - dense_8_loss: 6.7957e-06 - dense_9_loss: 3.2895e-04 - dense_10_loss: 0.0054 - dense_11_loss: 0.0013 - dense_12_loss: 3.1046e-04 - dense_13_loss: 0.0013 - dense_14_loss: 0.0268 - dense_15_loss: 0.0023 - dense_16_loss: 0.0265 - dense_17_loss: 0.1870 - dense_18_loss: 0.0239 - dense_2_accuracy: 0.9049 - dense_3_accuracy: 0.9218 - dense_4_accuracy: 0.9964 - dense_5_accuracy: 1.0000 - dense_6_accuracy: 0.9950 - dense_7_accuracy: 0.9963 - dense_8_accuracy: 1.0000 - dense_9_accuracy: 0.9998 - dense_10_accuracy: 0.9980 - dense_11_accuracy: 0.9997 - dense_12_accuracy: 0.9999 - dense_13_accuracy: 0.9996 - dense_14_accuracy: 0.9899 - dense_15_accuracy: 0.9993 - dense_16_accuracy: 0.9867 - dense_17_accuracy: 0.8967 - dense_18_accuracy: 0.9911 - 5s/epoch - 34ms/step\n",
            "Epoch 2/40\n",
            "139/139 - 5s - loss: 0.6418 - dense_2_loss: 0.1814 - dense_3_loss: 0.1561 - dense_4_loss: 0.0097 - dense_5_loss: 1.0413e-05 - dense_6_loss: 0.0130 - dense_7_loss: 0.0091 - dense_8_loss: 4.3535e-06 - dense_9_loss: 2.9899e-04 - dense_10_loss: 0.0051 - dense_11_loss: 0.0012 - dense_12_loss: 2.4233e-04 - dense_13_loss: 6.6832e-04 - dense_14_loss: 0.0262 - dense_15_loss: 0.0023 - dense_16_loss: 0.0273 - dense_17_loss: 0.1865 - dense_18_loss: 0.0227 - dense_2_accuracy: 0.9052 - dense_3_accuracy: 0.9237 - dense_4_accuracy: 0.9964 - dense_5_accuracy: 1.0000 - dense_6_accuracy: 0.9952 - dense_7_accuracy: 0.9966 - dense_8_accuracy: 1.0000 - dense_9_accuracy: 0.9999 - dense_10_accuracy: 0.9979 - dense_11_accuracy: 0.9997 - dense_12_accuracy: 0.9999 - dense_13_accuracy: 0.9998 - dense_14_accuracy: 0.9904 - dense_15_accuracy: 0.9993 - dense_16_accuracy: 0.9869 - dense_17_accuracy: 0.8962 - dense_18_accuracy: 0.9916 - 5s/epoch - 34ms/step\n",
            "Epoch 3/40\n",
            "139/139 - 5s - loss: 0.6467 - dense_2_loss: 0.1819 - dense_3_loss: 0.1561 - dense_4_loss: 0.0135 - dense_5_loss: 4.9232e-05 - dense_6_loss: 0.0127 - dense_7_loss: 0.0092 - dense_8_loss: 4.7973e-06 - dense_9_loss: 4.8401e-04 - dense_10_loss: 0.0052 - dense_11_loss: 8.6202e-04 - dense_12_loss: 1.9643e-04 - dense_13_loss: 6.0269e-04 - dense_14_loss: 0.0275 - dense_15_loss: 0.0025 - dense_16_loss: 0.0264 - dense_17_loss: 0.1867 - dense_18_loss: 0.0231 - dense_2_accuracy: 0.9043 - dense_3_accuracy: 0.9234 - dense_4_accuracy: 0.9959 - dense_5_accuracy: 1.0000 - dense_6_accuracy: 0.9954 - dense_7_accuracy: 0.9966 - dense_8_accuracy: 1.0000 - dense_9_accuracy: 0.9998 - dense_10_accuracy: 0.9979 - dense_11_accuracy: 0.9998 - dense_12_accuracy: 1.0000 - dense_13_accuracy: 0.9997 - dense_14_accuracy: 0.9900 - dense_15_accuracy: 0.9993 - dense_16_accuracy: 0.9878 - dense_17_accuracy: 0.8956 - dense_18_accuracy: 0.9907 - 5s/epoch - 33ms/step\n",
            "Epoch 4/40\n",
            "139/139 - 4s - loss: 0.6363 - dense_2_loss: 0.1806 - dense_3_loss: 0.1562 - dense_4_loss: 0.0091 - dense_5_loss: 2.2902e-05 - dense_6_loss: 0.0122 - dense_7_loss: 0.0088 - dense_8_loss: 5.9951e-06 - dense_9_loss: 4.4164e-04 - dense_10_loss: 0.0054 - dense_11_loss: 0.0012 - dense_12_loss: 3.5959e-04 - dense_13_loss: 6.5263e-04 - dense_14_loss: 0.0265 - dense_15_loss: 0.0018 - dense_16_loss: 0.0258 - dense_17_loss: 0.1858 - dense_18_loss: 0.0214 - dense_2_accuracy: 0.9049 - dense_3_accuracy: 0.9239 - dense_4_accuracy: 0.9965 - dense_5_accuracy: 1.0000 - dense_6_accuracy: 0.9953 - dense_7_accuracy: 0.9966 - dense_8_accuracy: 1.0000 - dense_9_accuracy: 0.9998 - dense_10_accuracy: 0.9981 - dense_11_accuracy: 0.9997 - dense_12_accuracy: 0.9998 - dense_13_accuracy: 0.9998 - dense_14_accuracy: 0.9899 - dense_15_accuracy: 0.9995 - dense_16_accuracy: 0.9882 - dense_17_accuracy: 0.8982 - dense_18_accuracy: 0.9916 - 4s/epoch - 32ms/step\n",
            "Epoch 5/40\n",
            "139/139 - 5s - loss: 0.6406 - dense_2_loss: 0.1822 - dense_3_loss: 0.1571 - dense_4_loss: 0.0097 - dense_5_loss: 6.7455e-04 - dense_6_loss: 0.0119 - dense_7_loss: 0.0092 - dense_8_loss: 7.4243e-06 - dense_9_loss: 2.1979e-04 - dense_10_loss: 0.0050 - dense_11_loss: 9.0826e-04 - dense_12_loss: 2.3636e-04 - dense_13_loss: 9.1043e-04 - dense_14_loss: 0.0264 - dense_15_loss: 0.0024 - dense_16_loss: 0.0257 - dense_17_loss: 0.1854 - dense_18_loss: 0.0227 - dense_2_accuracy: 0.9040 - dense_3_accuracy: 0.9235 - dense_4_accuracy: 0.9961 - dense_5_accuracy: 0.9998 - dense_6_accuracy: 0.9955 - dense_7_accuracy: 0.9964 - dense_8_accuracy: 1.0000 - dense_9_accuracy: 0.9999 - dense_10_accuracy: 0.9983 - dense_11_accuracy: 0.9997 - dense_12_accuracy: 0.9999 - dense_13_accuracy: 0.9997 - dense_14_accuracy: 0.9905 - dense_15_accuracy: 0.9991 - dense_16_accuracy: 0.9882 - dense_17_accuracy: 0.8965 - dense_18_accuracy: 0.9912 - 5s/epoch - 35ms/step\n",
            "Epoch 6/40\n",
            "139/139 - 5s - loss: 0.6348 - dense_2_loss: 0.1813 - dense_3_loss: 0.1561 - dense_4_loss: 0.0091 - dense_5_loss: 1.2624e-04 - dense_6_loss: 0.0119 - dense_7_loss: 0.0083 - dense_8_loss: 1.2255e-05 - dense_9_loss: 1.9978e-04 - dense_10_loss: 0.0053 - dense_11_loss: 8.5079e-04 - dense_12_loss: 1.7445e-04 - dense_13_loss: 8.5580e-04 - dense_14_loss: 0.0256 - dense_15_loss: 0.0020 - dense_16_loss: 0.0261 - dense_17_loss: 0.1854 - dense_18_loss: 0.0214 - dense_2_accuracy: 0.9041 - dense_3_accuracy: 0.9237 - dense_4_accuracy: 0.9965 - dense_5_accuracy: 0.9999 - dense_6_accuracy: 0.9954 - dense_7_accuracy: 0.9970 - dense_8_accuracy: 1.0000 - dense_9_accuracy: 0.9999 - dense_10_accuracy: 0.9981 - dense_11_accuracy: 0.9998 - dense_12_accuracy: 1.0000 - dense_13_accuracy: 0.9995 - dense_14_accuracy: 0.9903 - dense_15_accuracy: 0.9993 - dense_16_accuracy: 0.9872 - dense_17_accuracy: 0.8960 - dense_18_accuracy: 0.9918 - 5s/epoch - 33ms/step\n",
            "Epoch 7/40\n",
            "139/139 - 5s - loss: 0.6390 - dense_2_loss: 0.1829 - dense_3_loss: 0.1569 - dense_4_loss: 0.0093 - dense_5_loss: 1.8739e-05 - dense_6_loss: 0.0126 - dense_7_loss: 0.0087 - dense_8_loss: 1.2877e-05 - dense_9_loss: 4.8887e-04 - dense_10_loss: 0.0049 - dense_11_loss: 0.0011 - dense_12_loss: 1.3026e-04 - dense_13_loss: 9.7079e-04 - dense_14_loss: 0.0263 - dense_15_loss: 0.0017 - dense_16_loss: 0.0255 - dense_17_loss: 0.1853 - dense_18_loss: 0.0219 - dense_2_accuracy: 0.9049 - dense_3_accuracy: 0.9231 - dense_4_accuracy: 0.9963 - dense_5_accuracy: 1.0000 - dense_6_accuracy: 0.9948 - dense_7_accuracy: 0.9968 - dense_8_accuracy: 1.0000 - dense_9_accuracy: 0.9998 - dense_10_accuracy: 0.9980 - dense_11_accuracy: 0.9998 - dense_12_accuracy: 1.0000 - dense_13_accuracy: 0.9997 - dense_14_accuracy: 0.9903 - dense_15_accuracy: 0.9994 - dense_16_accuracy: 0.9875 - dense_17_accuracy: 0.8975 - dense_18_accuracy: 0.9909 - 5s/epoch - 32ms/step\n",
            "Epoch 8/40\n",
            "139/139 - 5s - loss: 0.6323 - dense_2_loss: 0.1818 - dense_3_loss: 0.1559 - dense_4_loss: 0.0095 - dense_5_loss: 1.6197e-05 - dense_6_loss: 0.0124 - dense_7_loss: 0.0090 - dense_8_loss: 1.4138e-05 - dense_9_loss: 2.3773e-04 - dense_10_loss: 0.0053 - dense_11_loss: 9.0611e-04 - dense_12_loss: 2.8883e-04 - dense_13_loss: 4.7518e-04 - dense_14_loss: 0.0248 - dense_15_loss: 0.0022 - dense_16_loss: 0.0250 - dense_17_loss: 0.1848 - dense_18_loss: 0.0197 - dense_2_accuracy: 0.9053 - dense_3_accuracy: 0.9247 - dense_4_accuracy: 0.9968 - dense_5_accuracy: 1.0000 - dense_6_accuracy: 0.9954 - dense_7_accuracy: 0.9967 - dense_8_accuracy: 1.0000 - dense_9_accuracy: 0.9999 - dense_10_accuracy: 0.9980 - dense_11_accuracy: 0.9998 - dense_12_accuracy: 0.9999 - dense_13_accuracy: 0.9998 - dense_14_accuracy: 0.9902 - dense_15_accuracy: 0.9993 - dense_16_accuracy: 0.9882 - dense_17_accuracy: 0.8970 - dense_18_accuracy: 0.9923 - 5s/epoch - 35ms/step\n",
            "Epoch 9/40\n",
            "139/139 - 5s - loss: 0.6278 - dense_2_loss: 0.1803 - dense_3_loss: 0.1548 - dense_4_loss: 0.0087 - dense_5_loss: 1.6961e-05 - dense_6_loss: 0.0120 - dense_7_loss: 0.0089 - dense_8_loss: 7.0797e-06 - dense_9_loss: 3.4146e-04 - dense_10_loss: 0.0051 - dense_11_loss: 6.4176e-04 - dense_12_loss: 2.2112e-04 - dense_13_loss: 6.0965e-04 - dense_14_loss: 0.0248 - dense_15_loss: 0.0016 - dense_16_loss: 0.0255 - dense_17_loss: 0.1848 - dense_18_loss: 0.0194 - dense_2_accuracy: 0.9053 - dense_3_accuracy: 0.9234 - dense_4_accuracy: 0.9966 - dense_5_accuracy: 1.0000 - dense_6_accuracy: 0.9955 - dense_7_accuracy: 0.9970 - dense_8_accuracy: 1.0000 - dense_9_accuracy: 0.9999 - dense_10_accuracy: 0.9980 - dense_11_accuracy: 0.9998 - dense_12_accuracy: 0.9999 - dense_13_accuracy: 0.9998 - dense_14_accuracy: 0.9906 - dense_15_accuracy: 0.9995 - dense_16_accuracy: 0.9885 - dense_17_accuracy: 0.8960 - dense_18_accuracy: 0.9926 - 5s/epoch - 33ms/step\n",
            "Epoch 10/40\n",
            "139/139 - 4s - loss: 0.6275 - dense_2_loss: 0.1803 - dense_3_loss: 0.1558 - dense_4_loss: 0.0087 - dense_5_loss: 2.0560e-05 - dense_6_loss: 0.0131 - dense_7_loss: 0.0079 - dense_8_loss: 6.3631e-06 - dense_9_loss: 2.3080e-04 - dense_10_loss: 0.0048 - dense_11_loss: 7.1774e-04 - dense_12_loss: 3.4994e-04 - dense_13_loss: 4.0418e-04 - dense_14_loss: 0.0249 - dense_15_loss: 0.0021 - dense_16_loss: 0.0237 - dense_17_loss: 0.1841 - dense_18_loss: 0.0205 - dense_2_accuracy: 0.9053 - dense_3_accuracy: 0.9244 - dense_4_accuracy: 0.9966 - dense_5_accuracy: 1.0000 - dense_6_accuracy: 0.9949 - dense_7_accuracy: 0.9972 - dense_8_accuracy: 1.0000 - dense_9_accuracy: 0.9999 - dense_10_accuracy: 0.9983 - dense_11_accuracy: 0.9997 - dense_12_accuracy: 0.9999 - dense_13_accuracy: 0.9999 - dense_14_accuracy: 0.9908 - dense_15_accuracy: 0.9993 - dense_16_accuracy: 0.9889 - dense_17_accuracy: 0.8970 - dense_18_accuracy: 0.9920 - 4s/epoch - 32ms/step\n",
            "Epoch 11/40\n",
            "139/139 - 5s - loss: 0.6259 - dense_2_loss: 0.1799 - dense_3_loss: 0.1550 - dense_4_loss: 0.0090 - dense_5_loss: 1.5091e-05 - dense_6_loss: 0.0116 - dense_7_loss: 0.0080 - dense_8_loss: 7.9475e-06 - dense_9_loss: 1.2949e-04 - dense_10_loss: 0.0048 - dense_11_loss: 5.2860e-04 - dense_12_loss: 1.2089e-04 - dense_13_loss: 7.0031e-04 - dense_14_loss: 0.0249 - dense_15_loss: 0.0012 - dense_16_loss: 0.0248 - dense_17_loss: 0.1838 - dense_18_loss: 0.0214 - dense_2_accuracy: 0.9064 - dense_3_accuracy: 0.9246 - dense_4_accuracy: 0.9966 - dense_5_accuracy: 1.0000 - dense_6_accuracy: 0.9956 - dense_7_accuracy: 0.9971 - dense_8_accuracy: 1.0000 - dense_9_accuracy: 1.0000 - dense_10_accuracy: 0.9982 - dense_11_accuracy: 0.9999 - dense_12_accuracy: 1.0000 - dense_13_accuracy: 0.9997 - dense_14_accuracy: 0.9906 - dense_15_accuracy: 0.9997 - dense_16_accuracy: 0.9880 - dense_17_accuracy: 0.8975 - dense_18_accuracy: 0.9910 - 5s/epoch - 35ms/step\n",
            "Epoch 12/40\n",
            "139/139 - 4s - loss: 0.6211 - dense_2_loss: 0.1799 - dense_3_loss: 0.1550 - dense_4_loss: 0.0085 - dense_5_loss: 9.6173e-06 - dense_6_loss: 0.0113 - dense_7_loss: 0.0077 - dense_8_loss: 5.6587e-06 - dense_9_loss: 2.9776e-04 - dense_10_loss: 0.0047 - dense_11_loss: 7.3091e-04 - dense_12_loss: 1.9891e-04 - dense_13_loss: 5.7462e-04 - dense_14_loss: 0.0248 - dense_15_loss: 0.0017 - dense_16_loss: 0.0232 - dense_17_loss: 0.1837 - dense_18_loss: 0.0187 - dense_2_accuracy: 0.9053 - dense_3_accuracy: 0.9241 - dense_4_accuracy: 0.9968 - dense_5_accuracy: 1.0000 - dense_6_accuracy: 0.9955 - dense_7_accuracy: 0.9973 - dense_8_accuracy: 1.0000 - dense_9_accuracy: 0.9999 - dense_10_accuracy: 0.9983 - dense_11_accuracy: 0.9998 - dense_12_accuracy: 0.9999 - dense_13_accuracy: 0.9998 - dense_14_accuracy: 0.9905 - dense_15_accuracy: 0.9994 - dense_16_accuracy: 0.9887 - dense_17_accuracy: 0.8963 - dense_18_accuracy: 0.9927 - 4s/epoch - 32ms/step\n",
            "Epoch 13/40\n",
            "139/139 - 4s - loss: 0.6186 - dense_2_loss: 0.1791 - dense_3_loss: 0.1535 - dense_4_loss: 0.0084 - dense_5_loss: 7.4697e-06 - dense_6_loss: 0.0117 - dense_7_loss: 0.0080 - dense_8_loss: 4.9045e-06 - dense_9_loss: 1.3942e-04 - dense_10_loss: 0.0047 - dense_11_loss: 6.3447e-04 - dense_12_loss: 8.9611e-05 - dense_13_loss: 3.3782e-04 - dense_14_loss: 0.0243 - dense_15_loss: 0.0010 - dense_16_loss: 0.0232 - dense_17_loss: 0.1840 - dense_18_loss: 0.0194 - dense_2_accuracy: 0.9057 - dense_3_accuracy: 0.9250 - dense_4_accuracy: 0.9972 - dense_5_accuracy: 1.0000 - dense_6_accuracy: 0.9955 - dense_7_accuracy: 0.9974 - dense_8_accuracy: 1.0000 - dense_9_accuracy: 0.9999 - dense_10_accuracy: 0.9982 - dense_11_accuracy: 0.9998 - dense_12_accuracy: 1.0000 - dense_13_accuracy: 0.9999 - dense_14_accuracy: 0.9910 - dense_15_accuracy: 0.9997 - dense_16_accuracy: 0.9891 - dense_17_accuracy: 0.8974 - dense_18_accuracy: 0.9923 - 4s/epoch - 32ms/step\n",
            "Epoch 14/40\n",
            "139/139 - 5s - loss: 0.6145 - dense_2_loss: 0.1791 - dense_3_loss: 0.1539 - dense_4_loss: 0.0085 - dense_5_loss: 1.0331e-05 - dense_6_loss: 0.0118 - dense_7_loss: 0.0081 - dense_8_loss: 4.2740e-05 - dense_9_loss: 1.4789e-04 - dense_10_loss: 0.0043 - dense_11_loss: 6.1682e-04 - dense_12_loss: 1.6127e-04 - dense_13_loss: 5.2954e-04 - dense_14_loss: 0.0235 - dense_15_loss: 9.9243e-04 - dense_16_loss: 0.0221 - dense_17_loss: 0.1821 - dense_18_loss: 0.0185 - dense_2_accuracy: 0.9066 - dense_3_accuracy: 0.9249 - dense_4_accuracy: 0.9970 - dense_5_accuracy: 1.0000 - dense_6_accuracy: 0.9957 - dense_7_accuracy: 0.9969 - dense_8_accuracy: 1.0000 - dense_9_accuracy: 1.0000 - dense_10_accuracy: 0.9983 - dense_11_accuracy: 0.9998 - dense_12_accuracy: 0.9999 - dense_13_accuracy: 0.9998 - dense_14_accuracy: 0.9913 - dense_15_accuracy: 0.9996 - dense_16_accuracy: 0.9888 - dense_17_accuracy: 0.8976 - dense_18_accuracy: 0.9926 - 5s/epoch - 35ms/step\n",
            "Epoch 15/40\n",
            "139/139 - 4s - loss: 0.6113 - dense_2_loss: 0.1794 - dense_3_loss: 0.1537 - dense_4_loss: 0.0080 - dense_5_loss: 5.6368e-06 - dense_6_loss: 0.0112 - dense_7_loss: 0.0078 - dense_8_loss: 7.7959e-06 - dense_9_loss: 1.9731e-04 - dense_10_loss: 0.0047 - dense_11_loss: 3.8703e-04 - dense_12_loss: 8.8481e-05 - dense_13_loss: 2.7211e-04 - dense_14_loss: 0.0229 - dense_15_loss: 0.0012 - dense_16_loss: 0.0210 - dense_17_loss: 0.1829 - dense_18_loss: 0.0175 - dense_2_accuracy: 0.9040 - dense_3_accuracy: 0.9244 - dense_4_accuracy: 0.9969 - dense_5_accuracy: 1.0000 - dense_6_accuracy: 0.9955 - dense_7_accuracy: 0.9971 - dense_8_accuracy: 1.0000 - dense_9_accuracy: 0.9999 - dense_10_accuracy: 0.9983 - dense_11_accuracy: 0.9998 - dense_12_accuracy: 1.0000 - dense_13_accuracy: 0.9999 - dense_14_accuracy: 0.9911 - dense_15_accuracy: 0.9996 - dense_16_accuracy: 0.9899 - dense_17_accuracy: 0.8970 - dense_18_accuracy: 0.9929 - 4s/epoch - 32ms/step\n",
            "Epoch 16/40\n",
            "139/139 - 4s - loss: 0.6151 - dense_2_loss: 0.1812 - dense_3_loss: 0.1529 - dense_4_loss: 0.0079 - dense_5_loss: 6.2962e-06 - dense_6_loss: 0.0110 - dense_7_loss: 0.0078 - dense_8_loss: 1.5049e-05 - dense_9_loss: 1.6527e-04 - dense_10_loss: 0.0050 - dense_11_loss: 7.1371e-04 - dense_12_loss: 9.4443e-05 - dense_13_loss: 2.6098e-04 - dense_14_loss: 0.0232 - dense_15_loss: 0.0012 - dense_16_loss: 0.0214 - dense_17_loss: 0.1835 - dense_18_loss: 0.0188 - dense_2_accuracy: 0.9050 - dense_3_accuracy: 0.9264 - dense_4_accuracy: 0.9970 - dense_5_accuracy: 1.0000 - dense_6_accuracy: 0.9955 - dense_7_accuracy: 0.9972 - dense_8_accuracy: 1.0000 - dense_9_accuracy: 0.9999 - dense_10_accuracy: 0.9983 - dense_11_accuracy: 0.9998 - dense_12_accuracy: 1.0000 - dense_13_accuracy: 0.9999 - dense_14_accuracy: 0.9913 - dense_15_accuracy: 0.9996 - dense_16_accuracy: 0.9902 - dense_17_accuracy: 0.8963 - dense_18_accuracy: 0.9928 - 4s/epoch - 32ms/step\n",
            "Epoch 17/40\n",
            "139/139 - 5s - loss: 0.6111 - dense_2_loss: 0.1796 - dense_3_loss: 0.1538 - dense_4_loss: 0.0081 - dense_5_loss: 1.2305e-05 - dense_6_loss: 0.0111 - dense_7_loss: 0.0081 - dense_8_loss: 1.2320e-05 - dense_9_loss: 1.8621e-04 - dense_10_loss: 0.0043 - dense_11_loss: 3.1544e-04 - dense_12_loss: 5.5148e-05 - dense_13_loss: 3.2895e-04 - dense_14_loss: 0.0232 - dense_15_loss: 8.3503e-04 - dense_16_loss: 0.0205 - dense_17_loss: 0.1834 - dense_18_loss: 0.0172 - dense_2_accuracy: 0.9058 - dense_3_accuracy: 0.9249 - dense_4_accuracy: 0.9970 - dense_5_accuracy: 1.0000 - dense_6_accuracy: 0.9959 - dense_7_accuracy: 0.9967 - dense_8_accuracy: 1.0000 - dense_9_accuracy: 0.9999 - dense_10_accuracy: 0.9984 - dense_11_accuracy: 0.9999 - dense_12_accuracy: 1.0000 - dense_13_accuracy: 0.9999 - dense_14_accuracy: 0.9909 - dense_15_accuracy: 0.9998 - dense_16_accuracy: 0.9904 - dense_17_accuracy: 0.8974 - dense_18_accuracy: 0.9932 - 5s/epoch - 34ms/step\n",
            "Epoch 18/40\n",
            "139/139 - 4s - loss: 0.6118 - dense_2_loss: 0.1794 - dense_3_loss: 0.1544 - dense_4_loss: 0.0077 - dense_5_loss: 5.5431e-06 - dense_6_loss: 0.0110 - dense_7_loss: 0.0079 - dense_8_loss: 3.2517e-05 - dense_9_loss: 1.4079e-04 - dense_10_loss: 0.0045 - dense_11_loss: 5.5073e-04 - dense_12_loss: 1.7054e-04 - dense_13_loss: 5.1691e-04 - dense_14_loss: 0.0237 - dense_15_loss: 0.0013 - dense_16_loss: 0.0200 - dense_17_loss: 0.1820 - dense_18_loss: 0.0184 - dense_2_accuracy: 0.9049 - dense_3_accuracy: 0.9243 - dense_4_accuracy: 0.9971 - dense_5_accuracy: 1.0000 - dense_6_accuracy: 0.9955 - dense_7_accuracy: 0.9972 - dense_8_accuracy: 1.0000 - dense_9_accuracy: 0.9999 - dense_10_accuracy: 0.9983 - dense_11_accuracy: 0.9998 - dense_12_accuracy: 0.9999 - dense_13_accuracy: 0.9999 - dense_14_accuracy: 0.9906 - dense_15_accuracy: 0.9995 - dense_16_accuracy: 0.9897 - dense_17_accuracy: 0.8989 - dense_18_accuracy: 0.9926 - 4s/epoch - 32ms/step\n",
            "Epoch 19/40\n",
            "139/139 - 4s - loss: 0.6047 - dense_2_loss: 0.1778 - dense_3_loss: 0.1534 - dense_4_loss: 0.0087 - dense_5_loss: 2.0288e-04 - dense_6_loss: 0.0106 - dense_7_loss: 0.0069 - dense_8_loss: 8.6352e-06 - dense_9_loss: 2.0213e-04 - dense_10_loss: 0.0042 - dense_11_loss: 4.7353e-04 - dense_12_loss: 7.2222e-05 - dense_13_loss: 3.0423e-04 - dense_14_loss: 0.0225 - dense_15_loss: 0.0013 - dense_16_loss: 0.0200 - dense_17_loss: 0.1806 - dense_18_loss: 0.0173 - dense_2_accuracy: 0.9070 - dense_3_accuracy: 0.9252 - dense_4_accuracy: 0.9969 - dense_5_accuracy: 0.9999 - dense_6_accuracy: 0.9956 - dense_7_accuracy: 0.9973 - dense_8_accuracy: 1.0000 - dense_9_accuracy: 0.9999 - dense_10_accuracy: 0.9983 - dense_11_accuracy: 0.9999 - dense_12_accuracy: 1.0000 - dense_13_accuracy: 0.9999 - dense_14_accuracy: 0.9913 - dense_15_accuracy: 0.9994 - dense_16_accuracy: 0.9902 - dense_17_accuracy: 0.8984 - dense_18_accuracy: 0.9935 - 4s/epoch - 32ms/step\n",
            "Epoch 20/40\n",
            "139/139 - 5s - loss: 0.6089 - dense_2_loss: 0.1785 - dense_3_loss: 0.1529 - dense_4_loss: 0.0079 - dense_5_loss: 7.4435e-06 - dense_6_loss: 0.0113 - dense_7_loss: 0.0075 - dense_8_loss: 4.0004e-06 - dense_9_loss: 1.5956e-04 - dense_10_loss: 0.0043 - dense_11_loss: 2.8722e-04 - dense_12_loss: 1.5853e-04 - dense_13_loss: 9.0166e-04 - dense_14_loss: 0.0229 - dense_15_loss: 0.0010 - dense_16_loss: 0.0217 - dense_17_loss: 0.1817 - dense_18_loss: 0.0175 - dense_2_accuracy: 0.9060 - dense_3_accuracy: 0.9249 - dense_4_accuracy: 0.9971 - dense_5_accuracy: 1.0000 - dense_6_accuracy: 0.9956 - dense_7_accuracy: 0.9976 - dense_8_accuracy: 1.0000 - dense_9_accuracy: 1.0000 - dense_10_accuracy: 0.9984 - dense_11_accuracy: 0.9999 - dense_12_accuracy: 0.9999 - dense_13_accuracy: 0.9998 - dense_14_accuracy: 0.9914 - dense_15_accuracy: 0.9996 - dense_16_accuracy: 0.9901 - dense_17_accuracy: 0.8980 - dense_18_accuracy: 0.9932 - 5s/epoch - 35ms/step\n",
            "Epoch 21/40\n",
            "139/139 - 4s - loss: 0.6092 - dense_2_loss: 0.1792 - dense_3_loss: 0.1535 - dense_4_loss: 0.0088 - dense_5_loss: 8.9987e-06 - dense_6_loss: 0.0101 - dense_7_loss: 0.0074 - dense_8_loss: 4.3565e-06 - dense_9_loss: 1.2203e-04 - dense_10_loss: 0.0046 - dense_11_loss: 3.9340e-04 - dense_12_loss: 6.1267e-05 - dense_13_loss: 4.1800e-04 - dense_14_loss: 0.0224 - dense_15_loss: 0.0018 - dense_16_loss: 0.0218 - dense_17_loss: 0.1819 - dense_18_loss: 0.0168 - dense_2_accuracy: 0.9059 - dense_3_accuracy: 0.9256 - dense_4_accuracy: 0.9966 - dense_5_accuracy: 1.0000 - dense_6_accuracy: 0.9960 - dense_7_accuracy: 0.9973 - dense_8_accuracy: 1.0000 - dense_9_accuracy: 1.0000 - dense_10_accuracy: 0.9982 - dense_11_accuracy: 0.9999 - dense_12_accuracy: 1.0000 - dense_13_accuracy: 0.9999 - dense_14_accuracy: 0.9914 - dense_15_accuracy: 0.9994 - dense_16_accuracy: 0.9897 - dense_17_accuracy: 0.8971 - dense_18_accuracy: 0.9933 - 4s/epoch - 32ms/step\n",
            "Epoch 22/40\n",
            "139/139 - 5s - loss: 0.6047 - dense_2_loss: 0.1785 - dense_3_loss: 0.1529 - dense_4_loss: 0.0085 - dense_5_loss: 3.3109e-05 - dense_6_loss: 0.0103 - dense_7_loss: 0.0073 - dense_8_loss: 9.6084e-06 - dense_9_loss: 1.4082e-04 - dense_10_loss: 0.0043 - dense_11_loss: 3.1867e-04 - dense_12_loss: 6.0702e-05 - dense_13_loss: 4.4701e-04 - dense_14_loss: 0.0220 - dense_15_loss: 0.0016 - dense_16_loss: 0.0200 - dense_17_loss: 0.1815 - dense_18_loss: 0.0167 - dense_2_accuracy: 0.9064 - dense_3_accuracy: 0.9252 - dense_4_accuracy: 0.9967 - dense_5_accuracy: 1.0000 - dense_6_accuracy: 0.9962 - dense_7_accuracy: 0.9971 - dense_8_accuracy: 1.0000 - dense_9_accuracy: 0.9999 - dense_10_accuracy: 0.9984 - dense_11_accuracy: 0.9999 - dense_12_accuracy: 1.0000 - dense_13_accuracy: 0.9998 - dense_14_accuracy: 0.9915 - dense_15_accuracy: 0.9993 - dense_16_accuracy: 0.9907 - dense_17_accuracy: 0.8984 - dense_18_accuracy: 0.9932 - 5s/epoch - 33ms/step\n",
            "Epoch 23/40\n",
            "139/139 - 5s - loss: 0.6034 - dense_2_loss: 0.1778 - dense_3_loss: 0.1523 - dense_4_loss: 0.0076 - dense_5_loss: 4.9550e-06 - dense_6_loss: 0.0101 - dense_7_loss: 0.0074 - dense_8_loss: 5.9949e-06 - dense_9_loss: 3.5519e-04 - dense_10_loss: 0.0044 - dense_11_loss: 3.0222e-04 - dense_12_loss: 6.7344e-05 - dense_13_loss: 2.3542e-04 - dense_14_loss: 0.0228 - dense_15_loss: 0.0018 - dense_16_loss: 0.0213 - dense_17_loss: 0.1807 - dense_18_loss: 0.0162 - dense_2_accuracy: 0.9064 - dense_3_accuracy: 0.9264 - dense_4_accuracy: 0.9969 - dense_5_accuracy: 1.0000 - dense_6_accuracy: 0.9959 - dense_7_accuracy: 0.9971 - dense_8_accuracy: 1.0000 - dense_9_accuracy: 0.9999 - dense_10_accuracy: 0.9982 - dense_11_accuracy: 0.9999 - dense_12_accuracy: 1.0000 - dense_13_accuracy: 0.9999 - dense_14_accuracy: 0.9913 - dense_15_accuracy: 0.9995 - dense_16_accuracy: 0.9894 - dense_17_accuracy: 0.8983 - dense_18_accuracy: 0.9938 - 5s/epoch - 34ms/step\n",
            "Epoch 24/40\n",
            "139/139 - 4s - loss: 0.5958 - dense_2_loss: 0.1775 - dense_3_loss: 0.1521 - dense_4_loss: 0.0077 - dense_5_loss: 5.2363e-06 - dense_6_loss: 0.0107 - dense_7_loss: 0.0076 - dense_8_loss: 4.9440e-06 - dense_9_loss: 6.7478e-05 - dense_10_loss: 0.0045 - dense_11_loss: 2.6009e-04 - dense_12_loss: 7.0775e-05 - dense_13_loss: 5.0622e-04 - dense_14_loss: 0.0211 - dense_15_loss: 8.5934e-04 - dense_16_loss: 0.0187 - dense_17_loss: 0.1800 - dense_18_loss: 0.0141 - dense_2_accuracy: 0.9057 - dense_3_accuracy: 0.9257 - dense_4_accuracy: 0.9972 - dense_5_accuracy: 1.0000 - dense_6_accuracy: 0.9955 - dense_7_accuracy: 0.9971 - dense_8_accuracy: 1.0000 - dense_9_accuracy: 1.0000 - dense_10_accuracy: 0.9984 - dense_11_accuracy: 0.9999 - dense_12_accuracy: 1.0000 - dense_13_accuracy: 0.9999 - dense_14_accuracy: 0.9921 - dense_15_accuracy: 0.9996 - dense_16_accuracy: 0.9905 - dense_17_accuracy: 0.8997 - dense_18_accuracy: 0.9949 - 4s/epoch - 32ms/step\n",
            "Epoch 25/40\n",
            "139/139 - 5s - loss: 0.5956 - dense_2_loss: 0.1778 - dense_3_loss: 0.1525 - dense_4_loss: 0.0076 - dense_5_loss: 7.9013e-06 - dense_6_loss: 0.0109 - dense_7_loss: 0.0077 - dense_8_loss: 2.0365e-06 - dense_9_loss: 3.4263e-05 - dense_10_loss: 0.0041 - dense_11_loss: 2.4542e-04 - dense_12_loss: 1.1147e-04 - dense_13_loss: 1.8629e-04 - dense_14_loss: 0.0219 - dense_15_loss: 6.9700e-04 - dense_16_loss: 0.0176 - dense_17_loss: 0.1799 - dense_18_loss: 0.0144 - dense_2_accuracy: 0.9076 - dense_3_accuracy: 0.9250 - dense_4_accuracy: 0.9972 - dense_5_accuracy: 1.0000 - dense_6_accuracy: 0.9960 - dense_7_accuracy: 0.9973 - dense_8_accuracy: 1.0000 - dense_9_accuracy: 1.0000 - dense_10_accuracy: 0.9984 - dense_11_accuracy: 0.9999 - dense_12_accuracy: 0.9999 - dense_13_accuracy: 0.9999 - dense_14_accuracy: 0.9917 - dense_15_accuracy: 0.9998 - dense_16_accuracy: 0.9905 - dense_17_accuracy: 0.8998 - dense_18_accuracy: 0.9942 - 5s/epoch - 33ms/step\n",
            "Epoch 26/40\n",
            "139/139 - 5s - loss: 0.5978 - dense_2_loss: 0.1784 - dense_3_loss: 0.1529 - dense_4_loss: 0.0077 - dense_5_loss: 5.4139e-06 - dense_6_loss: 0.0100 - dense_7_loss: 0.0072 - dense_8_loss: 3.4349e-06 - dense_9_loss: 9.9756e-05 - dense_10_loss: 0.0044 - dense_11_loss: 7.5779e-04 - dense_12_loss: 4.4769e-05 - dense_13_loss: 1.6360e-04 - dense_14_loss: 0.0216 - dense_15_loss: 0.0011 - dense_16_loss: 0.0190 - dense_17_loss: 0.1794 - dense_18_loss: 0.0152 - dense_2_accuracy: 0.9058 - dense_3_accuracy: 0.9256 - dense_4_accuracy: 0.9970 - dense_5_accuracy: 1.0000 - dense_6_accuracy: 0.9960 - dense_7_accuracy: 0.9975 - dense_8_accuracy: 1.0000 - dense_9_accuracy: 0.9999 - dense_10_accuracy: 0.9984 - dense_11_accuracy: 0.9999 - dense_12_accuracy: 1.0000 - dense_13_accuracy: 0.9999 - dense_14_accuracy: 0.9916 - dense_15_accuracy: 0.9995 - dense_16_accuracy: 0.9901 - dense_17_accuracy: 0.8989 - dense_18_accuracy: 0.9937 - 5s/epoch - 34ms/step\n",
            "Epoch 27/40\n",
            "139/139 - 4s - loss: 0.5944 - dense_2_loss: 0.1779 - dense_3_loss: 0.1529 - dense_4_loss: 0.0070 - dense_5_loss: 1.7664e-05 - dense_6_loss: 0.0098 - dense_7_loss: 0.0068 - dense_8_loss: 6.3657e-06 - dense_9_loss: 6.1372e-05 - dense_10_loss: 0.0046 - dense_11_loss: 4.1404e-04 - dense_12_loss: 3.1620e-05 - dense_13_loss: 1.8226e-04 - dense_14_loss: 0.0212 - dense_15_loss: 4.3979e-04 - dense_16_loss: 0.0187 - dense_17_loss: 0.1788 - dense_18_loss: 0.0156 - dense_2_accuracy: 0.9059 - dense_3_accuracy: 0.9250 - dense_4_accuracy: 0.9972 - dense_5_accuracy: 1.0000 - dense_6_accuracy: 0.9963 - dense_7_accuracy: 0.9977 - dense_8_accuracy: 1.0000 - dense_9_accuracy: 1.0000 - dense_10_accuracy: 0.9985 - dense_11_accuracy: 0.9998 - dense_12_accuracy: 1.0000 - dense_13_accuracy: 0.9999 - dense_14_accuracy: 0.9919 - dense_15_accuracy: 0.9999 - dense_16_accuracy: 0.9904 - dense_17_accuracy: 0.8985 - dense_18_accuracy: 0.9940 - 4s/epoch - 32ms/step\n",
            "Epoch 28/40\n",
            "139/139 - 5s - loss: 0.5914 - dense_2_loss: 0.1777 - dense_3_loss: 0.1513 - dense_4_loss: 0.0069 - dense_5_loss: 4.4693e-06 - dense_6_loss: 0.0095 - dense_7_loss: 0.0067 - dense_8_loss: 3.2322e-06 - dense_9_loss: 7.6299e-05 - dense_10_loss: 0.0042 - dense_11_loss: 2.2971e-04 - dense_12_loss: 5.0070e-05 - dense_13_loss: 1.4456e-04 - dense_14_loss: 0.0217 - dense_15_loss: 4.3443e-04 - dense_16_loss: 0.0178 - dense_17_loss: 0.1796 - dense_18_loss: 0.0150 - dense_2_accuracy: 0.9073 - dense_3_accuracy: 0.9255 - dense_4_accuracy: 0.9975 - dense_5_accuracy: 1.0000 - dense_6_accuracy: 0.9961 - dense_7_accuracy: 0.9975 - dense_8_accuracy: 1.0000 - dense_9_accuracy: 1.0000 - dense_10_accuracy: 0.9984 - dense_11_accuracy: 0.9999 - dense_12_accuracy: 1.0000 - dense_13_accuracy: 1.0000 - dense_14_accuracy: 0.9919 - dense_15_accuracy: 0.9998 - dense_16_accuracy: 0.9912 - dense_17_accuracy: 0.9001 - dense_18_accuracy: 0.9937 - 5s/epoch - 34ms/step\n",
            "Epoch 29/40\n",
            "139/139 - 5s - loss: 0.5885 - dense_2_loss: 0.1772 - dense_3_loss: 0.1511 - dense_4_loss: 0.0071 - dense_5_loss: 2.5303e-06 - dense_6_loss: 0.0095 - dense_7_loss: 0.0068 - dense_8_loss: 3.8018e-06 - dense_9_loss: 5.8272e-05 - dense_10_loss: 0.0042 - dense_11_loss: 1.9429e-04 - dense_12_loss: 2.7433e-05 - dense_13_loss: 1.6857e-04 - dense_14_loss: 0.0209 - dense_15_loss: 6.2843e-04 - dense_16_loss: 0.0176 - dense_17_loss: 0.1795 - dense_18_loss: 0.0136 - dense_2_accuracy: 0.9079 - dense_3_accuracy: 0.9265 - dense_4_accuracy: 0.9975 - dense_5_accuracy: 1.0000 - dense_6_accuracy: 0.9963 - dense_7_accuracy: 0.9975 - dense_8_accuracy: 1.0000 - dense_9_accuracy: 1.0000 - dense_10_accuracy: 0.9986 - dense_11_accuracy: 0.9999 - dense_12_accuracy: 1.0000 - dense_13_accuracy: 1.0000 - dense_14_accuracy: 0.9922 - dense_15_accuracy: 0.9998 - dense_16_accuracy: 0.9910 - dense_17_accuracy: 0.8984 - dense_18_accuracy: 0.9949 - 5s/epoch - 34ms/step\n",
            "Epoch 30/40\n",
            "139/139 - 4s - loss: 0.5908 - dense_2_loss: 0.1765 - dense_3_loss: 0.1521 - dense_4_loss: 0.0076 - dense_5_loss: 5.3114e-06 - dense_6_loss: 0.0100 - dense_7_loss: 0.0067 - dense_8_loss: 2.3744e-06 - dense_9_loss: 6.7146e-05 - dense_10_loss: 0.0043 - dense_11_loss: 1.3770e-04 - dense_12_loss: 2.8995e-05 - dense_13_loss: 2.0038e-04 - dense_14_loss: 0.0215 - dense_15_loss: 7.7261e-04 - dense_16_loss: 0.0177 - dense_17_loss: 0.1788 - dense_18_loss: 0.0144 - dense_2_accuracy: 0.9065 - dense_3_accuracy: 0.9257 - dense_4_accuracy: 0.9974 - dense_5_accuracy: 1.0000 - dense_6_accuracy: 0.9961 - dense_7_accuracy: 0.9977 - dense_8_accuracy: 1.0000 - dense_9_accuracy: 1.0000 - dense_10_accuracy: 0.9985 - dense_11_accuracy: 1.0000 - dense_12_accuracy: 1.0000 - dense_13_accuracy: 0.9999 - dense_14_accuracy: 0.9918 - dense_15_accuracy: 0.9997 - dense_16_accuracy: 0.9916 - dense_17_accuracy: 0.8994 - dense_18_accuracy: 0.9946 - 4s/epoch - 32ms/step\n",
            "Epoch 31/40\n",
            "139/139 - 5s - loss: 0.5917 - dense_2_loss: 0.1770 - dense_3_loss: 0.1518 - dense_4_loss: 0.0077 - dense_5_loss: 2.8003e-06 - dense_6_loss: 0.0105 - dense_7_loss: 0.0064 - dense_8_loss: 5.7457e-06 - dense_9_loss: 3.6007e-05 - dense_10_loss: 0.0040 - dense_11_loss: 1.9599e-04 - dense_12_loss: 3.0040e-05 - dense_13_loss: 2.3839e-04 - dense_14_loss: 0.0207 - dense_15_loss: 7.5934e-04 - dense_16_loss: 0.0183 - dense_17_loss: 0.1795 - dense_18_loss: 0.0146 - dense_2_accuracy: 0.9072 - dense_3_accuracy: 0.9255 - dense_4_accuracy: 0.9971 - dense_5_accuracy: 1.0000 - dense_6_accuracy: 0.9958 - dense_7_accuracy: 0.9979 - dense_8_accuracy: 1.0000 - dense_9_accuracy: 1.0000 - dense_10_accuracy: 0.9985 - dense_11_accuracy: 0.9999 - dense_12_accuracy: 1.0000 - dense_13_accuracy: 0.9999 - dense_14_accuracy: 0.9921 - dense_15_accuracy: 0.9998 - dense_16_accuracy: 0.9907 - dense_17_accuracy: 0.8985 - dense_18_accuracy: 0.9942 - 5s/epoch - 34ms/step\n",
            "Epoch 32/40\n",
            "139/139 - 5s - loss: 0.5920 - dense_2_loss: 0.1771 - dense_3_loss: 0.1501 - dense_4_loss: 0.0073 - dense_5_loss: 4.2536e-06 - dense_6_loss: 0.0100 - dense_7_loss: 0.0069 - dense_8_loss: 3.6582e-06 - dense_9_loss: 2.6249e-04 - dense_10_loss: 0.0040 - dense_11_loss: 1.5121e-04 - dense_12_loss: 4.9767e-05 - dense_13_loss: 1.8124e-04 - dense_14_loss: 0.0217 - dense_15_loss: 0.0019 - dense_16_loss: 0.0172 - dense_17_loss: 0.1792 - dense_18_loss: 0.0158 - dense_2_accuracy: 0.9070 - dense_3_accuracy: 0.9265 - dense_4_accuracy: 0.9975 - dense_5_accuracy: 1.0000 - dense_6_accuracy: 0.9962 - dense_7_accuracy: 0.9976 - dense_8_accuracy: 1.0000 - dense_9_accuracy: 0.9999 - dense_10_accuracy: 0.9985 - dense_11_accuracy: 1.0000 - dense_12_accuracy: 1.0000 - dense_13_accuracy: 0.9999 - dense_14_accuracy: 0.9917 - dense_15_accuracy: 0.9993 - dense_16_accuracy: 0.9913 - dense_17_accuracy: 0.8991 - dense_18_accuracy: 0.9941 - 5s/epoch - 33ms/step\n",
            "Epoch 33/40\n",
            "139/139 - 4s - loss: 0.5904 - dense_2_loss: 0.1772 - dense_3_loss: 0.1518 - dense_4_loss: 0.0068 - dense_5_loss: 4.0194e-06 - dense_6_loss: 0.0102 - dense_7_loss: 0.0064 - dense_8_loss: 1.1797e-05 - dense_9_loss: 1.2622e-04 - dense_10_loss: 0.0042 - dense_11_loss: 1.9575e-04 - dense_12_loss: 7.6810e-05 - dense_13_loss: 6.7915e-05 - dense_14_loss: 0.0207 - dense_15_loss: 6.5440e-04 - dense_16_loss: 0.0173 - dense_17_loss: 0.1795 - dense_18_loss: 0.0151 - dense_2_accuracy: 0.9067 - dense_3_accuracy: 0.9264 - dense_4_accuracy: 0.9977 - dense_5_accuracy: 1.0000 - dense_6_accuracy: 0.9960 - dense_7_accuracy: 0.9977 - dense_8_accuracy: 1.0000 - dense_9_accuracy: 0.9999 - dense_10_accuracy: 0.9984 - dense_11_accuracy: 0.9999 - dense_12_accuracy: 1.0000 - dense_13_accuracy: 1.0000 - dense_14_accuracy: 0.9920 - dense_15_accuracy: 0.9998 - dense_16_accuracy: 0.9912 - dense_17_accuracy: 0.9004 - dense_18_accuracy: 0.9944 - 4s/epoch - 32ms/step\n",
            "Epoch 34/40\n",
            "139/139 - 5s - loss: 0.5963 - dense_2_loss: 0.1771 - dense_3_loss: 0.1512 - dense_4_loss: 0.0094 - dense_5_loss: 8.7531e-04 - dense_6_loss: 0.0099 - dense_7_loss: 0.0074 - dense_8_loss: 4.6563e-05 - dense_9_loss: 6.0761e-04 - dense_10_loss: 0.0044 - dense_11_loss: 1.6716e-04 - dense_12_loss: 7.1637e-04 - dense_13_loss: 6.1617e-04 - dense_14_loss: 0.0201 - dense_15_loss: 0.0011 - dense_16_loss: 0.0174 - dense_17_loss: 0.1796 - dense_18_loss: 0.0156 - dense_2_accuracy: 0.9073 - dense_3_accuracy: 0.9264 - dense_4_accuracy: 0.9967 - dense_5_accuracy: 0.9998 - dense_6_accuracy: 0.9961 - dense_7_accuracy: 0.9972 - dense_8_accuracy: 1.0000 - dense_9_accuracy: 0.9998 - dense_10_accuracy: 0.9982 - dense_11_accuracy: 1.0000 - dense_12_accuracy: 0.9998 - dense_13_accuracy: 0.9998 - dense_14_accuracy: 0.9926 - dense_15_accuracy: 0.9997 - dense_16_accuracy: 0.9913 - dense_17_accuracy: 0.8989 - dense_18_accuracy: 0.9942 - 5s/epoch - 34ms/step\n",
            "Epoch 35/40\n",
            "139/139 - 5s - loss: 0.5966 - dense_2_loss: 0.1769 - dense_3_loss: 0.1520 - dense_4_loss: 0.0077 - dense_5_loss: 1.6639e-05 - dense_6_loss: 0.0102 - dense_7_loss: 0.0073 - dense_8_loss: 0.0012 - dense_9_loss: 1.7749e-04 - dense_10_loss: 0.0040 - dense_11_loss: 0.0018 - dense_12_loss: 8.4298e-05 - dense_13_loss: 1.9590e-04 - dense_14_loss: 0.0222 - dense_15_loss: 9.6609e-04 - dense_16_loss: 0.0176 - dense_17_loss: 0.1793 - dense_18_loss: 0.0148 - dense_2_accuracy: 0.9065 - dense_3_accuracy: 0.9268 - dense_4_accuracy: 0.9972 - dense_5_accuracy: 1.0000 - dense_6_accuracy: 0.9959 - dense_7_accuracy: 0.9975 - dense_8_accuracy: 0.9998 - dense_9_accuracy: 0.9999 - dense_10_accuracy: 0.9986 - dense_11_accuracy: 0.9997 - dense_12_accuracy: 0.9999 - dense_13_accuracy: 0.9999 - dense_14_accuracy: 0.9916 - dense_15_accuracy: 0.9997 - dense_16_accuracy: 0.9915 - dense_17_accuracy: 0.8995 - dense_18_accuracy: 0.9941 - 5s/epoch - 33ms/step\n",
            "Epoch 36/40\n",
            "139/139 - 4s - loss: 0.5871 - dense_2_loss: 0.1761 - dense_3_loss: 0.1511 - dense_4_loss: 0.0070 - dense_5_loss: 3.7155e-04 - dense_6_loss: 0.0091 - dense_7_loss: 0.0068 - dense_8_loss: 1.4454e-05 - dense_9_loss: 2.8510e-04 - dense_10_loss: 0.0040 - dense_11_loss: 1.5059e-04 - dense_12_loss: 1.1368e-04 - dense_13_loss: 9.4426e-05 - dense_14_loss: 0.0209 - dense_15_loss: 9.1473e-04 - dense_16_loss: 0.0170 - dense_17_loss: 0.1792 - dense_18_loss: 0.0139 - dense_2_accuracy: 0.9078 - dense_3_accuracy: 0.9260 - dense_4_accuracy: 0.9975 - dense_5_accuracy: 0.9999 - dense_6_accuracy: 0.9967 - dense_7_accuracy: 0.9973 - dense_8_accuracy: 1.0000 - dense_9_accuracy: 0.9998 - dense_10_accuracy: 0.9986 - dense_11_accuracy: 1.0000 - dense_12_accuracy: 0.9999 - dense_13_accuracy: 1.0000 - dense_14_accuracy: 0.9920 - dense_15_accuracy: 0.9996 - dense_16_accuracy: 0.9916 - dense_17_accuracy: 0.8985 - dense_18_accuracy: 0.9945 - 4s/epoch - 32ms/step\n",
            "Epoch 37/40\n",
            "139/139 - 5s - loss: 0.5862 - dense_2_loss: 0.1766 - dense_3_loss: 0.1503 - dense_4_loss: 0.0073 - dense_5_loss: 2.2808e-05 - dense_6_loss: 0.0099 - dense_7_loss: 0.0070 - dense_8_loss: 1.3816e-05 - dense_9_loss: 4.8462e-05 - dense_10_loss: 0.0042 - dense_11_loss: 1.7519e-04 - dense_12_loss: 3.3075e-05 - dense_13_loss: 1.7751e-04 - dense_14_loss: 0.0203 - dense_15_loss: 8.3279e-04 - dense_16_loss: 0.0174 - dense_17_loss: 0.1780 - dense_18_loss: 0.0140 - dense_2_accuracy: 0.9070 - dense_3_accuracy: 0.9262 - dense_4_accuracy: 0.9973 - dense_5_accuracy: 1.0000 - dense_6_accuracy: 0.9961 - dense_7_accuracy: 0.9976 - dense_8_accuracy: 1.0000 - dense_9_accuracy: 1.0000 - dense_10_accuracy: 0.9985 - dense_11_accuracy: 0.9999 - dense_12_accuracy: 1.0000 - dense_13_accuracy: 0.9999 - dense_14_accuracy: 0.9922 - dense_15_accuracy: 0.9997 - dense_16_accuracy: 0.9912 - dense_17_accuracy: 0.8991 - dense_18_accuracy: 0.9946 - 5s/epoch - 34ms/step\n",
            "Epoch 38/40\n",
            "139/139 - 5s - loss: 0.5866 - dense_2_loss: 0.1772 - dense_3_loss: 0.1509 - dense_4_loss: 0.0071 - dense_5_loss: 6.6098e-06 - dense_6_loss: 0.0093 - dense_7_loss: 0.0063 - dense_8_loss: 7.5599e-06 - dense_9_loss: 1.4042e-04 - dense_10_loss: 0.0043 - dense_11_loss: 1.0444e-04 - dense_12_loss: 5.5673e-05 - dense_13_loss: 2.3716e-04 - dense_14_loss: 0.0203 - dense_15_loss: 6.9582e-04 - dense_16_loss: 0.0173 - dense_17_loss: 0.1781 - dense_18_loss: 0.0146 - dense_2_accuracy: 0.9067 - dense_3_accuracy: 0.9260 - dense_4_accuracy: 0.9973 - dense_5_accuracy: 1.0000 - dense_6_accuracy: 0.9962 - dense_7_accuracy: 0.9976 - dense_8_accuracy: 1.0000 - dense_9_accuracy: 0.9999 - dense_10_accuracy: 0.9985 - dense_11_accuracy: 1.0000 - dense_12_accuracy: 1.0000 - dense_13_accuracy: 0.9999 - dense_14_accuracy: 0.9924 - dense_15_accuracy: 0.9998 - dense_16_accuracy: 0.9918 - dense_17_accuracy: 0.8998 - dense_18_accuracy: 0.9944 - 5s/epoch - 33ms/step\n",
            "Epoch 39/40\n",
            "139/139 - 4s - loss: 0.5839 - dense_2_loss: 0.1762 - dense_3_loss: 0.1498 - dense_4_loss: 0.0073 - dense_5_loss: 1.1581e-05 - dense_6_loss: 0.0089 - dense_7_loss: 0.0064 - dense_8_loss: 8.0588e-06 - dense_9_loss: 2.3720e-04 - dense_10_loss: 0.0041 - dense_11_loss: 1.1108e-04 - dense_12_loss: 4.9817e-05 - dense_13_loss: 1.5721e-04 - dense_14_loss: 0.0204 - dense_15_loss: 5.4596e-04 - dense_16_loss: 0.0160 - dense_17_loss: 0.1786 - dense_18_loss: 0.0150 - dense_2_accuracy: 0.9063 - dense_3_accuracy: 0.9264 - dense_4_accuracy: 0.9972 - dense_5_accuracy: 1.0000 - dense_6_accuracy: 0.9963 - dense_7_accuracy: 0.9977 - dense_8_accuracy: 1.0000 - dense_9_accuracy: 0.9999 - dense_10_accuracy: 0.9986 - dense_11_accuracy: 1.0000 - dense_12_accuracy: 1.0000 - dense_13_accuracy: 1.0000 - dense_14_accuracy: 0.9920 - dense_15_accuracy: 0.9999 - dense_16_accuracy: 0.9918 - dense_17_accuracy: 0.8988 - dense_18_accuracy: 0.9942 - 4s/epoch - 32ms/step\n",
            "Epoch 40/40\n",
            "139/139 - 5s - loss: 0.5826 - dense_2_loss: 0.1754 - dense_3_loss: 0.1506 - dense_4_loss: 0.0069 - dense_5_loss: 6.0112e-06 - dense_6_loss: 0.0096 - dense_7_loss: 0.0066 - dense_8_loss: 5.7633e-06 - dense_9_loss: 1.0727e-04 - dense_10_loss: 0.0042 - dense_11_loss: 3.0571e-04 - dense_12_loss: 2.7639e-04 - dense_13_loss: 2.5028e-04 - dense_14_loss: 0.0196 - dense_15_loss: 6.0584e-04 - dense_16_loss: 0.0157 - dense_17_loss: 0.1790 - dense_18_loss: 0.0136 - dense_2_accuracy: 0.9070 - dense_3_accuracy: 0.9264 - dense_4_accuracy: 0.9974 - dense_5_accuracy: 1.0000 - dense_6_accuracy: 0.9964 - dense_7_accuracy: 0.9975 - dense_8_accuracy: 1.0000 - dense_9_accuracy: 0.9999 - dense_10_accuracy: 0.9984 - dense_11_accuracy: 0.9999 - dense_12_accuracy: 0.9999 - dense_13_accuracy: 0.9999 - dense_14_accuracy: 0.9925 - dense_15_accuracy: 0.9998 - dense_16_accuracy: 0.9920 - dense_17_accuracy: 0.9001 - dense_18_accuracy: 0.9944 - 5s/epoch - 35ms/step\n",
            "dict_keys(['loss', 'dense_2_loss', 'dense_3_loss', 'dense_4_loss', 'dense_5_loss', 'dense_6_loss', 'dense_7_loss', 'dense_8_loss', 'dense_9_loss', 'dense_10_loss', 'dense_11_loss', 'dense_12_loss', 'dense_13_loss', 'dense_14_loss', 'dense_15_loss', 'dense_16_loss', 'dense_17_loss', 'dense_18_loss', 'dense_2_accuracy', 'dense_3_accuracy', 'dense_4_accuracy', 'dense_5_accuracy', 'dense_6_accuracy', 'dense_7_accuracy', 'dense_8_accuracy', 'dense_9_accuracy', 'dense_10_accuracy', 'dense_11_accuracy', 'dense_12_accuracy', 'dense_13_accuracy', 'dense_14_accuracy', 'dense_15_accuracy', 'dense_16_accuracy', 'dense_17_accuracy', 'dense_18_accuracy'])\n"
          ]
        },
        {
          "output_type": "display_data",
          "data": {
            "text/plain": [
              "<Figure size 640x480 with 1 Axes>"
            ],
            "image/png": "[encoded data removed]"
          },
          "metadata": {}
        },
        {
          "output_type": "display_data",
          "data": {
            "text/plain": [
              "<Figure size 640x480 with 1 Axes>"
            ],
            "image/png": "[encoded data removed]"
          },
          "metadata": {}
        }
      ],
      "source": [
        "class_weights = [{0: 1., 1: 5.},{0: 1., 1: 5.},{0: 1., 1: 5.},{0: 1., 1: 5.},{0: 1., 1: 5.}]\n",
        "\n",
        "history = model.fit(x = X,\n",
        "          y = [y_train[0],y_train[1],y_train[2],y_train[3],y_train[4],y_train[5],y_train[6],y_train[7],y_train[8],y_train[9],y_train[10],y_train[11],y_train[12],y_train[13],y_train[14],y_train[15],y_train[16]],\n",
        "          epochs = 0,\n",
        "          batch_size = 128,\n",
        "          verbose =2)\n",
        "\n",
        "print(history.history.keys())\n",
        "# summarize history for accuracy\n",
        "\n",
        "accuracy_labels = [\"dense_\"+str(i)+\"_accuracy\" for i in range(2,19) ]\n",
        "loss_labels = [\"dense_\" + str(i) + \"_loss\" for i in range(2,19)]\n",
        "# summarize history for accuracy\n",
        "\n",
        "for i in range(17):\n",
        "  plt.plot(history.history[accuracy_labels[i]])\n",
        "plt.title('model accuracy')\n",
        "plt.ylabel('accuracy')\n",
        "plt.xlabel('epoch')\n",
        "plt.legend(accuracy_labels,bbox_to_anchor =(0.65, 1.25))\n",
        "plt.show()\n",
        "# summarize history for loss\n",
        "for i in range(17):\n",
        "  plt.plot(history.history[loss_labels[i]])\n",
        "plt.title('model loss')\n",
        "plt.ylabel('loss')\n",
        "plt.xlabel('epoch')\n",
        "plt.legend(loss_labels,bbox_to_anchor =(0.65, 1.25))\n",
        "plt.show()"
      ]
    },
    {
      "cell_type": "code",
      "execution_count": null,
      "id": "XDtuopqacuxK",
      "metadata": {
        "id": "XDtuopqacuxK"
      },
      "outputs": [],
      "source": []
    },
    {
      "cell_type": "code",
      "execution_count": null,
      "id": "RzIOVSdnMYyO",
      "metadata": {
        "colab": {
          "base_uri": "https://localhost:8080/"
        },
        "id": "RzIOVSdnMYyO",
        "outputId": "98e3ec9f-d887-432d-f991-67d8fb1cd926",
        "scrolled": true
      },
      "outputs": [
        {
          "name": "stdout",
          "output_type": "stream",
          "text": [
            "Looking in indexes: https://pypi.org/simple, https://us-python.pkg.dev/colab-wheels/public/simple/\n",
            "Requirement already satisfied: pyyaml in /usr/local/lib/python3.9/dist-packages (6.0)\n",
            "Requirement already satisfied: h5py in /usr/local/lib/python3.9/dist-packages (3.8.0)\n",
            "Requirement already satisfied: numpy>=1.14.5 in /usr/local/lib/python3.9/dist-packages (from h5py) (1.22.4)\n"
          ]
        }
      ],
      "source": [
        "!pip install pyyaml h5py  # Required to save models in HDF5 format"
      ]
    },
    {
      "cell_type": "code",
      "execution_count": null,
      "id": "8b5a9648",
      "metadata": {
        "id": "8b5a9648"
      },
      "outputs": [],
      "source": [
        "data = pd.read_csv('vulnerability_test.csv')\n"
      ]
    },
    {
      "cell_type": "code",
      "execution_count": null,
      "id": "ba20431b",
      "metadata": {
        "id": "ba20431b",
        "outputId": "ab982b92-5092-4d12-f29b-3d336a56850a"
      },
      "outputs": [
        {
          "data": {
            "text/html": [
              "<div>\n",
              "<style scoped>\n",
              "    .dataframe tbody tr th:only-of-type {\n",
              "        vertical-align: middle;\n",
              "    }\n",
              "\n",
              "    .dataframe tbody tr th {\n",
              "        vertical-align: top;\n",
              "    }\n",
              "\n",
              "    .dataframe thead th {\n",
              "        text-align: right;\n",
              "    }\n",
              "</style>\n",
              "<table border=\"1\" class=\"dataframe\">\n",
              "  <thead>\n",
              "    <tr style=\"text-align: right;\">\n",
              "      <th></th>\n",
              "      <th>source_code</th>\n",
              "      <th>CWE114</th>\n",
              "      <th>CWE134</th>\n",
              "      <th>CWE190</th>\n",
              "      <th>CWE196</th>\n",
              "      <th>CWE319</th>\n",
              "      <th>CWE369</th>\n",
              "      <th>CWE398</th>\n",
              "      <th>CWE416</th>\n",
              "      <th>CWE427</th>\n",
              "      <th>CWE469</th>\n",
              "      <th>CWE506</th>\n",
              "      <th>CWE605</th>\n",
              "      <th>CWE606</th>\n",
              "      <th>CWE666</th>\n",
              "      <th>CWE680</th>\n",
              "      <th>CWE761</th>\n",
              "      <th>CWE789</th>\n",
              "    </tr>\n",
              "  </thead>\n",
              "  <tbody>\n",
              "    <tr>\n",
              "      <th>3009</th>\n",
              "      <td>static void mem_add(MemoryListener *listener, ...</td>\n",
              "      <td>0</td>\n",
              "      <td>0</td>\n",
              "      <td>0</td>\n",
              "      <td>0</td>\n",
              "      <td>0</td>\n",
              "      <td>0</td>\n",
              "      <td>0</td>\n",
              "      <td>0</td>\n",
              "      <td>1</td>\n",
              "      <td>0</td>\n",
              "      <td>0</td>\n",
              "      <td>0</td>\n",
              "      <td>0</td>\n",
              "      <td>0</td>\n",
              "      <td>0</td>\n",
              "      <td>0</td>\n",
              "      <td>0</td>\n",
              "    </tr>\n",
              "    <tr>\n",
              "      <th>3978</th>\n",
              "      <td>static\\nset_rx_control(E1000State *s, int inde...</td>\n",
              "      <td>0</td>\n",
              "      <td>0</td>\n",
              "      <td>0</td>\n",
              "      <td>0</td>\n",
              "      <td>0</td>\n",
              "      <td>0</td>\n",
              "      <td>0</td>\n",
              "      <td>0</td>\n",
              "      <td>1</td>\n",
              "      <td>0</td>\n",
              "      <td>0</td>\n",
              "      <td>0</td>\n",
              "      <td>0</td>\n",
              "      <td>0</td>\n",
              "      <td>0</td>\n",
              "      <td>0</td>\n",
              "      <td>0</td>\n",
              "    </tr>\n",
              "    <tr>\n",
              "      <th>141</th>\n",
              "      <td>static void CVE_2013_1576_VULN_dissect_sdp_med...</td>\n",
              "      <td>0</td>\n",
              "      <td>0</td>\n",
              "      <td>0</td>\n",
              "      <td>0</td>\n",
              "      <td>0</td>\n",
              "      <td>0</td>\n",
              "      <td>0</td>\n",
              "      <td>0</td>\n",
              "      <td>1</td>\n",
              "      <td>0</td>\n",
              "      <td>0</td>\n",
              "      <td>0</td>\n",
              "      <td>0</td>\n",
              "      <td>0</td>\n",
              "      <td>0</td>\n",
              "      <td>0</td>\n",
              "      <td>0</td>\n",
              "    </tr>\n",
              "    <tr>\n",
              "      <th>3645</th>\n",
              "      <td>static void rtl8139_io_writel(void *opaque, ui...</td>\n",
              "      <td>0</td>\n",
              "      <td>0</td>\n",
              "      <td>0</td>\n",
              "      <td>0</td>\n",
              "      <td>0</td>\n",
              "      <td>0</td>\n",
              "      <td>0</td>\n",
              "      <td>0</td>\n",
              "      <td>1</td>\n",
              "      <td>0</td>\n",
              "      <td>0</td>\n",
              "      <td>0</td>\n",
              "      <td>0</td>\n",
              "      <td>0</td>\n",
              "      <td>0</td>\n",
              "      <td>0</td>\n",
              "      <td>0</td>\n",
              "    </tr>\n",
              "    <tr>\n",
              "      <th>2115</th>\n",
              "      <td>static inline void xhci_dma_write_u32s(XHCISta...</td>\n",
              "      <td>0</td>\n",
              "      <td>0</td>\n",
              "      <td>0</td>\n",
              "      <td>0</td>\n",
              "      <td>0</td>\n",
              "      <td>0</td>\n",
              "      <td>0</td>\n",
              "      <td>0</td>\n",
              "      <td>1</td>\n",
              "      <td>0</td>\n",
              "      <td>0</td>\n",
              "      <td>0</td>\n",
              "      <td>0</td>\n",
              "      <td>0</td>\n",
              "      <td>0</td>\n",
              "      <td>0</td>\n",
              "      <td>0</td>\n",
              "    </tr>\n",
              "  </tbody>\n",
              "</table>\n",
              "</div>"
            ],
            "text/plain": [
              "                                            source_code  CWE114  CWE134  \\\n",
              "3009  static void mem_add(MemoryListener *listener, ...       0       0   \n",
              "3978  static\\nset_rx_control(E1000State *s, int inde...       0       0   \n",
              "141   static void CVE_2013_1576_VULN_dissect_sdp_med...       0       0   \n",
              "3645  static void rtl8139_io_writel(void *opaque, ui...       0       0   \n",
              "2115  static inline void xhci_dma_write_u32s(XHCISta...       0       0   \n",
              "\n",
              "      CWE190  CWE196  CWE319  CWE369  CWE398  CWE416  CWE427  CWE469  CWE506  \\\n",
              "3009       0       0       0       0       0       0       1       0       0   \n",
              "3978       0       0       0       0       0       0       1       0       0   \n",
              "141        0       0       0       0       0       0       1       0       0   \n",
              "3645       0       0       0       0       0       0       1       0       0   \n",
              "2115       0       0       0       0       0       0       1       0       0   \n",
              "\n",
              "      CWE605  CWE606  CWE666  CWE680  CWE761  CWE789  \n",
              "3009       0       0       0       0       0       0  \n",
              "3978       0       0       0       0       0       0  \n",
              "141        0       0       0       0       0       0  \n",
              "3645       0       0       0       0       0       0  \n",
              "2115       0       0       0       0       0       0  "
            ]
          },
          "execution_count": 52,
          "metadata": {},
          "output_type": "execute_result"
        }
      ],
      "source": [
        "data.head()"
      ]
    },
    {
      "cell_type": "code",
      "execution_count": null,
      "id": "375210b1",
      "metadata": {
        "id": "375210b1"
      },
      "outputs": [],
      "source": [
        "data=data.sample(frac=1)"
      ]
    },
    {
      "cell_type": "code",
      "execution_count": null,
      "id": "72e24b8e",
      "metadata": {
        "id": "72e24b8e"
      },
      "outputs": [],
      "source": [
        "X=data['source_code']\n",
        "y=np.array([data['CWE114'].values,data['CWE134'].values,data['CWE190'].values,data['CWE196'].values,data['CWE319'].values,data['CWE369'].values,data['CWE398'].values,data['CWE416'].values,data['CWE427'].values,data['CWE469'].values,data['CWE506'].values,data['CWE605'].values,data['CWE606'].values,data['CWE666'].values,data['CWE680'].values,data['CWE761'].values,data['CWE789'].values])"
      ]
    },
    {
      "cell_type": "code",
      "execution_count": null,
      "id": "c670e867",
      "metadata": {
        "id": "c670e867"
      },
      "outputs": [],
      "source": [
        "y = y.T"
      ]
    },
    {
      "cell_type": "code",
      "execution_count": null,
      "id": "23898af7",
      "metadata": {
        "id": "23898af7"
      },
      "outputs": [],
      "source": [
        "y_test=[]\n",
        "#print(data.iloc[:,2])\n",
        "data = data.ffill()\n",
        "columns = data.columns[1:]\n",
        "for column in columns:\n",
        "    y_test.append(tf.keras.utils.to_categorical(list(data[column].values), num_classes=NUM_CLASSES).astype(np.int64))\n",
        "y_test = np.array(y_train)"
      ]
    },
    {
      "cell_type": "code",
      "execution_count": null,
      "id": "9a133a44",
      "metadata": {
        "scrolled": true,
        "id": "9a133a44",
        "outputId": "9bb5356c-2660-4274-fd42-00698cab8b7b"
      },
      "outputs": [
        {
          "data": {
            "text/plain": [
              "array([[[1, 0],\n",
              "        [0, 1],\n",
              "        [1, 0],\n",
              "        ...,\n",
              "        [1, 0],\n",
              "        [0, 1],\n",
              "        [1, 0]],\n",
              "\n",
              "       [[1, 0],\n",
              "        [1, 0],\n",
              "        [1, 0],\n",
              "        ...,\n",
              "        [1, 0],\n",
              "        [1, 0],\n",
              "        [1, 0]],\n",
              "\n",
              "       [[1, 0],\n",
              "        [1, 0],\n",
              "        [1, 0],\n",
              "        ...,\n",
              "        [1, 0],\n",
              "        [1, 0],\n",
              "        [1, 0]],\n",
              "\n",
              "       ...,\n",
              "\n",
              "       [[1, 0],\n",
              "        [1, 0],\n",
              "        [1, 0],\n",
              "        ...,\n",
              "        [1, 0],\n",
              "        [1, 0],\n",
              "        [1, 0]],\n",
              "\n",
              "       [[1, 0],\n",
              "        [1, 0],\n",
              "        [1, 0],\n",
              "        ...,\n",
              "        [1, 0],\n",
              "        [1, 0],\n",
              "        [1, 0]],\n",
              "\n",
              "       [[1, 0],\n",
              "        [1, 0],\n",
              "        [0, 1],\n",
              "        ...,\n",
              "        [0, 1],\n",
              "        [1, 0],\n",
              "        [1, 0]]], dtype=int64)"
            ]
          },
          "execution_count": 57,
          "metadata": {},
          "output_type": "execute_result"
        }
      ],
      "source": [
        "y_test"
      ]
    },
    {
      "cell_type": "code",
      "execution_count": null,
      "id": "ndyI5AuVgaGT",
      "metadata": {
        "id": "ndyI5AuVgaGT"
      },
      "outputs": [],
      "source": [
        "# data['functionSource'] =  [x.decode('utf-8') for x in data['functionSource'] ]\n",
        "list_tokenized_test = tokenizer.texts_to_sequences(X)\n",
        "x_test = tf.keras.preprocessing.sequence.pad_sequences(list_tokenized_test, \n",
        "                                  maxlen=INPUT_SIZE,\n",
        "                                  padding='post')\n",
        "x_test = x_test.astype(np.int64)"
      ]
    },
    {
      "cell_type": "code",
      "execution_count": null,
      "id": "xd1lPiflAuAU",
      "metadata": {
        "colab": {
          "base_uri": "https://localhost:8080/"
        },
        "id": "xd1lPiflAuAU",
        "outputId": "1a5f2f39-a65d-4942-ebb0-fb688fc5c494",
        "scrolled": true
      },
      "outputs": [
        {
          "data": {
            "text/plain": [
              "array([[  31,   11,  177, ...,    0,    0,    0],\n",
              "       [  31,  245,  781, ...,    0,    0,    0],\n",
              "       [  31,   11,  338, ...,    0,    0,    0],\n",
              "       ...,\n",
              "       [  31,  246,  285, ...,    0,    0,    0],\n",
              "       [  31,   11, 2185, ...,    0,    0,    0],\n",
              "       [  31,    8,  338, ...,    0,    0,    0]], dtype=int64)"
            ]
          },
          "execution_count": 59,
          "metadata": {},
          "output_type": "execute_result"
        }
      ],
      "source": [
        "x_test"
      ]
    },
    {
      "cell_type": "code",
      "execution_count": null,
      "id": "jORTy5DOwAvO",
      "metadata": {
        "colab": {
          "base_uri": "https://localhost:8080/"
        },
        "id": "jORTy5DOwAvO",
        "outputId": "aa942154-db38-4b34-8ffe-92a9c97e31fd",
        "scrolled": true
      },
      "outputs": [
        {
          "data": {
            "text/plain": [
              "array([[[1, 0],\n",
              "        [0, 1],\n",
              "        [1, 0],\n",
              "        ...,\n",
              "        [1, 0],\n",
              "        [0, 1],\n",
              "        [1, 0]],\n",
              "\n",
              "       [[1, 0],\n",
              "        [1, 0],\n",
              "        [1, 0],\n",
              "        ...,\n",
              "        [1, 0],\n",
              "        [1, 0],\n",
              "        [1, 0]],\n",
              "\n",
              "       [[1, 0],\n",
              "        [1, 0],\n",
              "        [1, 0],\n",
              "        ...,\n",
              "        [1, 0],\n",
              "        [1, 0],\n",
              "        [1, 0]],\n",
              "\n",
              "       ...,\n",
              "\n",
              "       [[1, 0],\n",
              "        [1, 0],\n",
              "        [1, 0],\n",
              "        ...,\n",
              "        [1, 0],\n",
              "        [1, 0],\n",
              "        [1, 0]],\n",
              "\n",
              "       [[1, 0],\n",
              "        [1, 0],\n",
              "        [1, 0],\n",
              "        ...,\n",
              "        [1, 0],\n",
              "        [1, 0],\n",
              "        [1, 0]],\n",
              "\n",
              "       [[1, 0],\n",
              "        [1, 0],\n",
              "        [0, 1],\n",
              "        ...,\n",
              "        [0, 1],\n",
              "        [1, 0],\n",
              "        [1, 0]]], dtype=int64)"
            ]
          },
          "execution_count": 60,
          "metadata": {},
          "output_type": "execute_result"
        }
      ],
      "source": [
        "y_test"
      ]
    },
    {
      "cell_type": "code",
      "execution_count": null,
      "id": "d09abfc7",
      "metadata": {
        "id": "d09abfc7"
      },
      "outputs": [],
      "source": [
        "# Load model\n",
        "model = tf.keras.models.load_model(\"svd_1.hdf5\")"
      ]
    },
    {
      "cell_type": "code",
      "execution_count": null,
      "id": "6bd5e88e",
      "metadata": {
        "colab": {
          "base_uri": "https://localhost:8080/",
          "height": 397
        },
        "id": "6bd5e88e",
        "outputId": "ed61e9c9-11dd-4062-cf2a-196ea6a56292"
      },
      "outputs": [
        {
          "ename": "TypeError",
          "evalue": "Invalid keyword arguments: ['y_test']",
          "output_type": "error",
          "traceback": [
            "\u001b[1;31m---------------------------------------------------------------------------\u001b[0m",
            "\u001b[1;31mTypeError\u001b[0m                                 Traceback (most recent call last)",
            "Cell \u001b[1;32mIn[45], line 1\u001b[0m\n\u001b[1;32m----> 1\u001b[0m results \u001b[38;5;241m=\u001b[39m \u001b[43mmodel\u001b[49m\u001b[38;5;241;43m.\u001b[39;49m\u001b[43mevaluate\u001b[49m\u001b[43m(\u001b[49m\u001b[43mx_test\u001b[49m\u001b[43m,\u001b[49m\u001b[43m \u001b[49m\u001b[43my_test\u001b[49m\u001b[43m \u001b[49m\u001b[38;5;241;43m=\u001b[39;49m\u001b[43m \u001b[49m\u001b[43m[\u001b[49m\u001b[43my_test\u001b[49m\u001b[43m[\u001b[49m\u001b[38;5;241;43m0\u001b[39;49m\u001b[43m]\u001b[49m\u001b[43m,\u001b[49m\u001b[43my_test\u001b[49m\u001b[43m[\u001b[49m\u001b[38;5;241;43m1\u001b[39;49m\u001b[43m]\u001b[49m\u001b[43m,\u001b[49m\u001b[43my_test\u001b[49m\u001b[43m[\u001b[49m\u001b[38;5;241;43m2\u001b[39;49m\u001b[43m]\u001b[49m\u001b[43m,\u001b[49m\u001b[43my_test\u001b[49m\u001b[43m[\u001b[49m\u001b[38;5;241;43m3\u001b[39;49m\u001b[43m]\u001b[49m\u001b[43m,\u001b[49m\u001b[43my_test\u001b[49m\u001b[43m[\u001b[49m\u001b[38;5;241;43m4\u001b[39;49m\u001b[43m]\u001b[49m\u001b[43m]\u001b[49m\u001b[43m,\u001b[49m\u001b[43m \u001b[49m\u001b[43mbatch_size\u001b[49m\u001b[38;5;241;43m=\u001b[39;49m\u001b[38;5;241;43m128\u001b[39;49m\u001b[43m)\u001b[49m\n\u001b[0;32m      2\u001b[0m \u001b[38;5;28;01mfor\u001b[39;00m num \u001b[38;5;129;01min\u001b[39;00m \u001b[38;5;28mrange\u001b[39m(\u001b[38;5;241m0\u001b[39m,\u001b[38;5;28mlen\u001b[39m(model\u001b[38;5;241m.\u001b[39mmetrics_names)):\n\u001b[0;32m      3\u001b[0m     \u001b[38;5;28mprint\u001b[39m(model\u001b[38;5;241m.\u001b[39mmetrics_names[num]\u001b[38;5;241m+\u001b[39m\u001b[38;5;124m'\u001b[39m\u001b[38;5;124m: \u001b[39m\u001b[38;5;124m'\u001b[39m\u001b[38;5;241m+\u001b[39m\u001b[38;5;28mstr\u001b[39m(results[num]))\n",
            "File \u001b[1;32mD:\\anaconda\\lib\\site-packages\\keras\\utils\\traceback_utils.py:70\u001b[0m, in \u001b[0;36mfilter_traceback.<locals>.error_handler\u001b[1;34m(*args, **kwargs)\u001b[0m\n\u001b[0;32m     67\u001b[0m     filtered_tb \u001b[38;5;241m=\u001b[39m _process_traceback_frames(e\u001b[38;5;241m.\u001b[39m__traceback__)\n\u001b[0;32m     68\u001b[0m     \u001b[38;5;66;03m# To get the full stack trace, call:\u001b[39;00m\n\u001b[0;32m     69\u001b[0m     \u001b[38;5;66;03m# `tf.debugging.disable_traceback_filtering()`\u001b[39;00m\n\u001b[1;32m---> 70\u001b[0m     \u001b[38;5;28;01mraise\u001b[39;00m e\u001b[38;5;241m.\u001b[39mwith_traceback(filtered_tb) \u001b[38;5;28;01mfrom\u001b[39;00m \u001b[38;5;28mNone\u001b[39m\n\u001b[0;32m     71\u001b[0m \u001b[38;5;28;01mfinally\u001b[39;00m:\n\u001b[0;32m     72\u001b[0m     \u001b[38;5;28;01mdel\u001b[39;00m filtered_tb\n",
            "File \u001b[1;32mD:\\anaconda\\lib\\site-packages\\keras\\engine\\training.py:1981\u001b[0m, in \u001b[0;36mModel.evaluate\u001b[1;34m(self, x, y, batch_size, verbose, sample_weight, steps, callbacks, max_queue_size, workers, use_multiprocessing, return_dict, **kwargs)\u001b[0m\n\u001b[0;32m   1979\u001b[0m use_cached_eval_dataset \u001b[38;5;241m=\u001b[39m kwargs\u001b[38;5;241m.\u001b[39mpop(\u001b[38;5;124m\"\u001b[39m\u001b[38;5;124m_use_cached_eval_dataset\u001b[39m\u001b[38;5;124m\"\u001b[39m, \u001b[38;5;28;01mFalse\u001b[39;00m)\n\u001b[0;32m   1980\u001b[0m \u001b[38;5;28;01mif\u001b[39;00m kwargs:\n\u001b[1;32m-> 1981\u001b[0m     \u001b[38;5;28;01mraise\u001b[39;00m \u001b[38;5;167;01mTypeError\u001b[39;00m(\u001b[38;5;124mf\u001b[39m\u001b[38;5;124m\"\u001b[39m\u001b[38;5;124mInvalid keyword arguments: \u001b[39m\u001b[38;5;132;01m{\u001b[39;00m\u001b[38;5;28mlist\u001b[39m(kwargs\u001b[38;5;241m.\u001b[39mkeys())\u001b[38;5;132;01m}\u001b[39;00m\u001b[38;5;124m\"\u001b[39m)\n\u001b[0;32m   1983\u001b[0m \u001b[38;5;28;01mif\u001b[39;00m \u001b[38;5;28mself\u001b[39m\u001b[38;5;241m.\u001b[39mdistribute_strategy\u001b[38;5;241m.\u001b[39m_should_use_with_coordinator:\n\u001b[0;32m   1984\u001b[0m     \u001b[38;5;28mself\u001b[39m\u001b[38;5;241m.\u001b[39m_cluster_coordinator \u001b[38;5;241m=\u001b[39m (\n\u001b[0;32m   1985\u001b[0m         tf\u001b[38;5;241m.\u001b[39mdistribute\u001b[38;5;241m.\u001b[39mexperimental\u001b[38;5;241m.\u001b[39mcoordinator\u001b[38;5;241m.\u001b[39mClusterCoordinator(\n\u001b[0;32m   1986\u001b[0m             \u001b[38;5;28mself\u001b[39m\u001b[38;5;241m.\u001b[39mdistribute_strategy\n\u001b[0;32m   1987\u001b[0m         )\n\u001b[0;32m   1988\u001b[0m     )\n",
            "\u001b[1;31mTypeError\u001b[0m: Invalid keyword arguments: ['y_test']"
          ]
        }
      ],
      "source": [
        "results = model.evaluate(x_test, y_test = [y_test[0],y_test[1],y_test[2],y_test[3],y_test[4]], batch_size=128)\n",
        "for num in range(0,len(model.metrics_names)):\n",
        "    print(model.metrics_names[num]+': '+str(results[num]))"
      ]
    },
    {
      "cell_type": "code",
      "execution_count": null,
      "id": "d8c341c7",
      "metadata": {
        "colab": {
          "base_uri": "https://localhost:8080/"
        },
        "id": "d8c341c7",
        "outputId": "893b8a4b-ce62-49f5-8bd5-dbe0eb19d1cb"
      },
      "outputs": [
        {
          "name": "stdout",
          "output_type": "stream",
          "text": [
            "261/261 [==============================] - 5s 13ms/step\n"
          ]
        }
      ],
      "source": [
        "predicted = model.predict(x_test)"
      ]
    },
    {
      "cell_type": "code",
      "execution_count": null,
      "id": "HPfESY0UwK4D",
      "metadata": {
        "id": "HPfESY0UwK4D"
      },
      "outputs": [],
      "source": [
        "from sklearn.metrics import confusion_matrix"
      ]
    },
    {
      "cell_type": "code",
      "execution_count": null,
      "id": "OImnXimCwnZr",
      "metadata": {
        "colab": {
          "base_uri": "https://localhost:8080/"
        },
        "id": "OImnXimCwnZr",
        "outputId": "8179a210-a1dd-44ce-cd8d-d40a83a7cd49"
      },
      "outputs": [
        {
          "data": {
            "text/plain": [
              "array([[0, 1],\n",
              "       [1, 0],\n",
              "       [1, 0],\n",
              "       ...,\n",
              "       [1, 0],\n",
              "       [0, 1],\n",
              "       [1, 0]])"
            ]
          },
          "execution_count": 73,
          "metadata": {},
          "output_type": "execute_result"
        }
      ],
      "source": [
        "y_test[0]"
      ]
    },
    {
      "cell_type": "code",
      "execution_count": null,
      "id": "W-W0h1ho-ukC",
      "metadata": {
        "colab": {
          "base_uri": "https://localhost:8080/",
          "height": 424
        },
        "id": "W-W0h1ho-ukC",
        "outputId": "20a1f20b-7199-4661-a372-c60808697ef6"
      },
      "outputs": [
        {
          "data": {
            "text/html": [
              "\n",
              "  <div id=\"df-175e56d9-57e0-4670-b003-afd89a99e025\">\n",
              "    <div class=\"colab-df-container\">\n",
              "      <div>\n",
              "<style scoped>\n",
              "    .dataframe tbody tr th:only-of-type {\n",
              "        vertical-align: middle;\n",
              "    }\n",
              "\n",
              "    .dataframe tbody tr th {\n",
              "        vertical-align: top;\n",
              "    }\n",
              "\n",
              "    .dataframe thead th {\n",
              "        text-align: right;\n",
              "    }\n",
              "</style>\n",
              "<table border=\"1\" class=\"dataframe\">\n",
              "  <thead>\n",
              "    <tr style=\"text-align: right;\">\n",
              "      <th></th>\n",
              "      <th>CWE-119</th>\n",
              "      <th>CWE-120</th>\n",
              "      <th>CWE-469</th>\n",
              "      <th>CWE-476</th>\n",
              "      <th>CWE-other</th>\n",
              "      <th>functionSource</th>\n",
              "    </tr>\n",
              "  </thead>\n",
              "  <tbody>\n",
              "    <tr>\n",
              "      <th>6185</th>\n",
              "      <td>1</td>\n",
              "      <td>1</td>\n",
              "      <td>0</td>\n",
              "      <td>0</td>\n",
              "      <td>0</td>\n",
              "      <td>b'_compare_ints(_cs_io_t         *inp1,\\n     ...</td>\n",
              "    </tr>\n",
              "    <tr>\n",
              "      <th>5506</th>\n",
              "      <td>0</td>\n",
              "      <td>0</td>\n",
              "      <td>0</td>\n",
              "      <td>0</td>\n",
              "      <td>1</td>\n",
              "      <td>b'fits_write_header(const qfits_header* hdr, c...</td>\n",
              "    </tr>\n",
              "    <tr>\n",
              "      <th>1201</th>\n",
              "      <td>0</td>\n",
              "      <td>1</td>\n",
              "      <td>0</td>\n",
              "      <td>0</td>\n",
              "      <td>0</td>\n",
              "      <td>b'server_unlink (rpcsvc_request_t *req)\\n{\\n  ...</td>\n",
              "    </tr>\n",
              "    <tr>\n",
              "      <th>3064</th>\n",
              "      <td>1</td>\n",
              "      <td>1</td>\n",
              "      <td>0</td>\n",
              "      <td>0</td>\n",
              "      <td>0</td>\n",
              "      <td>b\"hexdump(unsigned char *s, unsigned long l)\\n...</td>\n",
              "    </tr>\n",
              "    <tr>\n",
              "      <th>1077</th>\n",
              "      <td>0</td>\n",
              "      <td>0</td>\n",
              "      <td>0</td>\n",
              "      <td>0</td>\n",
              "      <td>1</td>\n",
              "      <td>b'GLESendSocket(const string&amp; commands) {\\n#if...</td>\n",
              "    </tr>\n",
              "    <tr>\n",
              "      <th>...</th>\n",
              "      <td>...</td>\n",
              "      <td>...</td>\n",
              "      <td>...</td>\n",
              "      <td>...</td>\n",
              "      <td>...</td>\n",
              "      <td>...</td>\n",
              "    </tr>\n",
              "    <tr>\n",
              "      <th>1727</th>\n",
              "      <td>0</td>\n",
              "      <td>0</td>\n",
              "      <td>0</td>\n",
              "      <td>1</td>\n",
              "      <td>0</td>\n",
              "      <td>b'qpol_constraint_get_perm_iter(const qpol_pol...</td>\n",
              "    </tr>\n",
              "    <tr>\n",
              "      <th>5756</th>\n",
              "      <td>0</td>\n",
              "      <td>1</td>\n",
              "      <td>0</td>\n",
              "      <td>0</td>\n",
              "      <td>1</td>\n",
              "      <td>b'main(int argc, char ** argv)\\n{\\n  dxml_elem...</td>\n",
              "    </tr>\n",
              "    <tr>\n",
              "      <th>5697</th>\n",
              "      <td>0</td>\n",
              "      <td>1</td>\n",
              "      <td>0</td>\n",
              "      <td>0</td>\n",
              "      <td>0</td>\n",
              "      <td>b\"cob_move_alphanum_to_alphanum (cob_field *f1...</td>\n",
              "    </tr>\n",
              "    <tr>\n",
              "      <th>8159</th>\n",
              "      <td>1</td>\n",
              "      <td>1</td>\n",
              "      <td>0</td>\n",
              "      <td>0</td>\n",
              "      <td>0</td>\n",
              "      <td>b'git_path_find_dir(git_buf *dir, const char *...</td>\n",
              "    </tr>\n",
              "    <tr>\n",
              "      <th>3391</th>\n",
              "      <td>0</td>\n",
              "      <td>0</td>\n",
              "      <td>0</td>\n",
              "      <td>0</td>\n",
              "      <td>1</td>\n",
              "      <td>b'infix_show_object(zword object)\\n{\\n  const ...</td>\n",
              "    </tr>\n",
              "  </tbody>\n",
              "</table>\n",
              "<p>8322 rows × 6 columns</p>\n",
              "</div>\n",
              "      <button class=\"colab-df-convert\" onclick=\"convertToInteractive('df-175e56d9-57e0-4670-b003-afd89a99e025')\"\n",
              "              title=\"Convert this dataframe to an interactive table.\"\n",
              "              style=\"display:none;\">\n",
              "        \n",
              "  <svg xmlns=\"http://www.w3.org/2000/svg\" height=\"24px\"viewBox=\"0 0 24 24\"\n",
              "       width=\"24px\">\n",
              "    <path d=\"M0 0h24v24H0V0z\" fill=\"none\"/>\n",
              "    <path d=\"M18.56 5.44l.94 2.06.94-2.06 2.06-.94-2.06-.94-.94-2.06-.94 2.06-2.06.94zm-11 1L8.5 8.5l.94-2.06 2.06-.94-2.06-.94L8.5 2.5l-.94 2.06-2.06.94zm10 10l.94 2.06.94-2.06 2.06-.94-2.06-.94-.94-2.06-.94 2.06-2.06.94z\"/><path d=\"M17.41 7.96l-1.37-1.37c-.4-.4-.92-.59-1.43-.59-.52 0-1.04.2-1.43.59L10.3 9.45l-7.72 7.72c-.78.78-.78 2.05 0 2.83L4 21.41c.39.39.9.59 1.41.59.51 0 1.02-.2 1.41-.59l7.78-7.78 2.81-2.81c.8-.78.8-2.07 0-2.86zM5.41 20L4 18.59l7.72-7.72 1.47 1.35L5.41 20z\"/>\n",
              "  </svg>\n",
              "      </button>\n",
              "      \n",
              "  <style>\n",
              "    .colab-df-container {\n",
              "      display:flex;\n",
              "      flex-wrap:wrap;\n",
              "      gap: 12px;\n",
              "    }\n",
              "\n",
              "    .colab-df-convert {\n",
              "      background-color: #E8F0FE;\n",
              "      border: none;\n",
              "      border-radius: 50%;\n",
              "      cursor: pointer;\n",
              "      display: none;\n",
              "      fill: #1967D2;\n",
              "      height: 32px;\n",
              "      padding: 0 0 0 0;\n",
              "      width: 32px;\n",
              "    }\n",
              "\n",
              "    .colab-df-convert:hover {\n",
              "      background-color: #E2EBFA;\n",
              "      box-shadow: 0px 1px 2px rgba(60, 64, 67, 0.3), 0px 1px 3px 1px rgba(60, 64, 67, 0.15);\n",
              "      fill: #174EA6;\n",
              "    }\n",
              "\n",
              "    [theme=dark] .colab-df-convert {\n",
              "      background-color: #3B4455;\n",
              "      fill: #D2E3FC;\n",
              "    }\n",
              "\n",
              "    [theme=dark] .colab-df-convert:hover {\n",
              "      background-color: #434B5C;\n",
              "      box-shadow: 0px 1px 3px 1px rgba(0, 0, 0, 0.15);\n",
              "      filter: drop-shadow(0px 1px 2px rgba(0, 0, 0, 0.3));\n",
              "      fill: #FFFFFF;\n",
              "    }\n",
              "  </style>\n",
              "\n",
              "      <script>\n",
              "        const buttonEl =\n",
              "          document.querySelector('#df-175e56d9-57e0-4670-b003-afd89a99e025 button.colab-df-convert');\n",
              "        buttonEl.style.display =\n",
              "          google.colab.kernel.accessAllowed ? 'block' : 'none';\n",
              "\n",
              "        async function convertToInteractive(key) {\n",
              "          const element = document.querySelector('#df-175e56d9-57e0-4670-b003-afd89a99e025');\n",
              "          const dataTable =\n",
              "            await google.colab.kernel.invokeFunction('convertToInteractive',\n",
              "                                                     [key], {});\n",
              "          if (!dataTable) return;\n",
              "\n",
              "          const docLinkHtml = 'Like what you see? Visit the ' +\n",
              "            '<a target=\"_blank\" href=https://colab.research.google.com/notebooks/data_table.ipynb>data table notebook</a>'\n",
              "            + ' to learn more about interactive tables.';\n",
              "          element.innerHTML = '';\n",
              "          dataTable['output_type'] = 'display_data';\n",
              "          await google.colab.output.renderOutput(dataTable, element);\n",
              "          const docLink = document.createElement('div');\n",
              "          docLink.innerHTML = docLinkHtml;\n",
              "          element.appendChild(docLink);\n",
              "        }\n",
              "      </script>\n",
              "    </div>\n",
              "  </div>\n",
              "  "
            ],
            "text/plain": [
              "      CWE-119  CWE-120  CWE-469  CWE-476  CWE-other  \\\n",
              "6185        1        1        0        0          0   \n",
              "5506        0        0        0        0          1   \n",
              "1201        0        1        0        0          0   \n",
              "3064        1        1        0        0          0   \n",
              "1077        0        0        0        0          1   \n",
              "...       ...      ...      ...      ...        ...   \n",
              "1727        0        0        0        1          0   \n",
              "5756        0        1        0        0          1   \n",
              "5697        0        1        0        0          0   \n",
              "8159        1        1        0        0          0   \n",
              "3391        0        0        0        0          1   \n",
              "\n",
              "                                         functionSource  \n",
              "6185  b'_compare_ints(_cs_io_t         *inp1,\\n     ...  \n",
              "5506  b'fits_write_header(const qfits_header* hdr, c...  \n",
              "1201  b'server_unlink (rpcsvc_request_t *req)\\n{\\n  ...  \n",
              "3064  b\"hexdump(unsigned char *s, unsigned long l)\\n...  \n",
              "1077  b'GLESendSocket(const string& commands) {\\n#if...  \n",
              "...                                                 ...  \n",
              "1727  b'qpol_constraint_get_perm_iter(const qpol_pol...  \n",
              "5756  b'main(int argc, char ** argv)\\n{\\n  dxml_elem...  \n",
              "5697  b\"cob_move_alphanum_to_alphanum (cob_field *f1...  \n",
              "8159  b'git_path_find_dir(git_buf *dir, const char *...  \n",
              "3391  b'infix_show_object(zword object)\\n{\\n  const ...  \n",
              "\n",
              "[8322 rows x 6 columns]"
            ]
          },
          "execution_count": 76,
          "metadata": {},
          "output_type": "execute_result"
        }
      ],
      "source": [
        "data_test"
      ]
    },
    {
      "cell_type": "code",
      "execution_count": null,
      "id": "oxIKbmy0wbke",
      "metadata": {
        "colab": {
          "base_uri": "https://localhost:8080/"
        },
        "id": "oxIKbmy0wbke",
        "outputId": "5ba8e87a-efd6-4c08-9a5a-c3eaf880233f"
      },
      "outputs": [
        {
          "name": "stdout",
          "output_type": "stream",
          "text": [
            "261/261 [==============================] - 4s 13ms/step - loss: 4.6806 - dense_2_loss: 0.9708 - dense_3_loss: 1.2906 - dense_4_loss: 0.3931 - dense_5_loss: 0.7554 - dense_6_loss: 1.2708 - dense_2_accuracy: 0.8765 - dense_3_accuracy: 0.8425 - dense_4_accuracy: 0.9637 - dense_5_accuracy: 0.9136 - dense_6_accuracy: 0.8128\n"
          ]
        },
        {
          "data": {
            "text/plain": [
              "[4.680647850036621,\n",
              " 0.9707695245742798,\n",
              " 1.2905772924423218,\n",
              " 0.39306971430778503,\n",
              " 0.7554128766059875,\n",
              " 1.270817756652832,\n",
              " 0.876471996307373,\n",
              " 0.8424657583236694,\n",
              " 0.9637106657028198,\n",
              " 0.9136024713516235,\n",
              " 0.8127853870391846]"
            ]
          },
          "execution_count": 47,
          "metadata": {},
          "output_type": "execute_result"
        }
      ],
      "source": [
        "model.evaluate(x_test,y = [y_test[0],y_test[1],y_test[2],y_test[3],y_test[4]])"
      ]
    },
    {
      "cell_type": "code",
      "execution_count": null,
      "id": "dafb9ac9",
      "metadata": {
        "id": "dafb9ac9"
      },
      "outputs": [],
      "source": [
        "model.save('vuldet.h5')"
      ]
    },
    {
      "cell_type": "code",
      "execution_count": null,
      "id": "efd57068",
      "metadata": {
        "id": "efd57068"
      },
      "outputs": [],
      "source": [
        "model = tf.keras.models.load_model(\"vuldet\")"
      ]
    },
    {
      "cell_type": "code",
      "execution_count": null,
      "id": "baf64ef6",
      "metadata": {
        "scrolled": true,
        "id": "baf64ef6",
        "outputId": "13c9d177-dea5-4ef3-d091-549894c52267"
      },
      "outputs": [
        {
          "name": "stdout",
          "output_type": "stream",
          "text": [
            "\n",
            "This is evaluation for column 1\n"
          ]
        },
        {
          "ename": "NameError",
          "evalue": "name 'test' is not defined",
          "output_type": "error",
          "traceback": [
            "\u001b[1;31m---------------------------------------------------------------------------\u001b[0m",
            "\u001b[1;31mNameError\u001b[0m                                 Traceback (most recent call last)",
            "Cell \u001b[1;32mIn[7], line 3\u001b[0m\n\u001b[0;32m      1\u001b[0m \u001b[38;5;28;01mfor\u001b[39;00m col \u001b[38;5;129;01min\u001b[39;00m \u001b[38;5;28mrange\u001b[39m(\u001b[38;5;241m1\u001b[39m,\u001b[38;5;241m6\u001b[39m):\n\u001b[0;32m      2\u001b[0m     \u001b[38;5;28mprint\u001b[39m(\u001b[38;5;124m'\u001b[39m\u001b[38;5;130;01m\\n\u001b[39;00m\u001b[38;5;124mThis is evaluation for column\u001b[39m\u001b[38;5;124m'\u001b[39m,col)\n\u001b[1;32m----> 3\u001b[0m     confusion \u001b[38;5;241m=\u001b[39m sklearn\u001b[38;5;241m.\u001b[39mmetrics\u001b[38;5;241m.\u001b[39mconfusion_matrix(y_train\u001b[38;5;241m=\u001b[39m\u001b[43mtest\u001b[49m\u001b[38;5;241m.\u001b[39miloc[:,col]\u001b[38;5;241m.\u001b[39mto_numpy(), y_pred\u001b[38;5;241m=\u001b[39mpredicted[col\u001b[38;5;241m-\u001b[39m\u001b[38;5;241m1\u001b[39m])\n\u001b[0;32m      4\u001b[0m     \u001b[38;5;28mprint\u001b[39m(confusion)\n\u001b[0;32m      5\u001b[0m     tn, fp, fn, tp \u001b[38;5;241m=\u001b[39m confusion\u001b[38;5;241m.\u001b[39mravel()\n",
            "\u001b[1;31mNameError\u001b[0m: name 'test' is not defined"
          ]
        }
      ],
      "source": [
        "\n",
        "for col in range(1,6):\n",
        "    print('\\nThis is evaluation for column',col)\n",
        "    confusion = sklearn.metrics.confusion_matrix(y_train=test.iloc[:,col].to_numpy(), y_pred=predicted[col-1])\n",
        "    print(confusion)\n",
        "    tn, fp, fn, tp = confusion.ravel()\n",
        "    print('\\nTP:',tp)\n",
        "    print('FP:',fp)\n",
        "    print('TN:',tn)\n",
        "    print('FN:',fn)\n",
        "\n",
        "    ## Performance measure\n",
        "#     print('\\nAccuracy: '+ str(sklearn.metrics.accuracy_score(y_true=test.iloc[:,col].to_numpy(), y_pred=pred_test[col-1])))\n",
        "#     print('Precision: '+ str(sklearn.metrics.precision_score(y_true=test.iloc[:,col].to_numpy(), y_pred=pred_test[col-1])))\n",
        "#     print('Recall: '+ str(sklearn.metrics.recall_score(y_true=test.iloc[:,col].to_numpy(), y_pred=pred_test[col-1])))\n",
        "#     print('F-measure: '+ str(sklearn.metrics.f1_score(y_true=test.iloc[:,col].to_numpy(), y_pred=pred_test[col-1])))\n",
        "#     print('Precision-Recall AUC: '+ str(sklearn.metrics.average_precision_score(y_true=test.iloc[:,col].to_numpy(), y_score=predicted[col-1][:,1])))\n",
        "#     print('AUC: '+ str(sklearn.metrics.roc_auc_score(y_true=test.iloc[:,col].to_numpy(), y_score=predicted[col-1][:,1])))\n",
        "#     print('MCC: '+ str(sklearn.metrics.matthews_corrcoef(y_true=test.iloc[:,col].to_numpy(), y_pred=pred_test[col-1])))"
      ]
    },
    {
      "cell_type": "code",
      "execution_count": null,
      "id": "c6aae431",
      "metadata": {
        "id": "c6aae431"
      },
      "outputs": [],
      "source": []
    }
  ],
  "metadata": {
    "accelerator": "GPU",
    "colab": {
      "provenance": []
    },
    "gpuClass": "standard",
    "kernelspec": {
      "display_name": "Python 3 (ipykernel)",
      "language": "python",
      "name": "python3"
    },
    "language_info": {
      "codemirror_mode": {
        "name": "ipython",
        "version": 3
      },
      "file_extension": ".py",
      "mimetype": "text/x-python",
      "name": "python",
      "nbconvert_exporter": "python",
      "pygments_lexer": "ipython3",
      "version": "3.9.16"
    }
  },
  "nbformat": 4,
  "nbformat_minor": 5
}